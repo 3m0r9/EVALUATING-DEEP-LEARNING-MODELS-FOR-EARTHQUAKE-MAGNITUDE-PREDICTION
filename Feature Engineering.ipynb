{
 "cells": [
  {
   "metadata": {},
   "cell_type": "markdown",
   "source": "# 1. Time-Based Features",
   "id": "5a022e7955898bde"
  },
  {
   "metadata": {
    "ExecuteTime": {
     "end_time": "2024-11-16T11:24:50.731648Z",
     "start_time": "2024-11-16T11:24:50.577654Z"
    }
   },
   "cell_type": "code",
   "source": [
    "# Import libraries\n",
    "import pandas as pd\n",
    "\n",
    "# Load the datasets\n",
    "jma_df = pd.read_csv('JMA_cleaned.csv')\n",
    "bmkg_df = pd.read_csv('BMKG_cleaned.csv')\n",
    "\n",
    "# show the first 5 rows of the JMA dataset\n",
    "jma_df.head()\n",
    "\n",
    "# show the first 5 rows of the BMKG dataset\n",
    "#bmkg_df.head()"
   ],
   "id": "c4db3336f5594bb0",
   "outputs": [
    {
     "data": {
      "text/plain": [
       "    Latitude   Longitude  Depth  Magnitude             Datetime\n",
       "0  35.338333  133.211667     12        3.6  1985-12-31 02:26:48\n",
       "1  36.406667  140.696667     55        3.3  1985-12-30 19:11:46\n",
       "2  37.210000  139.936667      6        3.5  1985-12-30 15:56:17\n",
       "3  27.968333  129.665000      0        4.2  1985-12-30 15:20:15\n",
       "4  42.888333  145.445000     35        3.7  1985-12-29 09:22:20"
      ],
      "text/html": [
       "<div>\n",
       "<style scoped>\n",
       "    .dataframe tbody tr th:only-of-type {\n",
       "        vertical-align: middle;\n",
       "    }\n",
       "\n",
       "    .dataframe tbody tr th {\n",
       "        vertical-align: top;\n",
       "    }\n",
       "\n",
       "    .dataframe thead th {\n",
       "        text-align: right;\n",
       "    }\n",
       "</style>\n",
       "<table border=\"1\" class=\"dataframe\">\n",
       "  <thead>\n",
       "    <tr style=\"text-align: right;\">\n",
       "      <th></th>\n",
       "      <th>Latitude</th>\n",
       "      <th>Longitude</th>\n",
       "      <th>Depth</th>\n",
       "      <th>Magnitude</th>\n",
       "      <th>Datetime</th>\n",
       "    </tr>\n",
       "  </thead>\n",
       "  <tbody>\n",
       "    <tr>\n",
       "      <th>0</th>\n",
       "      <td>35.338333</td>\n",
       "      <td>133.211667</td>\n",
       "      <td>12</td>\n",
       "      <td>3.6</td>\n",
       "      <td>1985-12-31 02:26:48</td>\n",
       "    </tr>\n",
       "    <tr>\n",
       "      <th>1</th>\n",
       "      <td>36.406667</td>\n",
       "      <td>140.696667</td>\n",
       "      <td>55</td>\n",
       "      <td>3.3</td>\n",
       "      <td>1985-12-30 19:11:46</td>\n",
       "    </tr>\n",
       "    <tr>\n",
       "      <th>2</th>\n",
       "      <td>37.210000</td>\n",
       "      <td>139.936667</td>\n",
       "      <td>6</td>\n",
       "      <td>3.5</td>\n",
       "      <td>1985-12-30 15:56:17</td>\n",
       "    </tr>\n",
       "    <tr>\n",
       "      <th>3</th>\n",
       "      <td>27.968333</td>\n",
       "      <td>129.665000</td>\n",
       "      <td>0</td>\n",
       "      <td>4.2</td>\n",
       "      <td>1985-12-30 15:20:15</td>\n",
       "    </tr>\n",
       "    <tr>\n",
       "      <th>4</th>\n",
       "      <td>42.888333</td>\n",
       "      <td>145.445000</td>\n",
       "      <td>35</td>\n",
       "      <td>3.7</td>\n",
       "      <td>1985-12-29 09:22:20</td>\n",
       "    </tr>\n",
       "  </tbody>\n",
       "</table>\n",
       "</div>"
      ]
     },
     "execution_count": 18,
     "metadata": {},
     "output_type": "execute_result"
    }
   ],
   "execution_count": 18
  },
  {
   "metadata": {
    "ExecuteTime": {
     "end_time": "2024-11-16T11:24:55.765269Z",
     "start_time": "2024-11-16T11:24:55.715937Z"
    }
   },
   "cell_type": "code",
   "source": [
    "# Convert 'Datetime' column to datetime format\n",
    "jma_df['Datetime'] = pd.to_datetime(jma_df['Datetime'], errors='coerce')\n",
    "bmkg_df['Datetime'] = pd.to_datetime(bmkg_df['Datetime'], errors='coerce')"
   ],
   "id": "c6f30a11e1579843",
   "outputs": [],
   "execution_count": 19
  },
  {
   "metadata": {
    "ExecuteTime": {
     "end_time": "2024-11-16T11:24:56.276549Z",
     "start_time": "2024-11-16T11:24:56.256771Z"
    }
   },
   "cell_type": "code",
   "source": [
    "print(jma_df['Datetime'].head())\n",
    "print(bmkg_df['Datetime'].head())"
   ],
   "id": "eac259b42f9c9e4d",
   "outputs": [
    {
     "name": "stdout",
     "output_type": "stream",
     "text": [
      "0   1985-12-31 02:26:48\n",
      "1   1985-12-30 19:11:46\n",
      "2   1985-12-30 15:56:17\n",
      "3   1985-12-30 15:20:15\n",
      "4   1985-12-29 09:22:20\n",
      "Name: Datetime, dtype: datetime64[ns]\n",
      "0   2008-11-01 21:02:43.058\n",
      "1   2008-11-01 20:58:50.248\n",
      "2   2008-11-01 17:43:12.941\n",
      "3   2008-11-01 16:24:14.755\n",
      "4   2008-11-01 16:20:37.327\n",
      "Name: Datetime, dtype: datetime64[ns]\n"
     ]
    }
   ],
   "execution_count": 20
  },
  {
   "cell_type": "code",
   "id": "9953906ec0716d1d",
   "metadata": {
    "ExecuteTime": {
     "end_time": "2024-11-16T11:24:57.199076Z",
     "start_time": "2024-11-16T11:24:57.157168Z"
    }
   },
   "source": [
    "# Extract Year, Month, Day, Day of the Week, and Hour from the Datetime column.\n",
    "jma_df['Year'] = jma_df['Datetime'].dt.year\n",
    "jma_df['Month'] = jma_df['Datetime'].dt.month\n",
    "jma_df['Day'] = jma_df['Datetime'].dt.day\n",
    "jma_df['DayOfWeek'] = jma_df['Datetime'].dt.dayofweek\n",
    "jma_df['Hour'] = jma_df['Datetime'].dt.hour\n",
    "jma_df.head()"
   ],
   "outputs": [
    {
     "data": {
      "text/plain": [
       "    Latitude   Longitude  Depth  Magnitude            Datetime  Year  Month  \\\n",
       "0  35.338333  133.211667     12        3.6 1985-12-31 02:26:48  1985     12   \n",
       "1  36.406667  140.696667     55        3.3 1985-12-30 19:11:46  1985     12   \n",
       "2  37.210000  139.936667      6        3.5 1985-12-30 15:56:17  1985     12   \n",
       "3  27.968333  129.665000      0        4.2 1985-12-30 15:20:15  1985     12   \n",
       "4  42.888333  145.445000     35        3.7 1985-12-29 09:22:20  1985     12   \n",
       "\n",
       "   Day  DayOfWeek  Hour  \n",
       "0   31          1     2  \n",
       "1   30          0    19  \n",
       "2   30          0    15  \n",
       "3   30          0    15  \n",
       "4   29          6     9  "
      ],
      "text/html": [
       "<div>\n",
       "<style scoped>\n",
       "    .dataframe tbody tr th:only-of-type {\n",
       "        vertical-align: middle;\n",
       "    }\n",
       "\n",
       "    .dataframe tbody tr th {\n",
       "        vertical-align: top;\n",
       "    }\n",
       "\n",
       "    .dataframe thead th {\n",
       "        text-align: right;\n",
       "    }\n",
       "</style>\n",
       "<table border=\"1\" class=\"dataframe\">\n",
       "  <thead>\n",
       "    <tr style=\"text-align: right;\">\n",
       "      <th></th>\n",
       "      <th>Latitude</th>\n",
       "      <th>Longitude</th>\n",
       "      <th>Depth</th>\n",
       "      <th>Magnitude</th>\n",
       "      <th>Datetime</th>\n",
       "      <th>Year</th>\n",
       "      <th>Month</th>\n",
       "      <th>Day</th>\n",
       "      <th>DayOfWeek</th>\n",
       "      <th>Hour</th>\n",
       "    </tr>\n",
       "  </thead>\n",
       "  <tbody>\n",
       "    <tr>\n",
       "      <th>0</th>\n",
       "      <td>35.338333</td>\n",
       "      <td>133.211667</td>\n",
       "      <td>12</td>\n",
       "      <td>3.6</td>\n",
       "      <td>1985-12-31 02:26:48</td>\n",
       "      <td>1985</td>\n",
       "      <td>12</td>\n",
       "      <td>31</td>\n",
       "      <td>1</td>\n",
       "      <td>2</td>\n",
       "    </tr>\n",
       "    <tr>\n",
       "      <th>1</th>\n",
       "      <td>36.406667</td>\n",
       "      <td>140.696667</td>\n",
       "      <td>55</td>\n",
       "      <td>3.3</td>\n",
       "      <td>1985-12-30 19:11:46</td>\n",
       "      <td>1985</td>\n",
       "      <td>12</td>\n",
       "      <td>30</td>\n",
       "      <td>0</td>\n",
       "      <td>19</td>\n",
       "    </tr>\n",
       "    <tr>\n",
       "      <th>2</th>\n",
       "      <td>37.210000</td>\n",
       "      <td>139.936667</td>\n",
       "      <td>6</td>\n",
       "      <td>3.5</td>\n",
       "      <td>1985-12-30 15:56:17</td>\n",
       "      <td>1985</td>\n",
       "      <td>12</td>\n",
       "      <td>30</td>\n",
       "      <td>0</td>\n",
       "      <td>15</td>\n",
       "    </tr>\n",
       "    <tr>\n",
       "      <th>3</th>\n",
       "      <td>27.968333</td>\n",
       "      <td>129.665000</td>\n",
       "      <td>0</td>\n",
       "      <td>4.2</td>\n",
       "      <td>1985-12-30 15:20:15</td>\n",
       "      <td>1985</td>\n",
       "      <td>12</td>\n",
       "      <td>30</td>\n",
       "      <td>0</td>\n",
       "      <td>15</td>\n",
       "    </tr>\n",
       "    <tr>\n",
       "      <th>4</th>\n",
       "      <td>42.888333</td>\n",
       "      <td>145.445000</td>\n",
       "      <td>35</td>\n",
       "      <td>3.7</td>\n",
       "      <td>1985-12-29 09:22:20</td>\n",
       "      <td>1985</td>\n",
       "      <td>12</td>\n",
       "      <td>29</td>\n",
       "      <td>6</td>\n",
       "      <td>9</td>\n",
       "    </tr>\n",
       "  </tbody>\n",
       "</table>\n",
       "</div>"
      ]
     },
     "execution_count": 21,
     "metadata": {},
     "output_type": "execute_result"
    }
   ],
   "execution_count": 21
  },
  {
   "metadata": {
    "collapsed": true,
    "ExecuteTime": {
     "end_time": "2024-11-16T11:24:57.853463Z",
     "start_time": "2024-11-16T11:24:57.814715Z"
    }
   },
   "cell_type": "code",
   "source": [
    "# Repeat for the BMKG dataset\n",
    "bmkg_df['Year'] = bmkg_df['Datetime'].dt.year\n",
    "bmkg_df['Month'] = bmkg_df['Datetime'].dt.month\n",
    "bmkg_df['Day'] = bmkg_df['Datetime'].dt.day\n",
    "bmkg_df['DayOfWeek'] = bmkg_df['Datetime'].dt.dayofweek\n",
    "bmkg_df['Hour'] = bmkg_df['Datetime'].dt.hour\n",
    "bmkg_df.head()"
   ],
   "id": "initial_id",
   "outputs": [
    {
     "data": {
      "text/plain": [
       "   Latitude  Longitude  Depth  Magnitude                Datetime  Year  Month  \\\n",
       "0     -9.18     119.06     10        4.9 2008-11-01 21:02:43.058  2008     11   \n",
       "1     -6.55     129.64     10        4.6 2008-11-01 20:58:50.248  2008     11   \n",
       "2     -7.01     106.63    121        3.7 2008-11-01 17:43:12.941  2008     11   \n",
       "3     -3.30     127.85     10        3.2 2008-11-01 16:24:14.755  2008     11   \n",
       "4     -6.41     129.54     70        4.3 2008-11-01 16:20:37.327  2008     11   \n",
       "\n",
       "   Day  DayOfWeek  Hour  \n",
       "0    1          5    21  \n",
       "1    1          5    20  \n",
       "2    1          5    17  \n",
       "3    1          5    16  \n",
       "4    1          5    16  "
      ],
      "text/html": [
       "<div>\n",
       "<style scoped>\n",
       "    .dataframe tbody tr th:only-of-type {\n",
       "        vertical-align: middle;\n",
       "    }\n",
       "\n",
       "    .dataframe tbody tr th {\n",
       "        vertical-align: top;\n",
       "    }\n",
       "\n",
       "    .dataframe thead th {\n",
       "        text-align: right;\n",
       "    }\n",
       "</style>\n",
       "<table border=\"1\" class=\"dataframe\">\n",
       "  <thead>\n",
       "    <tr style=\"text-align: right;\">\n",
       "      <th></th>\n",
       "      <th>Latitude</th>\n",
       "      <th>Longitude</th>\n",
       "      <th>Depth</th>\n",
       "      <th>Magnitude</th>\n",
       "      <th>Datetime</th>\n",
       "      <th>Year</th>\n",
       "      <th>Month</th>\n",
       "      <th>Day</th>\n",
       "      <th>DayOfWeek</th>\n",
       "      <th>Hour</th>\n",
       "    </tr>\n",
       "  </thead>\n",
       "  <tbody>\n",
       "    <tr>\n",
       "      <th>0</th>\n",
       "      <td>-9.18</td>\n",
       "      <td>119.06</td>\n",
       "      <td>10</td>\n",
       "      <td>4.9</td>\n",
       "      <td>2008-11-01 21:02:43.058</td>\n",
       "      <td>2008</td>\n",
       "      <td>11</td>\n",
       "      <td>1</td>\n",
       "      <td>5</td>\n",
       "      <td>21</td>\n",
       "    </tr>\n",
       "    <tr>\n",
       "      <th>1</th>\n",
       "      <td>-6.55</td>\n",
       "      <td>129.64</td>\n",
       "      <td>10</td>\n",
       "      <td>4.6</td>\n",
       "      <td>2008-11-01 20:58:50.248</td>\n",
       "      <td>2008</td>\n",
       "      <td>11</td>\n",
       "      <td>1</td>\n",
       "      <td>5</td>\n",
       "      <td>20</td>\n",
       "    </tr>\n",
       "    <tr>\n",
       "      <th>2</th>\n",
       "      <td>-7.01</td>\n",
       "      <td>106.63</td>\n",
       "      <td>121</td>\n",
       "      <td>3.7</td>\n",
       "      <td>2008-11-01 17:43:12.941</td>\n",
       "      <td>2008</td>\n",
       "      <td>11</td>\n",
       "      <td>1</td>\n",
       "      <td>5</td>\n",
       "      <td>17</td>\n",
       "    </tr>\n",
       "    <tr>\n",
       "      <th>3</th>\n",
       "      <td>-3.30</td>\n",
       "      <td>127.85</td>\n",
       "      <td>10</td>\n",
       "      <td>3.2</td>\n",
       "      <td>2008-11-01 16:24:14.755</td>\n",
       "      <td>2008</td>\n",
       "      <td>11</td>\n",
       "      <td>1</td>\n",
       "      <td>5</td>\n",
       "      <td>16</td>\n",
       "    </tr>\n",
       "    <tr>\n",
       "      <th>4</th>\n",
       "      <td>-6.41</td>\n",
       "      <td>129.54</td>\n",
       "      <td>70</td>\n",
       "      <td>4.3</td>\n",
       "      <td>2008-11-01 16:20:37.327</td>\n",
       "      <td>2008</td>\n",
       "      <td>11</td>\n",
       "      <td>1</td>\n",
       "      <td>5</td>\n",
       "      <td>16</td>\n",
       "    </tr>\n",
       "  </tbody>\n",
       "</table>\n",
       "</div>"
      ]
     },
     "execution_count": 22,
     "metadata": {},
     "output_type": "execute_result"
    }
   ],
   "execution_count": 22
  },
  {
   "metadata": {},
   "cell_type": "markdown",
   "source": "# 2. Magnitude Category",
   "id": "4a0e51e814504268"
  },
  {
   "metadata": {
    "ExecuteTime": {
     "end_time": "2024-11-16T11:24:58.925123Z",
     "start_time": "2024-11-16T11:24:58.907610Z"
    }
   },
   "cell_type": "code",
   "source": [
    "# Define bins and labels\n",
    "bins = [0, 3, 5, 7, float('inf')]\n",
    "labels = ['Low', 'Moderate', 'High', 'Very High']\n",
    "\n",
    "# Apply to both datasets\n",
    "jma_df['MagnitudeCategory'] = pd.cut(jma_df['Magnitude'], bins=bins, labels=labels)\n",
    "bmkg_df['MagnitudeCategory'] = pd.cut(bmkg_df['Magnitude'], bins=bins, labels=labels)"
   ],
   "id": "9a2efa508bb241c3",
   "outputs": [],
   "execution_count": 23
  },
  {
   "metadata": {},
   "cell_type": "markdown",
   "source": "# 3. Time Difference Between Events",
   "id": "cf6edcea663dc775"
  },
  {
   "metadata": {
    "ExecuteTime": {
     "end_time": "2024-11-16T11:25:00.127978Z",
     "start_time": "2024-11-16T11:25:00.112206Z"
    }
   },
   "cell_type": "code",
   "source": [
    "# Calculate time difference between consecutive events\n",
    "jma_df['TimeDiff'] = jma_df['Datetime'].diff().dt.total_seconds() / 3600  # in hours\n",
    "bmkg_df['TimeDiff'] = bmkg_df['Datetime'].diff().dt.total_seconds() / 3600  # in hours\n",
    "\n",
    "# Fill NaN in the first row with 0 (no previous event to compare)\n",
    "jma_df['TimeDiff'].fillna(0, inplace=True)\n",
    "bmkg_df['TimeDiff'].fillna(0, inplace=True)"
   ],
   "id": "da498b53ab5c0df4",
   "outputs": [],
   "execution_count": 24
  },
  {
   "metadata": {
    "ExecuteTime": {
     "end_time": "2024-11-16T11:25:00.574818Z",
     "start_time": "2024-11-16T11:25:00.550013Z"
    }
   },
   "cell_type": "code",
   "source": [
    "jma_df.head()\n",
    "bmkg_df.head()"
   ],
   "id": "233fbcd519d6e64e",
   "outputs": [
    {
     "data": {
      "text/plain": [
       "   Latitude  Longitude  Depth  Magnitude                Datetime  Year  Month  \\\n",
       "0     -9.18     119.06     10        4.9 2008-11-01 21:02:43.058  2008     11   \n",
       "1     -6.55     129.64     10        4.6 2008-11-01 20:58:50.248  2008     11   \n",
       "2     -7.01     106.63    121        3.7 2008-11-01 17:43:12.941  2008     11   \n",
       "3     -3.30     127.85     10        3.2 2008-11-01 16:24:14.755  2008     11   \n",
       "4     -6.41     129.54     70        4.3 2008-11-01 16:20:37.327  2008     11   \n",
       "\n",
       "   Day  DayOfWeek  Hour MagnitudeCategory  TimeDiff  \n",
       "0    1          5    21          Moderate  0.000000  \n",
       "1    1          5    20          Moderate -0.064669  \n",
       "2    1          5    17          Moderate -3.260363  \n",
       "3    1          5    16          Moderate -1.316163  \n",
       "4    1          5    16          Moderate -0.060397  "
      ],
      "text/html": [
       "<div>\n",
       "<style scoped>\n",
       "    .dataframe tbody tr th:only-of-type {\n",
       "        vertical-align: middle;\n",
       "    }\n",
       "\n",
       "    .dataframe tbody tr th {\n",
       "        vertical-align: top;\n",
       "    }\n",
       "\n",
       "    .dataframe thead th {\n",
       "        text-align: right;\n",
       "    }\n",
       "</style>\n",
       "<table border=\"1\" class=\"dataframe\">\n",
       "  <thead>\n",
       "    <tr style=\"text-align: right;\">\n",
       "      <th></th>\n",
       "      <th>Latitude</th>\n",
       "      <th>Longitude</th>\n",
       "      <th>Depth</th>\n",
       "      <th>Magnitude</th>\n",
       "      <th>Datetime</th>\n",
       "      <th>Year</th>\n",
       "      <th>Month</th>\n",
       "      <th>Day</th>\n",
       "      <th>DayOfWeek</th>\n",
       "      <th>Hour</th>\n",
       "      <th>MagnitudeCategory</th>\n",
       "      <th>TimeDiff</th>\n",
       "    </tr>\n",
       "  </thead>\n",
       "  <tbody>\n",
       "    <tr>\n",
       "      <th>0</th>\n",
       "      <td>-9.18</td>\n",
       "      <td>119.06</td>\n",
       "      <td>10</td>\n",
       "      <td>4.9</td>\n",
       "      <td>2008-11-01 21:02:43.058</td>\n",
       "      <td>2008</td>\n",
       "      <td>11</td>\n",
       "      <td>1</td>\n",
       "      <td>5</td>\n",
       "      <td>21</td>\n",
       "      <td>Moderate</td>\n",
       "      <td>0.000000</td>\n",
       "    </tr>\n",
       "    <tr>\n",
       "      <th>1</th>\n",
       "      <td>-6.55</td>\n",
       "      <td>129.64</td>\n",
       "      <td>10</td>\n",
       "      <td>4.6</td>\n",
       "      <td>2008-11-01 20:58:50.248</td>\n",
       "      <td>2008</td>\n",
       "      <td>11</td>\n",
       "      <td>1</td>\n",
       "      <td>5</td>\n",
       "      <td>20</td>\n",
       "      <td>Moderate</td>\n",
       "      <td>-0.064669</td>\n",
       "    </tr>\n",
       "    <tr>\n",
       "      <th>2</th>\n",
       "      <td>-7.01</td>\n",
       "      <td>106.63</td>\n",
       "      <td>121</td>\n",
       "      <td>3.7</td>\n",
       "      <td>2008-11-01 17:43:12.941</td>\n",
       "      <td>2008</td>\n",
       "      <td>11</td>\n",
       "      <td>1</td>\n",
       "      <td>5</td>\n",
       "      <td>17</td>\n",
       "      <td>Moderate</td>\n",
       "      <td>-3.260363</td>\n",
       "    </tr>\n",
       "    <tr>\n",
       "      <th>3</th>\n",
       "      <td>-3.30</td>\n",
       "      <td>127.85</td>\n",
       "      <td>10</td>\n",
       "      <td>3.2</td>\n",
       "      <td>2008-11-01 16:24:14.755</td>\n",
       "      <td>2008</td>\n",
       "      <td>11</td>\n",
       "      <td>1</td>\n",
       "      <td>5</td>\n",
       "      <td>16</td>\n",
       "      <td>Moderate</td>\n",
       "      <td>-1.316163</td>\n",
       "    </tr>\n",
       "    <tr>\n",
       "      <th>4</th>\n",
       "      <td>-6.41</td>\n",
       "      <td>129.54</td>\n",
       "      <td>70</td>\n",
       "      <td>4.3</td>\n",
       "      <td>2008-11-01 16:20:37.327</td>\n",
       "      <td>2008</td>\n",
       "      <td>11</td>\n",
       "      <td>1</td>\n",
       "      <td>5</td>\n",
       "      <td>16</td>\n",
       "      <td>Moderate</td>\n",
       "      <td>-0.060397</td>\n",
       "    </tr>\n",
       "  </tbody>\n",
       "</table>\n",
       "</div>"
      ]
     },
     "execution_count": 25,
     "metadata": {},
     "output_type": "execute_result"
    }
   ],
   "execution_count": 25
  },
  {
   "metadata": {
    "ExecuteTime": {
     "end_time": "2024-11-16T11:25:02.516314Z",
     "start_time": "2024-11-16T11:25:02.481027Z"
    }
   },
   "cell_type": "code",
   "source": [
    "# 7-day rolling mean for magnitude and depth\n",
    "jma_df['RollingMag'] = jma_df['Magnitude'].rolling(window=7).mean()\n",
    "bmkg_df['RollingMag'] = bmkg_df['Magnitude'].rolling(window=7).mean()\n",
    "jma_df['RollingDepth'] = jma_df['Depth'].rolling(window=7).mean()\n",
    "bmkg_df['RollingDepth'] = bmkg_df['Depth'].rolling(window=7).mean()"
   ],
   "id": "abdb1fe9df8fbb7d",
   "outputs": [],
   "execution_count": 26
  },
  {
   "metadata": {
    "ExecuteTime": {
     "end_time": "2024-11-16T11:25:02.870597Z",
     "start_time": "2024-11-16T11:25:02.845303Z"
    }
   },
   "cell_type": "code",
   "source": [
    "jma_df.head()\n",
    "bmkg_df.head()"
   ],
   "id": "90949a6c748e0e08",
   "outputs": [
    {
     "data": {
      "text/plain": [
       "   Latitude  Longitude  Depth  Magnitude                Datetime  Year  Month  \\\n",
       "0     -9.18     119.06     10        4.9 2008-11-01 21:02:43.058  2008     11   \n",
       "1     -6.55     129.64     10        4.6 2008-11-01 20:58:50.248  2008     11   \n",
       "2     -7.01     106.63    121        3.7 2008-11-01 17:43:12.941  2008     11   \n",
       "3     -3.30     127.85     10        3.2 2008-11-01 16:24:14.755  2008     11   \n",
       "4     -6.41     129.54     70        4.3 2008-11-01 16:20:37.327  2008     11   \n",
       "\n",
       "   Day  DayOfWeek  Hour MagnitudeCategory  TimeDiff  RollingMag  RollingDepth  \n",
       "0    1          5    21          Moderate  0.000000         NaN           NaN  \n",
       "1    1          5    20          Moderate -0.064669         NaN           NaN  \n",
       "2    1          5    17          Moderate -3.260363         NaN           NaN  \n",
       "3    1          5    16          Moderate -1.316163         NaN           NaN  \n",
       "4    1          5    16          Moderate -0.060397         NaN           NaN  "
      ],
      "text/html": [
       "<div>\n",
       "<style scoped>\n",
       "    .dataframe tbody tr th:only-of-type {\n",
       "        vertical-align: middle;\n",
       "    }\n",
       "\n",
       "    .dataframe tbody tr th {\n",
       "        vertical-align: top;\n",
       "    }\n",
       "\n",
       "    .dataframe thead th {\n",
       "        text-align: right;\n",
       "    }\n",
       "</style>\n",
       "<table border=\"1\" class=\"dataframe\">\n",
       "  <thead>\n",
       "    <tr style=\"text-align: right;\">\n",
       "      <th></th>\n",
       "      <th>Latitude</th>\n",
       "      <th>Longitude</th>\n",
       "      <th>Depth</th>\n",
       "      <th>Magnitude</th>\n",
       "      <th>Datetime</th>\n",
       "      <th>Year</th>\n",
       "      <th>Month</th>\n",
       "      <th>Day</th>\n",
       "      <th>DayOfWeek</th>\n",
       "      <th>Hour</th>\n",
       "      <th>MagnitudeCategory</th>\n",
       "      <th>TimeDiff</th>\n",
       "      <th>RollingMag</th>\n",
       "      <th>RollingDepth</th>\n",
       "    </tr>\n",
       "  </thead>\n",
       "  <tbody>\n",
       "    <tr>\n",
       "      <th>0</th>\n",
       "      <td>-9.18</td>\n",
       "      <td>119.06</td>\n",
       "      <td>10</td>\n",
       "      <td>4.9</td>\n",
       "      <td>2008-11-01 21:02:43.058</td>\n",
       "      <td>2008</td>\n",
       "      <td>11</td>\n",
       "      <td>1</td>\n",
       "      <td>5</td>\n",
       "      <td>21</td>\n",
       "      <td>Moderate</td>\n",
       "      <td>0.000000</td>\n",
       "      <td>NaN</td>\n",
       "      <td>NaN</td>\n",
       "    </tr>\n",
       "    <tr>\n",
       "      <th>1</th>\n",
       "      <td>-6.55</td>\n",
       "      <td>129.64</td>\n",
       "      <td>10</td>\n",
       "      <td>4.6</td>\n",
       "      <td>2008-11-01 20:58:50.248</td>\n",
       "      <td>2008</td>\n",
       "      <td>11</td>\n",
       "      <td>1</td>\n",
       "      <td>5</td>\n",
       "      <td>20</td>\n",
       "      <td>Moderate</td>\n",
       "      <td>-0.064669</td>\n",
       "      <td>NaN</td>\n",
       "      <td>NaN</td>\n",
       "    </tr>\n",
       "    <tr>\n",
       "      <th>2</th>\n",
       "      <td>-7.01</td>\n",
       "      <td>106.63</td>\n",
       "      <td>121</td>\n",
       "      <td>3.7</td>\n",
       "      <td>2008-11-01 17:43:12.941</td>\n",
       "      <td>2008</td>\n",
       "      <td>11</td>\n",
       "      <td>1</td>\n",
       "      <td>5</td>\n",
       "      <td>17</td>\n",
       "      <td>Moderate</td>\n",
       "      <td>-3.260363</td>\n",
       "      <td>NaN</td>\n",
       "      <td>NaN</td>\n",
       "    </tr>\n",
       "    <tr>\n",
       "      <th>3</th>\n",
       "      <td>-3.30</td>\n",
       "      <td>127.85</td>\n",
       "      <td>10</td>\n",
       "      <td>3.2</td>\n",
       "      <td>2008-11-01 16:24:14.755</td>\n",
       "      <td>2008</td>\n",
       "      <td>11</td>\n",
       "      <td>1</td>\n",
       "      <td>5</td>\n",
       "      <td>16</td>\n",
       "      <td>Moderate</td>\n",
       "      <td>-1.316163</td>\n",
       "      <td>NaN</td>\n",
       "      <td>NaN</td>\n",
       "    </tr>\n",
       "    <tr>\n",
       "      <th>4</th>\n",
       "      <td>-6.41</td>\n",
       "      <td>129.54</td>\n",
       "      <td>70</td>\n",
       "      <td>4.3</td>\n",
       "      <td>2008-11-01 16:20:37.327</td>\n",
       "      <td>2008</td>\n",
       "      <td>11</td>\n",
       "      <td>1</td>\n",
       "      <td>5</td>\n",
       "      <td>16</td>\n",
       "      <td>Moderate</td>\n",
       "      <td>-0.060397</td>\n",
       "      <td>NaN</td>\n",
       "      <td>NaN</td>\n",
       "    </tr>\n",
       "  </tbody>\n",
       "</table>\n",
       "</div>"
      ]
     },
     "execution_count": 27,
     "metadata": {},
     "output_type": "execute_result"
    }
   ],
   "execution_count": 27
  },
  {
   "metadata": {
    "ExecuteTime": {
     "end_time": "2024-11-16T11:25:04.064669Z",
     "start_time": "2024-11-16T11:25:04.021109Z"
    }
   },
   "cell_type": "code",
   "source": [
    "# drop the 'RollingMag' and 'RollingDepth' columns\n",
    "jma_df.drop(['RollingMag', 'RollingDepth'], axis=1, inplace=True)\n",
    "bmkg_df.drop(['RollingMag', 'RollingDepth'], axis=1, inplace=True)\n"
   ],
   "id": "aecf2b2e63884e95",
   "outputs": [],
   "execution_count": 28
  },
  {
   "metadata": {
    "ExecuteTime": {
     "end_time": "2024-11-16T11:25:04.831215Z",
     "start_time": "2024-11-16T11:25:04.811688Z"
    }
   },
   "cell_type": "code",
   "source": [
    "jma_df.head()\n",
    "bmkg_df.head()"
   ],
   "id": "e529ecf8a6739060",
   "outputs": [
    {
     "data": {
      "text/plain": [
       "   Latitude  Longitude  Depth  Magnitude                Datetime  Year  Month  \\\n",
       "0     -9.18     119.06     10        4.9 2008-11-01 21:02:43.058  2008     11   \n",
       "1     -6.55     129.64     10        4.6 2008-11-01 20:58:50.248  2008     11   \n",
       "2     -7.01     106.63    121        3.7 2008-11-01 17:43:12.941  2008     11   \n",
       "3     -3.30     127.85     10        3.2 2008-11-01 16:24:14.755  2008     11   \n",
       "4     -6.41     129.54     70        4.3 2008-11-01 16:20:37.327  2008     11   \n",
       "\n",
       "   Day  DayOfWeek  Hour MagnitudeCategory  TimeDiff  \n",
       "0    1          5    21          Moderate  0.000000  \n",
       "1    1          5    20          Moderate -0.064669  \n",
       "2    1          5    17          Moderate -3.260363  \n",
       "3    1          5    16          Moderate -1.316163  \n",
       "4    1          5    16          Moderate -0.060397  "
      ],
      "text/html": [
       "<div>\n",
       "<style scoped>\n",
       "    .dataframe tbody tr th:only-of-type {\n",
       "        vertical-align: middle;\n",
       "    }\n",
       "\n",
       "    .dataframe tbody tr th {\n",
       "        vertical-align: top;\n",
       "    }\n",
       "\n",
       "    .dataframe thead th {\n",
       "        text-align: right;\n",
       "    }\n",
       "</style>\n",
       "<table border=\"1\" class=\"dataframe\">\n",
       "  <thead>\n",
       "    <tr style=\"text-align: right;\">\n",
       "      <th></th>\n",
       "      <th>Latitude</th>\n",
       "      <th>Longitude</th>\n",
       "      <th>Depth</th>\n",
       "      <th>Magnitude</th>\n",
       "      <th>Datetime</th>\n",
       "      <th>Year</th>\n",
       "      <th>Month</th>\n",
       "      <th>Day</th>\n",
       "      <th>DayOfWeek</th>\n",
       "      <th>Hour</th>\n",
       "      <th>MagnitudeCategory</th>\n",
       "      <th>TimeDiff</th>\n",
       "    </tr>\n",
       "  </thead>\n",
       "  <tbody>\n",
       "    <tr>\n",
       "      <th>0</th>\n",
       "      <td>-9.18</td>\n",
       "      <td>119.06</td>\n",
       "      <td>10</td>\n",
       "      <td>4.9</td>\n",
       "      <td>2008-11-01 21:02:43.058</td>\n",
       "      <td>2008</td>\n",
       "      <td>11</td>\n",
       "      <td>1</td>\n",
       "      <td>5</td>\n",
       "      <td>21</td>\n",
       "      <td>Moderate</td>\n",
       "      <td>0.000000</td>\n",
       "    </tr>\n",
       "    <tr>\n",
       "      <th>1</th>\n",
       "      <td>-6.55</td>\n",
       "      <td>129.64</td>\n",
       "      <td>10</td>\n",
       "      <td>4.6</td>\n",
       "      <td>2008-11-01 20:58:50.248</td>\n",
       "      <td>2008</td>\n",
       "      <td>11</td>\n",
       "      <td>1</td>\n",
       "      <td>5</td>\n",
       "      <td>20</td>\n",
       "      <td>Moderate</td>\n",
       "      <td>-0.064669</td>\n",
       "    </tr>\n",
       "    <tr>\n",
       "      <th>2</th>\n",
       "      <td>-7.01</td>\n",
       "      <td>106.63</td>\n",
       "      <td>121</td>\n",
       "      <td>3.7</td>\n",
       "      <td>2008-11-01 17:43:12.941</td>\n",
       "      <td>2008</td>\n",
       "      <td>11</td>\n",
       "      <td>1</td>\n",
       "      <td>5</td>\n",
       "      <td>17</td>\n",
       "      <td>Moderate</td>\n",
       "      <td>-3.260363</td>\n",
       "    </tr>\n",
       "    <tr>\n",
       "      <th>3</th>\n",
       "      <td>-3.30</td>\n",
       "      <td>127.85</td>\n",
       "      <td>10</td>\n",
       "      <td>3.2</td>\n",
       "      <td>2008-11-01 16:24:14.755</td>\n",
       "      <td>2008</td>\n",
       "      <td>11</td>\n",
       "      <td>1</td>\n",
       "      <td>5</td>\n",
       "      <td>16</td>\n",
       "      <td>Moderate</td>\n",
       "      <td>-1.316163</td>\n",
       "    </tr>\n",
       "    <tr>\n",
       "      <th>4</th>\n",
       "      <td>-6.41</td>\n",
       "      <td>129.54</td>\n",
       "      <td>70</td>\n",
       "      <td>4.3</td>\n",
       "      <td>2008-11-01 16:20:37.327</td>\n",
       "      <td>2008</td>\n",
       "      <td>11</td>\n",
       "      <td>1</td>\n",
       "      <td>5</td>\n",
       "      <td>16</td>\n",
       "      <td>Moderate</td>\n",
       "      <td>-0.060397</td>\n",
       "    </tr>\n",
       "  </tbody>\n",
       "</table>\n",
       "</div>"
      ]
     },
     "execution_count": 29,
     "metadata": {},
     "output_type": "execute_result"
    }
   ],
   "execution_count": 29
  },
  {
   "metadata": {
    "ExecuteTime": {
     "end_time": "2024-11-16T11:25:06.104196Z",
     "start_time": "2024-11-16T11:25:05.373405Z"
    }
   },
   "cell_type": "code",
   "source": [
    "# Save the datasets\n",
    "jma_df.to_csv('JMA_features.csv', index=False)\n",
    "#bmkg_df.to_csv('BMKG_features.csv', index=False)\n"
   ],
   "id": "f472a7150920e610",
   "outputs": [],
   "execution_count": 30
  },
  {
   "metadata": {
    "ExecuteTime": {
     "end_time": "2024-11-16T09:11:28.551298Z",
     "start_time": "2024-11-16T09:11:03.126586Z"
    }
   },
   "cell_type": "code",
   "source": "bmkg_df.fillna(bmkg_df.mean(), inplace=True)  # Replace missing values with the column mean",
   "id": "d32d5594aa6b1b84",
   "outputs": [],
   "execution_count": 2
  },
  {
   "metadata": {
    "ExecuteTime": {
     "end_time": "2024-11-16T09:11:42.286127Z",
     "start_time": "2024-11-16T09:11:28.561324Z"
    }
   },
   "cell_type": "code",
   "source": "jma_df.fillna(jma_df.mean(), inplace=True)  # Replace missing values with the column mean",
   "id": "8675cab2e7a2958e",
   "outputs": [],
   "execution_count": 3
  },
  {
   "metadata": {
    "ExecuteTime": {
     "end_time": "2024-11-16T09:12:15.576990Z",
     "start_time": "2024-11-16T09:12:14.967758Z"
    }
   },
   "cell_type": "code",
   "source": [
    "# Normalize Numerical Features\n",
    "from sklearn.preprocessing import MinMaxScaler\n",
    "\n",
    "scaler = MinMaxScaler()\n",
    "jma_df[['Magnitude', 'Depth', 'Latitude', 'Longitude']] = scaler.fit_transform(jma_df[['Magnitude', 'Depth', 'Latitude', 'Longitude']])\n",
    "bmkg_df[['Magnitude', 'Depth', 'Latitude', 'Longitude']] = scaler.fit_transform(bmkg_df[['Magnitude', 'Depth', 'Latitude', 'Longitude']])\n"
   ],
   "id": "24798eb24c7cffc8",
   "outputs": [],
   "execution_count": 4
  },
  {
   "metadata": {
    "ExecuteTime": {
     "end_time": "2024-11-16T09:12:33.817604Z",
     "start_time": "2024-11-16T09:12:33.801879Z"
    }
   },
   "cell_type": "code",
   "source": [
    "jma_df.head()\n",
    "bmkg_df.head()"
   ],
   "id": "219146b3019cc5b2",
   "outputs": [
    {
     "data": {
      "text/plain": [
       "   Latitude  Longitude     Depth  Magnitude                 Datetime\n",
       "0  0.107059   0.521884  0.010695   0.565217  2008-11-01 21:02:43.058\n",
       "1  0.261765   0.742393  0.010695   0.521739  2008-11-01 20:58:50.248\n",
       "2  0.234706   0.262818  0.159091   0.391304  2008-11-01 17:43:12.941\n",
       "3  0.452941   0.705085  0.010695   0.318841  2008-11-01 16:24:14.755\n",
       "4  0.270000   0.740308  0.090909   0.478261  2008-11-01 16:20:37.327"
      ],
      "text/html": [
       "<div>\n",
       "<style scoped>\n",
       "    .dataframe tbody tr th:only-of-type {\n",
       "        vertical-align: middle;\n",
       "    }\n",
       "\n",
       "    .dataframe tbody tr th {\n",
       "        vertical-align: top;\n",
       "    }\n",
       "\n",
       "    .dataframe thead th {\n",
       "        text-align: right;\n",
       "    }\n",
       "</style>\n",
       "<table border=\"1\" class=\"dataframe\">\n",
       "  <thead>\n",
       "    <tr style=\"text-align: right;\">\n",
       "      <th></th>\n",
       "      <th>Latitude</th>\n",
       "      <th>Longitude</th>\n",
       "      <th>Depth</th>\n",
       "      <th>Magnitude</th>\n",
       "      <th>Datetime</th>\n",
       "    </tr>\n",
       "  </thead>\n",
       "  <tbody>\n",
       "    <tr>\n",
       "      <th>0</th>\n",
       "      <td>0.107059</td>\n",
       "      <td>0.521884</td>\n",
       "      <td>0.010695</td>\n",
       "      <td>0.565217</td>\n",
       "      <td>2008-11-01 21:02:43.058</td>\n",
       "    </tr>\n",
       "    <tr>\n",
       "      <th>1</th>\n",
       "      <td>0.261765</td>\n",
       "      <td>0.742393</td>\n",
       "      <td>0.010695</td>\n",
       "      <td>0.521739</td>\n",
       "      <td>2008-11-01 20:58:50.248</td>\n",
       "    </tr>\n",
       "    <tr>\n",
       "      <th>2</th>\n",
       "      <td>0.234706</td>\n",
       "      <td>0.262818</td>\n",
       "      <td>0.159091</td>\n",
       "      <td>0.391304</td>\n",
       "      <td>2008-11-01 17:43:12.941</td>\n",
       "    </tr>\n",
       "    <tr>\n",
       "      <th>3</th>\n",
       "      <td>0.452941</td>\n",
       "      <td>0.705085</td>\n",
       "      <td>0.010695</td>\n",
       "      <td>0.318841</td>\n",
       "      <td>2008-11-01 16:24:14.755</td>\n",
       "    </tr>\n",
       "    <tr>\n",
       "      <th>4</th>\n",
       "      <td>0.270000</td>\n",
       "      <td>0.740308</td>\n",
       "      <td>0.090909</td>\n",
       "      <td>0.478261</td>\n",
       "      <td>2008-11-01 16:20:37.327</td>\n",
       "    </tr>\n",
       "  </tbody>\n",
       "</table>\n",
       "</div>"
      ]
     },
     "execution_count": 5,
     "metadata": {},
     "output_type": "execute_result"
    }
   ],
   "execution_count": 5
  },
  {
   "metadata": {
    "ExecuteTime": {
     "end_time": "2024-11-16T09:15:51.725480Z",
     "start_time": "2024-11-16T09:15:51.685343Z"
    }
   },
   "cell_type": "code",
   "source": [
    "# add the 'MagnitudeCategory' column to jma_df\n",
    "jma_df['MagnitudeCategory'] = jma_df['MagnitudeCategory'].astype('category')"
   ],
   "id": "bea033901c75e635",
   "outputs": [
    {
     "ename": "KeyError",
     "evalue": "'MagnitudeCategory'",
     "output_type": "error",
     "traceback": [
      "\u001B[1;31m---------------------------------------------------------------------------\u001B[0m",
      "\u001B[1;31mKeyError\u001B[0m                                  Traceback (most recent call last)",
      "\u001B[1;32mC:\\ProgramData\\anaconda3\\envs\\TF\\lib\\site-packages\\pandas\\core\\indexes\\base.py\u001B[0m in \u001B[0;36mget_loc\u001B[1;34m(self, key, method, tolerance)\u001B[0m\n\u001B[0;32m   2897\u001B[0m             \u001B[1;32mtry\u001B[0m\u001B[1;33m:\u001B[0m\u001B[1;33m\u001B[0m\u001B[1;33m\u001B[0m\u001B[0m\n\u001B[1;32m-> 2898\u001B[1;33m                 \u001B[1;32mreturn\u001B[0m \u001B[0mself\u001B[0m\u001B[1;33m.\u001B[0m\u001B[0m_engine\u001B[0m\u001B[1;33m.\u001B[0m\u001B[0mget_loc\u001B[0m\u001B[1;33m(\u001B[0m\u001B[0mcasted_key\u001B[0m\u001B[1;33m)\u001B[0m\u001B[1;33m\u001B[0m\u001B[1;33m\u001B[0m\u001B[0m\n\u001B[0m\u001B[0;32m   2899\u001B[0m             \u001B[1;32mexcept\u001B[0m \u001B[0mKeyError\u001B[0m \u001B[1;32mas\u001B[0m \u001B[0merr\u001B[0m\u001B[1;33m:\u001B[0m\u001B[1;33m\u001B[0m\u001B[1;33m\u001B[0m\u001B[0m\n",
      "\u001B[1;32mpandas\\_libs\\index.pyx\u001B[0m in \u001B[0;36mpandas._libs.index.IndexEngine.get_loc\u001B[1;34m()\u001B[0m\n",
      "\u001B[1;32mpandas\\_libs\\index.pyx\u001B[0m in \u001B[0;36mpandas._libs.index.IndexEngine.get_loc\u001B[1;34m()\u001B[0m\n",
      "\u001B[1;32mpandas\\_libs\\hashtable_class_helper.pxi\u001B[0m in \u001B[0;36mpandas._libs.hashtable.PyObjectHashTable.get_item\u001B[1;34m()\u001B[0m\n",
      "\u001B[1;32mpandas\\_libs\\hashtable_class_helper.pxi\u001B[0m in \u001B[0;36mpandas._libs.hashtable.PyObjectHashTable.get_item\u001B[1;34m()\u001B[0m\n",
      "\u001B[1;31mKeyError\u001B[0m: 'MagnitudeCategory'",
      "\nThe above exception was the direct cause of the following exception:\n",
      "\u001B[1;31mKeyError\u001B[0m                                  Traceback (most recent call last)",
      "\u001B[1;32m<ipython-input-8-58e34f125a7b>\u001B[0m in \u001B[0;36m<module>\u001B[1;34m\u001B[0m\n\u001B[0;32m      1\u001B[0m \u001B[1;31m# add the 'MagnitudeCategory' column to jma_df and bmkg_df\u001B[0m\u001B[1;33m\u001B[0m\u001B[1;33m\u001B[0m\u001B[1;33m\u001B[0m\u001B[0m\n\u001B[1;32m----> 2\u001B[1;33m \u001B[0mjma_df\u001B[0m\u001B[1;33m[\u001B[0m\u001B[1;34m'MagnitudeCategory'\u001B[0m\u001B[1;33m]\u001B[0m \u001B[1;33m=\u001B[0m \u001B[0mjma_df\u001B[0m\u001B[1;33m[\u001B[0m\u001B[1;34m'MagnitudeCategory'\u001B[0m\u001B[1;33m]\u001B[0m\u001B[1;33m.\u001B[0m\u001B[0mastype\u001B[0m\u001B[1;33m(\u001B[0m\u001B[1;34m'category'\u001B[0m\u001B[1;33m)\u001B[0m\u001B[1;33m.\u001B[0m\u001B[0mcat\u001B[0m\u001B[1;33m.\u001B[0m\u001B[0mcodes\u001B[0m\u001B[1;33m\u001B[0m\u001B[1;33m\u001B[0m\u001B[0m\n\u001B[0m\u001B[0;32m      3\u001B[0m \u001B[0mbmkg_df\u001B[0m\u001B[1;33m[\u001B[0m\u001B[1;34m'MagnitudeCategory'\u001B[0m\u001B[1;33m]\u001B[0m \u001B[1;33m=\u001B[0m \u001B[0mbmkg_df\u001B[0m\u001B[1;33m[\u001B[0m\u001B[1;34m'MagnitudeCategory'\u001B[0m\u001B[1;33m]\u001B[0m\u001B[1;33m.\u001B[0m\u001B[0mastype\u001B[0m\u001B[1;33m(\u001B[0m\u001B[1;34m'category'\u001B[0m\u001B[1;33m)\u001B[0m\u001B[1;33m.\u001B[0m\u001B[0mcat\u001B[0m\u001B[1;33m.\u001B[0m\u001B[0mcodes\u001B[0m\u001B[1;33m\u001B[0m\u001B[1;33m\u001B[0m\u001B[0m\n\u001B[0;32m      4\u001B[0m \u001B[1;33m\u001B[0m\u001B[0m\n\u001B[0;32m      5\u001B[0m \u001B[1;33m\u001B[0m\u001B[0m\n",
      "\u001B[1;32mC:\\ProgramData\\anaconda3\\envs\\TF\\lib\\site-packages\\pandas\\core\\frame.py\u001B[0m in \u001B[0;36m__getitem__\u001B[1;34m(self, key)\u001B[0m\n\u001B[0;32m   2904\u001B[0m             \u001B[1;32mif\u001B[0m \u001B[0mself\u001B[0m\u001B[1;33m.\u001B[0m\u001B[0mcolumns\u001B[0m\u001B[1;33m.\u001B[0m\u001B[0mnlevels\u001B[0m \u001B[1;33m>\u001B[0m \u001B[1;36m1\u001B[0m\u001B[1;33m:\u001B[0m\u001B[1;33m\u001B[0m\u001B[1;33m\u001B[0m\u001B[0m\n\u001B[0;32m   2905\u001B[0m                 \u001B[1;32mreturn\u001B[0m \u001B[0mself\u001B[0m\u001B[1;33m.\u001B[0m\u001B[0m_getitem_multilevel\u001B[0m\u001B[1;33m(\u001B[0m\u001B[0mkey\u001B[0m\u001B[1;33m)\u001B[0m\u001B[1;33m\u001B[0m\u001B[1;33m\u001B[0m\u001B[0m\n\u001B[1;32m-> 2906\u001B[1;33m             \u001B[0mindexer\u001B[0m \u001B[1;33m=\u001B[0m \u001B[0mself\u001B[0m\u001B[1;33m.\u001B[0m\u001B[0mcolumns\u001B[0m\u001B[1;33m.\u001B[0m\u001B[0mget_loc\u001B[0m\u001B[1;33m(\u001B[0m\u001B[0mkey\u001B[0m\u001B[1;33m)\u001B[0m\u001B[1;33m\u001B[0m\u001B[1;33m\u001B[0m\u001B[0m\n\u001B[0m\u001B[0;32m   2907\u001B[0m             \u001B[1;32mif\u001B[0m \u001B[0mis_integer\u001B[0m\u001B[1;33m(\u001B[0m\u001B[0mindexer\u001B[0m\u001B[1;33m)\u001B[0m\u001B[1;33m:\u001B[0m\u001B[1;33m\u001B[0m\u001B[1;33m\u001B[0m\u001B[0m\n\u001B[0;32m   2908\u001B[0m                 \u001B[0mindexer\u001B[0m \u001B[1;33m=\u001B[0m \u001B[1;33m[\u001B[0m\u001B[0mindexer\u001B[0m\u001B[1;33m]\u001B[0m\u001B[1;33m\u001B[0m\u001B[1;33m\u001B[0m\u001B[0m\n",
      "\u001B[1;32mC:\\ProgramData\\anaconda3\\envs\\TF\\lib\\site-packages\\pandas\\core\\indexes\\base.py\u001B[0m in \u001B[0;36mget_loc\u001B[1;34m(self, key, method, tolerance)\u001B[0m\n\u001B[0;32m   2898\u001B[0m                 \u001B[1;32mreturn\u001B[0m \u001B[0mself\u001B[0m\u001B[1;33m.\u001B[0m\u001B[0m_engine\u001B[0m\u001B[1;33m.\u001B[0m\u001B[0mget_loc\u001B[0m\u001B[1;33m(\u001B[0m\u001B[0mcasted_key\u001B[0m\u001B[1;33m)\u001B[0m\u001B[1;33m\u001B[0m\u001B[1;33m\u001B[0m\u001B[0m\n\u001B[0;32m   2899\u001B[0m             \u001B[1;32mexcept\u001B[0m \u001B[0mKeyError\u001B[0m \u001B[1;32mas\u001B[0m \u001B[0merr\u001B[0m\u001B[1;33m:\u001B[0m\u001B[1;33m\u001B[0m\u001B[1;33m\u001B[0m\u001B[0m\n\u001B[1;32m-> 2900\u001B[1;33m                 \u001B[1;32mraise\u001B[0m \u001B[0mKeyError\u001B[0m\u001B[1;33m(\u001B[0m\u001B[0mkey\u001B[0m\u001B[1;33m)\u001B[0m \u001B[1;32mfrom\u001B[0m \u001B[0merr\u001B[0m\u001B[1;33m\u001B[0m\u001B[1;33m\u001B[0m\u001B[0m\n\u001B[0m\u001B[0;32m   2901\u001B[0m \u001B[1;33m\u001B[0m\u001B[0m\n\u001B[0;32m   2902\u001B[0m         \u001B[1;32mif\u001B[0m \u001B[0mtolerance\u001B[0m \u001B[1;32mis\u001B[0m \u001B[1;32mnot\u001B[0m \u001B[1;32mNone\u001B[0m\u001B[1;33m:\u001B[0m\u001B[1;33m\u001B[0m\u001B[1;33m\u001B[0m\u001B[0m\n",
      "\u001B[1;31mKeyError\u001B[0m: 'MagnitudeCategory'"
     ]
    }
   ],
   "execution_count": 8
  },
  {
   "metadata": {
    "ExecuteTime": {
     "end_time": "2024-11-16T09:16:18.216082Z",
     "start_time": "2024-11-16T09:16:18.192063Z"
    }
   },
   "cell_type": "code",
   "source": [
    "# Encode Categorical Features\n",
    "from sklearn.preprocessing import OneHotEncoder\n",
    "\n",
    "encoder = OneHotEncoder()\n",
    "#jma_encoded = encoder.fit_transform(jma_df[['MagnitudeCategory']]).toarray()\n",
    "bmkg_encoded = encoder.fit_transform(bmkg_df[['MagnitudeCategory']]).toarray()\n"
   ],
   "id": "db8505a02c200c7e",
   "outputs": [
    {
     "ename": "KeyError",
     "evalue": "\"None of [Index(['MagnitudeCategory'], dtype='object')] are in the [columns]\"",
     "output_type": "error",
     "traceback": [
      "\u001B[1;31m---------------------------------------------------------------------------\u001B[0m",
      "\u001B[1;31mKeyError\u001B[0m                                  Traceback (most recent call last)",
      "\u001B[1;32m<ipython-input-9-c853b362c9c6>\u001B[0m in \u001B[0;36m<module>\u001B[1;34m\u001B[0m\n\u001B[0;32m      4\u001B[0m \u001B[0mencoder\u001B[0m \u001B[1;33m=\u001B[0m \u001B[0mOneHotEncoder\u001B[0m\u001B[1;33m(\u001B[0m\u001B[1;33m)\u001B[0m\u001B[1;33m\u001B[0m\u001B[1;33m\u001B[0m\u001B[0m\n\u001B[0;32m      5\u001B[0m \u001B[1;31m#jma_encoded = encoder.fit_transform(jma_df[['MagnitudeCategory']]).toarray()\u001B[0m\u001B[1;33m\u001B[0m\u001B[1;33m\u001B[0m\u001B[1;33m\u001B[0m\u001B[0m\n\u001B[1;32m----> 6\u001B[1;33m \u001B[0mbmkg_encoded\u001B[0m \u001B[1;33m=\u001B[0m \u001B[0mencoder\u001B[0m\u001B[1;33m.\u001B[0m\u001B[0mfit_transform\u001B[0m\u001B[1;33m(\u001B[0m\u001B[0mbmkg_df\u001B[0m\u001B[1;33m[\u001B[0m\u001B[1;33m[\u001B[0m\u001B[1;34m'MagnitudeCategory'\u001B[0m\u001B[1;33m]\u001B[0m\u001B[1;33m]\u001B[0m\u001B[1;33m)\u001B[0m\u001B[1;33m.\u001B[0m\u001B[0mtoarray\u001B[0m\u001B[1;33m(\u001B[0m\u001B[1;33m)\u001B[0m\u001B[1;33m\u001B[0m\u001B[1;33m\u001B[0m\u001B[0m\n\u001B[0m\u001B[0;32m      7\u001B[0m \u001B[1;33m\u001B[0m\u001B[0m\n",
      "\u001B[1;32mC:\\ProgramData\\anaconda3\\envs\\TF\\lib\\site-packages\\pandas\\core\\frame.py\u001B[0m in \u001B[0;36m__getitem__\u001B[1;34m(self, key)\u001B[0m\n\u001B[0;32m   2910\u001B[0m             \u001B[1;32mif\u001B[0m \u001B[0mis_iterator\u001B[0m\u001B[1;33m(\u001B[0m\u001B[0mkey\u001B[0m\u001B[1;33m)\u001B[0m\u001B[1;33m:\u001B[0m\u001B[1;33m\u001B[0m\u001B[1;33m\u001B[0m\u001B[0m\n\u001B[0;32m   2911\u001B[0m                 \u001B[0mkey\u001B[0m \u001B[1;33m=\u001B[0m \u001B[0mlist\u001B[0m\u001B[1;33m(\u001B[0m\u001B[0mkey\u001B[0m\u001B[1;33m)\u001B[0m\u001B[1;33m\u001B[0m\u001B[1;33m\u001B[0m\u001B[0m\n\u001B[1;32m-> 2912\u001B[1;33m             \u001B[0mindexer\u001B[0m \u001B[1;33m=\u001B[0m \u001B[0mself\u001B[0m\u001B[1;33m.\u001B[0m\u001B[0mloc\u001B[0m\u001B[1;33m.\u001B[0m\u001B[0m_get_listlike_indexer\u001B[0m\u001B[1;33m(\u001B[0m\u001B[0mkey\u001B[0m\u001B[1;33m,\u001B[0m \u001B[0maxis\u001B[0m\u001B[1;33m=\u001B[0m\u001B[1;36m1\u001B[0m\u001B[1;33m,\u001B[0m \u001B[0mraise_missing\u001B[0m\u001B[1;33m=\u001B[0m\u001B[1;32mTrue\u001B[0m\u001B[1;33m)\u001B[0m\u001B[1;33m[\u001B[0m\u001B[1;36m1\u001B[0m\u001B[1;33m]\u001B[0m\u001B[1;33m\u001B[0m\u001B[1;33m\u001B[0m\u001B[0m\n\u001B[0m\u001B[0;32m   2913\u001B[0m \u001B[1;33m\u001B[0m\u001B[0m\n\u001B[0;32m   2914\u001B[0m         \u001B[1;31m# take() does not accept boolean indexers\u001B[0m\u001B[1;33m\u001B[0m\u001B[1;33m\u001B[0m\u001B[1;33m\u001B[0m\u001B[0m\n",
      "\u001B[1;32mC:\\ProgramData\\anaconda3\\envs\\TF\\lib\\site-packages\\pandas\\core\\indexing.py\u001B[0m in \u001B[0;36m_get_listlike_indexer\u001B[1;34m(self, key, axis, raise_missing)\u001B[0m\n\u001B[0;32m   1252\u001B[0m             \u001B[0mkeyarr\u001B[0m\u001B[1;33m,\u001B[0m \u001B[0mindexer\u001B[0m\u001B[1;33m,\u001B[0m \u001B[0mnew_indexer\u001B[0m \u001B[1;33m=\u001B[0m \u001B[0max\u001B[0m\u001B[1;33m.\u001B[0m\u001B[0m_reindex_non_unique\u001B[0m\u001B[1;33m(\u001B[0m\u001B[0mkeyarr\u001B[0m\u001B[1;33m)\u001B[0m\u001B[1;33m\u001B[0m\u001B[1;33m\u001B[0m\u001B[0m\n\u001B[0;32m   1253\u001B[0m \u001B[1;33m\u001B[0m\u001B[0m\n\u001B[1;32m-> 1254\u001B[1;33m         \u001B[0mself\u001B[0m\u001B[1;33m.\u001B[0m\u001B[0m_validate_read_indexer\u001B[0m\u001B[1;33m(\u001B[0m\u001B[0mkeyarr\u001B[0m\u001B[1;33m,\u001B[0m \u001B[0mindexer\u001B[0m\u001B[1;33m,\u001B[0m \u001B[0maxis\u001B[0m\u001B[1;33m,\u001B[0m \u001B[0mraise_missing\u001B[0m\u001B[1;33m=\u001B[0m\u001B[0mraise_missing\u001B[0m\u001B[1;33m)\u001B[0m\u001B[1;33m\u001B[0m\u001B[1;33m\u001B[0m\u001B[0m\n\u001B[0m\u001B[0;32m   1255\u001B[0m         \u001B[1;32mreturn\u001B[0m \u001B[0mkeyarr\u001B[0m\u001B[1;33m,\u001B[0m \u001B[0mindexer\u001B[0m\u001B[1;33m\u001B[0m\u001B[1;33m\u001B[0m\u001B[0m\n\u001B[0;32m   1256\u001B[0m \u001B[1;33m\u001B[0m\u001B[0m\n",
      "\u001B[1;32mC:\\ProgramData\\anaconda3\\envs\\TF\\lib\\site-packages\\pandas\\core\\indexing.py\u001B[0m in \u001B[0;36m_validate_read_indexer\u001B[1;34m(self, key, indexer, axis, raise_missing)\u001B[0m\n\u001B[0;32m   1296\u001B[0m             \u001B[1;32mif\u001B[0m \u001B[0mmissing\u001B[0m \u001B[1;33m==\u001B[0m \u001B[0mlen\u001B[0m\u001B[1;33m(\u001B[0m\u001B[0mindexer\u001B[0m\u001B[1;33m)\u001B[0m\u001B[1;33m:\u001B[0m\u001B[1;33m\u001B[0m\u001B[1;33m\u001B[0m\u001B[0m\n\u001B[0;32m   1297\u001B[0m                 \u001B[0maxis_name\u001B[0m \u001B[1;33m=\u001B[0m \u001B[0mself\u001B[0m\u001B[1;33m.\u001B[0m\u001B[0mobj\u001B[0m\u001B[1;33m.\u001B[0m\u001B[0m_get_axis_name\u001B[0m\u001B[1;33m(\u001B[0m\u001B[0maxis\u001B[0m\u001B[1;33m)\u001B[0m\u001B[1;33m\u001B[0m\u001B[1;33m\u001B[0m\u001B[0m\n\u001B[1;32m-> 1298\u001B[1;33m                 \u001B[1;32mraise\u001B[0m \u001B[0mKeyError\u001B[0m\u001B[1;33m(\u001B[0m\u001B[1;34mf\"None of [{key}] are in the [{axis_name}]\"\u001B[0m\u001B[1;33m)\u001B[0m\u001B[1;33m\u001B[0m\u001B[1;33m\u001B[0m\u001B[0m\n\u001B[0m\u001B[0;32m   1299\u001B[0m \u001B[1;33m\u001B[0m\u001B[0m\n\u001B[0;32m   1300\u001B[0m             \u001B[1;31m# We (temporarily) allow for some missing keys with .loc, except in\u001B[0m\u001B[1;33m\u001B[0m\u001B[1;33m\u001B[0m\u001B[1;33m\u001B[0m\u001B[0m\n",
      "\u001B[1;31mKeyError\u001B[0m: \"None of [Index(['MagnitudeCategory'], dtype='object')] are in the [columns]\""
     ]
    }
   ],
   "execution_count": 9
  },
  {
   "metadata": {
    "ExecuteTime": {
     "end_time": "2024-11-16T09:17:25.116079Z",
     "start_time": "2024-11-16T09:17:25.065335Z"
    }
   },
   "cell_type": "code",
   "source": [
    "# Add Temporal Context\n",
    "jma_df['Year'] = jma_df['Year'].astype('category')\n",
    "jma_df['Month'] = jma_df['Month'].astype('category')\n",
    "jma_df['Day'] = jma_df['Day'].astype('category')\n",
    "jma_df['DayOfWeek'] = jma_df['DayOfWeek'].astype('category')\n",
    "jma_df['Hour'] = jma_df['Hour'].astype('category')\n",
    "\n",
    "bmkg_df['Year'] = bmkg_df['Year'].astype('category')\n",
    "bmkg_df['Month'] = bmkg_df['Month'].astype('category')\n",
    "bmkg_df['Day'] = bmkg_df['Day'].astype('category')\n",
    "bmkg_df['DayOfWeek'] = bmkg_df['DayOfWeek'].astype('category')\n",
    "bmkg_df['Hour'] = bmkg_df['Hour'].astype('category')\n"
   ],
   "id": "a69ee8246f72ab82",
   "outputs": [
    {
     "ename": "KeyError",
     "evalue": "'Year'",
     "output_type": "error",
     "traceback": [
      "\u001B[1;31m---------------------------------------------------------------------------\u001B[0m",
      "\u001B[1;31mKeyError\u001B[0m                                  Traceback (most recent call last)",
      "\u001B[1;32mC:\\ProgramData\\anaconda3\\envs\\TF\\lib\\site-packages\\pandas\\core\\indexes\\base.py\u001B[0m in \u001B[0;36mget_loc\u001B[1;34m(self, key, method, tolerance)\u001B[0m\n\u001B[0;32m   2897\u001B[0m             \u001B[1;32mtry\u001B[0m\u001B[1;33m:\u001B[0m\u001B[1;33m\u001B[0m\u001B[1;33m\u001B[0m\u001B[0m\n\u001B[1;32m-> 2898\u001B[1;33m                 \u001B[1;32mreturn\u001B[0m \u001B[0mself\u001B[0m\u001B[1;33m.\u001B[0m\u001B[0m_engine\u001B[0m\u001B[1;33m.\u001B[0m\u001B[0mget_loc\u001B[0m\u001B[1;33m(\u001B[0m\u001B[0mcasted_key\u001B[0m\u001B[1;33m)\u001B[0m\u001B[1;33m\u001B[0m\u001B[1;33m\u001B[0m\u001B[0m\n\u001B[0m\u001B[0;32m   2899\u001B[0m             \u001B[1;32mexcept\u001B[0m \u001B[0mKeyError\u001B[0m \u001B[1;32mas\u001B[0m \u001B[0merr\u001B[0m\u001B[1;33m:\u001B[0m\u001B[1;33m\u001B[0m\u001B[1;33m\u001B[0m\u001B[0m\n",
      "\u001B[1;32mpandas\\_libs\\index.pyx\u001B[0m in \u001B[0;36mpandas._libs.index.IndexEngine.get_loc\u001B[1;34m()\u001B[0m\n",
      "\u001B[1;32mpandas\\_libs\\index.pyx\u001B[0m in \u001B[0;36mpandas._libs.index.IndexEngine.get_loc\u001B[1;34m()\u001B[0m\n",
      "\u001B[1;32mpandas\\_libs\\hashtable_class_helper.pxi\u001B[0m in \u001B[0;36mpandas._libs.hashtable.PyObjectHashTable.get_item\u001B[1;34m()\u001B[0m\n",
      "\u001B[1;32mpandas\\_libs\\hashtable_class_helper.pxi\u001B[0m in \u001B[0;36mpandas._libs.hashtable.PyObjectHashTable.get_item\u001B[1;34m()\u001B[0m\n",
      "\u001B[1;31mKeyError\u001B[0m: 'Year'",
      "\nThe above exception was the direct cause of the following exception:\n",
      "\u001B[1;31mKeyError\u001B[0m                                  Traceback (most recent call last)",
      "\u001B[1;32m<ipython-input-10-260d7ecabd34>\u001B[0m in \u001B[0;36m<module>\u001B[1;34m\u001B[0m\n\u001B[0;32m      1\u001B[0m \u001B[1;31m# Add Temporal Context\u001B[0m\u001B[1;33m\u001B[0m\u001B[1;33m\u001B[0m\u001B[1;33m\u001B[0m\u001B[0m\n\u001B[1;32m----> 2\u001B[1;33m \u001B[0mjma_df\u001B[0m\u001B[1;33m[\u001B[0m\u001B[1;34m'Year'\u001B[0m\u001B[1;33m]\u001B[0m \u001B[1;33m=\u001B[0m \u001B[0mjma_df\u001B[0m\u001B[1;33m[\u001B[0m\u001B[1;34m'Year'\u001B[0m\u001B[1;33m]\u001B[0m\u001B[1;33m.\u001B[0m\u001B[0mastype\u001B[0m\u001B[1;33m(\u001B[0m\u001B[1;34m'category'\u001B[0m\u001B[1;33m)\u001B[0m\u001B[1;33m\u001B[0m\u001B[1;33m\u001B[0m\u001B[0m\n\u001B[0m\u001B[0;32m      3\u001B[0m \u001B[0mjma_df\u001B[0m\u001B[1;33m[\u001B[0m\u001B[1;34m'Month'\u001B[0m\u001B[1;33m]\u001B[0m \u001B[1;33m=\u001B[0m \u001B[0mjma_df\u001B[0m\u001B[1;33m[\u001B[0m\u001B[1;34m'Month'\u001B[0m\u001B[1;33m]\u001B[0m\u001B[1;33m.\u001B[0m\u001B[0mastype\u001B[0m\u001B[1;33m(\u001B[0m\u001B[1;34m'category'\u001B[0m\u001B[1;33m)\u001B[0m\u001B[1;33m\u001B[0m\u001B[1;33m\u001B[0m\u001B[0m\n\u001B[0;32m      4\u001B[0m \u001B[0mjma_df\u001B[0m\u001B[1;33m[\u001B[0m\u001B[1;34m'Day'\u001B[0m\u001B[1;33m]\u001B[0m \u001B[1;33m=\u001B[0m \u001B[0mjma_df\u001B[0m\u001B[1;33m[\u001B[0m\u001B[1;34m'Day'\u001B[0m\u001B[1;33m]\u001B[0m\u001B[1;33m.\u001B[0m\u001B[0mastype\u001B[0m\u001B[1;33m(\u001B[0m\u001B[1;34m'category'\u001B[0m\u001B[1;33m)\u001B[0m\u001B[1;33m\u001B[0m\u001B[1;33m\u001B[0m\u001B[0m\n\u001B[0;32m      5\u001B[0m \u001B[0mjma_df\u001B[0m\u001B[1;33m[\u001B[0m\u001B[1;34m'DayOfWeek'\u001B[0m\u001B[1;33m]\u001B[0m \u001B[1;33m=\u001B[0m \u001B[0mjma_df\u001B[0m\u001B[1;33m[\u001B[0m\u001B[1;34m'DayOfWeek'\u001B[0m\u001B[1;33m]\u001B[0m\u001B[1;33m.\u001B[0m\u001B[0mastype\u001B[0m\u001B[1;33m(\u001B[0m\u001B[1;34m'category'\u001B[0m\u001B[1;33m)\u001B[0m\u001B[1;33m\u001B[0m\u001B[1;33m\u001B[0m\u001B[0m\n",
      "\u001B[1;32mC:\\ProgramData\\anaconda3\\envs\\TF\\lib\\site-packages\\pandas\\core\\frame.py\u001B[0m in \u001B[0;36m__getitem__\u001B[1;34m(self, key)\u001B[0m\n\u001B[0;32m   2904\u001B[0m             \u001B[1;32mif\u001B[0m \u001B[0mself\u001B[0m\u001B[1;33m.\u001B[0m\u001B[0mcolumns\u001B[0m\u001B[1;33m.\u001B[0m\u001B[0mnlevels\u001B[0m \u001B[1;33m>\u001B[0m \u001B[1;36m1\u001B[0m\u001B[1;33m:\u001B[0m\u001B[1;33m\u001B[0m\u001B[1;33m\u001B[0m\u001B[0m\n\u001B[0;32m   2905\u001B[0m                 \u001B[1;32mreturn\u001B[0m \u001B[0mself\u001B[0m\u001B[1;33m.\u001B[0m\u001B[0m_getitem_multilevel\u001B[0m\u001B[1;33m(\u001B[0m\u001B[0mkey\u001B[0m\u001B[1;33m)\u001B[0m\u001B[1;33m\u001B[0m\u001B[1;33m\u001B[0m\u001B[0m\n\u001B[1;32m-> 2906\u001B[1;33m             \u001B[0mindexer\u001B[0m \u001B[1;33m=\u001B[0m \u001B[0mself\u001B[0m\u001B[1;33m.\u001B[0m\u001B[0mcolumns\u001B[0m\u001B[1;33m.\u001B[0m\u001B[0mget_loc\u001B[0m\u001B[1;33m(\u001B[0m\u001B[0mkey\u001B[0m\u001B[1;33m)\u001B[0m\u001B[1;33m\u001B[0m\u001B[1;33m\u001B[0m\u001B[0m\n\u001B[0m\u001B[0;32m   2907\u001B[0m             \u001B[1;32mif\u001B[0m \u001B[0mis_integer\u001B[0m\u001B[1;33m(\u001B[0m\u001B[0mindexer\u001B[0m\u001B[1;33m)\u001B[0m\u001B[1;33m:\u001B[0m\u001B[1;33m\u001B[0m\u001B[1;33m\u001B[0m\u001B[0m\n\u001B[0;32m   2908\u001B[0m                 \u001B[0mindexer\u001B[0m \u001B[1;33m=\u001B[0m \u001B[1;33m[\u001B[0m\u001B[0mindexer\u001B[0m\u001B[1;33m]\u001B[0m\u001B[1;33m\u001B[0m\u001B[1;33m\u001B[0m\u001B[0m\n",
      "\u001B[1;32mC:\\ProgramData\\anaconda3\\envs\\TF\\lib\\site-packages\\pandas\\core\\indexes\\base.py\u001B[0m in \u001B[0;36mget_loc\u001B[1;34m(self, key, method, tolerance)\u001B[0m\n\u001B[0;32m   2898\u001B[0m                 \u001B[1;32mreturn\u001B[0m \u001B[0mself\u001B[0m\u001B[1;33m.\u001B[0m\u001B[0m_engine\u001B[0m\u001B[1;33m.\u001B[0m\u001B[0mget_loc\u001B[0m\u001B[1;33m(\u001B[0m\u001B[0mcasted_key\u001B[0m\u001B[1;33m)\u001B[0m\u001B[1;33m\u001B[0m\u001B[1;33m\u001B[0m\u001B[0m\n\u001B[0;32m   2899\u001B[0m             \u001B[1;32mexcept\u001B[0m \u001B[0mKeyError\u001B[0m \u001B[1;32mas\u001B[0m \u001B[0merr\u001B[0m\u001B[1;33m:\u001B[0m\u001B[1;33m\u001B[0m\u001B[1;33m\u001B[0m\u001B[0m\n\u001B[1;32m-> 2900\u001B[1;33m                 \u001B[1;32mraise\u001B[0m \u001B[0mKeyError\u001B[0m\u001B[1;33m(\u001B[0m\u001B[0mkey\u001B[0m\u001B[1;33m)\u001B[0m \u001B[1;32mfrom\u001B[0m \u001B[0merr\u001B[0m\u001B[1;33m\u001B[0m\u001B[1;33m\u001B[0m\u001B[0m\n\u001B[0m\u001B[0;32m   2901\u001B[0m \u001B[1;33m\u001B[0m\u001B[0m\n\u001B[0;32m   2902\u001B[0m         \u001B[1;32mif\u001B[0m \u001B[0mtolerance\u001B[0m \u001B[1;32mis\u001B[0m \u001B[1;32mnot\u001B[0m \u001B[1;32mNone\u001B[0m\u001B[1;33m:\u001B[0m\u001B[1;33m\u001B[0m\u001B[1;33m\u001B[0m\u001B[0m\n",
      "\u001B[1;31mKeyError\u001B[0m: 'Year'"
     ]
    }
   ],
   "execution_count": 10
  },
  {
   "metadata": {
    "ExecuteTime": {
     "end_time": "2024-11-16T09:17:34.763648Z",
     "start_time": "2024-11-16T09:17:34.733813Z"
    }
   },
   "cell_type": "code",
   "source": [
    "# One-hot encode the temporal features\n",
    "jma_encoded = encoder.fit_transform(jma_df[['Year', 'Month', 'Day', 'DayOfWeek', 'Hour']]).toarray()\n",
    "bmkg_encoded = encoder.fit_transform(bmkg_df[['Year', 'Month', 'Day', 'DayOfWeek', 'Hour']]).toarray()\n"
   ],
   "id": "719b743aaf3bd5d8",
   "outputs": [
    {
     "ename": "KeyError",
     "evalue": "\"None of [Index(['Year', 'Month', 'Day', 'DayOfWeek', 'Hour'], dtype='object')] are in the [columns]\"",
     "output_type": "error",
     "traceback": [
      "\u001B[1;31m---------------------------------------------------------------------------\u001B[0m",
      "\u001B[1;31mKeyError\u001B[0m                                  Traceback (most recent call last)",
      "\u001B[1;32m<ipython-input-11-d935e870f3b9>\u001B[0m in \u001B[0;36m<module>\u001B[1;34m\u001B[0m\n\u001B[0;32m      1\u001B[0m \u001B[1;31m# One-hot encode the temporal features\u001B[0m\u001B[1;33m\u001B[0m\u001B[1;33m\u001B[0m\u001B[1;33m\u001B[0m\u001B[0m\n\u001B[1;32m----> 2\u001B[1;33m \u001B[0mjma_encoded\u001B[0m \u001B[1;33m=\u001B[0m \u001B[0mencoder\u001B[0m\u001B[1;33m.\u001B[0m\u001B[0mfit_transform\u001B[0m\u001B[1;33m(\u001B[0m\u001B[0mjma_df\u001B[0m\u001B[1;33m[\u001B[0m\u001B[1;33m[\u001B[0m\u001B[1;34m'Year'\u001B[0m\u001B[1;33m,\u001B[0m \u001B[1;34m'Month'\u001B[0m\u001B[1;33m,\u001B[0m \u001B[1;34m'Day'\u001B[0m\u001B[1;33m,\u001B[0m \u001B[1;34m'DayOfWeek'\u001B[0m\u001B[1;33m,\u001B[0m \u001B[1;34m'Hour'\u001B[0m\u001B[1;33m]\u001B[0m\u001B[1;33m]\u001B[0m\u001B[1;33m)\u001B[0m\u001B[1;33m.\u001B[0m\u001B[0mtoarray\u001B[0m\u001B[1;33m(\u001B[0m\u001B[1;33m)\u001B[0m\u001B[1;33m\u001B[0m\u001B[1;33m\u001B[0m\u001B[0m\n\u001B[0m\u001B[0;32m      3\u001B[0m \u001B[0mbmkg_encoded\u001B[0m \u001B[1;33m=\u001B[0m \u001B[0mencoder\u001B[0m\u001B[1;33m.\u001B[0m\u001B[0mfit_transform\u001B[0m\u001B[1;33m(\u001B[0m\u001B[0mbmkg_df\u001B[0m\u001B[1;33m[\u001B[0m\u001B[1;33m[\u001B[0m\u001B[1;34m'Year'\u001B[0m\u001B[1;33m,\u001B[0m \u001B[1;34m'Month'\u001B[0m\u001B[1;33m,\u001B[0m \u001B[1;34m'Day'\u001B[0m\u001B[1;33m,\u001B[0m \u001B[1;34m'DayOfWeek'\u001B[0m\u001B[1;33m,\u001B[0m \u001B[1;34m'Hour'\u001B[0m\u001B[1;33m]\u001B[0m\u001B[1;33m]\u001B[0m\u001B[1;33m)\u001B[0m\u001B[1;33m.\u001B[0m\u001B[0mtoarray\u001B[0m\u001B[1;33m(\u001B[0m\u001B[1;33m)\u001B[0m\u001B[1;33m\u001B[0m\u001B[1;33m\u001B[0m\u001B[0m\n\u001B[0;32m      4\u001B[0m \u001B[1;33m\u001B[0m\u001B[0m\n",
      "\u001B[1;32mC:\\ProgramData\\anaconda3\\envs\\TF\\lib\\site-packages\\pandas\\core\\frame.py\u001B[0m in \u001B[0;36m__getitem__\u001B[1;34m(self, key)\u001B[0m\n\u001B[0;32m   2910\u001B[0m             \u001B[1;32mif\u001B[0m \u001B[0mis_iterator\u001B[0m\u001B[1;33m(\u001B[0m\u001B[0mkey\u001B[0m\u001B[1;33m)\u001B[0m\u001B[1;33m:\u001B[0m\u001B[1;33m\u001B[0m\u001B[1;33m\u001B[0m\u001B[0m\n\u001B[0;32m   2911\u001B[0m                 \u001B[0mkey\u001B[0m \u001B[1;33m=\u001B[0m \u001B[0mlist\u001B[0m\u001B[1;33m(\u001B[0m\u001B[0mkey\u001B[0m\u001B[1;33m)\u001B[0m\u001B[1;33m\u001B[0m\u001B[1;33m\u001B[0m\u001B[0m\n\u001B[1;32m-> 2912\u001B[1;33m             \u001B[0mindexer\u001B[0m \u001B[1;33m=\u001B[0m \u001B[0mself\u001B[0m\u001B[1;33m.\u001B[0m\u001B[0mloc\u001B[0m\u001B[1;33m.\u001B[0m\u001B[0m_get_listlike_indexer\u001B[0m\u001B[1;33m(\u001B[0m\u001B[0mkey\u001B[0m\u001B[1;33m,\u001B[0m \u001B[0maxis\u001B[0m\u001B[1;33m=\u001B[0m\u001B[1;36m1\u001B[0m\u001B[1;33m,\u001B[0m \u001B[0mraise_missing\u001B[0m\u001B[1;33m=\u001B[0m\u001B[1;32mTrue\u001B[0m\u001B[1;33m)\u001B[0m\u001B[1;33m[\u001B[0m\u001B[1;36m1\u001B[0m\u001B[1;33m]\u001B[0m\u001B[1;33m\u001B[0m\u001B[1;33m\u001B[0m\u001B[0m\n\u001B[0m\u001B[0;32m   2913\u001B[0m \u001B[1;33m\u001B[0m\u001B[0m\n\u001B[0;32m   2914\u001B[0m         \u001B[1;31m# take() does not accept boolean indexers\u001B[0m\u001B[1;33m\u001B[0m\u001B[1;33m\u001B[0m\u001B[1;33m\u001B[0m\u001B[0m\n",
      "\u001B[1;32mC:\\ProgramData\\anaconda3\\envs\\TF\\lib\\site-packages\\pandas\\core\\indexing.py\u001B[0m in \u001B[0;36m_get_listlike_indexer\u001B[1;34m(self, key, axis, raise_missing)\u001B[0m\n\u001B[0;32m   1252\u001B[0m             \u001B[0mkeyarr\u001B[0m\u001B[1;33m,\u001B[0m \u001B[0mindexer\u001B[0m\u001B[1;33m,\u001B[0m \u001B[0mnew_indexer\u001B[0m \u001B[1;33m=\u001B[0m \u001B[0max\u001B[0m\u001B[1;33m.\u001B[0m\u001B[0m_reindex_non_unique\u001B[0m\u001B[1;33m(\u001B[0m\u001B[0mkeyarr\u001B[0m\u001B[1;33m)\u001B[0m\u001B[1;33m\u001B[0m\u001B[1;33m\u001B[0m\u001B[0m\n\u001B[0;32m   1253\u001B[0m \u001B[1;33m\u001B[0m\u001B[0m\n\u001B[1;32m-> 1254\u001B[1;33m         \u001B[0mself\u001B[0m\u001B[1;33m.\u001B[0m\u001B[0m_validate_read_indexer\u001B[0m\u001B[1;33m(\u001B[0m\u001B[0mkeyarr\u001B[0m\u001B[1;33m,\u001B[0m \u001B[0mindexer\u001B[0m\u001B[1;33m,\u001B[0m \u001B[0maxis\u001B[0m\u001B[1;33m,\u001B[0m \u001B[0mraise_missing\u001B[0m\u001B[1;33m=\u001B[0m\u001B[0mraise_missing\u001B[0m\u001B[1;33m)\u001B[0m\u001B[1;33m\u001B[0m\u001B[1;33m\u001B[0m\u001B[0m\n\u001B[0m\u001B[0;32m   1255\u001B[0m         \u001B[1;32mreturn\u001B[0m \u001B[0mkeyarr\u001B[0m\u001B[1;33m,\u001B[0m \u001B[0mindexer\u001B[0m\u001B[1;33m\u001B[0m\u001B[1;33m\u001B[0m\u001B[0m\n\u001B[0;32m   1256\u001B[0m \u001B[1;33m\u001B[0m\u001B[0m\n",
      "\u001B[1;32mC:\\ProgramData\\anaconda3\\envs\\TF\\lib\\site-packages\\pandas\\core\\indexing.py\u001B[0m in \u001B[0;36m_validate_read_indexer\u001B[1;34m(self, key, indexer, axis, raise_missing)\u001B[0m\n\u001B[0;32m   1296\u001B[0m             \u001B[1;32mif\u001B[0m \u001B[0mmissing\u001B[0m \u001B[1;33m==\u001B[0m \u001B[0mlen\u001B[0m\u001B[1;33m(\u001B[0m\u001B[0mindexer\u001B[0m\u001B[1;33m)\u001B[0m\u001B[1;33m:\u001B[0m\u001B[1;33m\u001B[0m\u001B[1;33m\u001B[0m\u001B[0m\n\u001B[0;32m   1297\u001B[0m                 \u001B[0maxis_name\u001B[0m \u001B[1;33m=\u001B[0m \u001B[0mself\u001B[0m\u001B[1;33m.\u001B[0m\u001B[0mobj\u001B[0m\u001B[1;33m.\u001B[0m\u001B[0m_get_axis_name\u001B[0m\u001B[1;33m(\u001B[0m\u001B[0maxis\u001B[0m\u001B[1;33m)\u001B[0m\u001B[1;33m\u001B[0m\u001B[1;33m\u001B[0m\u001B[0m\n\u001B[1;32m-> 1298\u001B[1;33m                 \u001B[1;32mraise\u001B[0m \u001B[0mKeyError\u001B[0m\u001B[1;33m(\u001B[0m\u001B[1;34mf\"None of [{key}] are in the [{axis_name}]\"\u001B[0m\u001B[1;33m)\u001B[0m\u001B[1;33m\u001B[0m\u001B[1;33m\u001B[0m\u001B[0m\n\u001B[0m\u001B[0;32m   1299\u001B[0m \u001B[1;33m\u001B[0m\u001B[0m\n\u001B[0;32m   1300\u001B[0m             \u001B[1;31m# We (temporarily) allow for some missing keys with .loc, except in\u001B[0m\u001B[1;33m\u001B[0m\u001B[1;33m\u001B[0m\u001B[1;33m\u001B[0m\u001B[0m\n",
      "\u001B[1;31mKeyError\u001B[0m: \"None of [Index(['Year', 'Month', 'Day', 'DayOfWeek', 'Hour'], dtype='object')] are in the [columns]\""
     ]
    }
   ],
   "execution_count": 11
  },
  {
   "metadata": {
    "ExecuteTime": {
     "end_time": "2024-11-16T09:18:36.102049Z",
     "start_time": "2024-11-16T09:18:36.070623Z"
    }
   },
   "cell_type": "code",
   "source": [
    "correlation_matrix = bmkg_df.corr()\n",
    "target_corr = correlation_matrix['Magnitude']\n",
    "selected_features = target_corr[target_corr.abs() > 0.1].index\n",
    "X_selected = bmkg_df[selected_features]"
   ],
   "id": "edaa4fd600a4c2d4",
   "outputs": [],
   "execution_count": 12
  },
  {
   "metadata": {
    "ExecuteTime": {
     "end_time": "2024-11-16T09:18:38.746143Z",
     "start_time": "2024-11-16T09:18:38.727489Z"
    }
   },
   "cell_type": "code",
   "source": "X_selected.head()",
   "id": "a098deaed4771fd8",
   "outputs": [
    {
     "data": {
      "text/plain": [
       "   Latitude  Longitude     Depth  Magnitude\n",
       "0  0.107059   0.521884  0.010695   0.565217\n",
       "1  0.261765   0.742393  0.010695   0.521739\n",
       "2  0.234706   0.262818  0.159091   0.391304\n",
       "3  0.452941   0.705085  0.010695   0.318841\n",
       "4  0.270000   0.740308  0.090909   0.478261"
      ],
      "text/html": [
       "<div>\n",
       "<style scoped>\n",
       "    .dataframe tbody tr th:only-of-type {\n",
       "        vertical-align: middle;\n",
       "    }\n",
       "\n",
       "    .dataframe tbody tr th {\n",
       "        vertical-align: top;\n",
       "    }\n",
       "\n",
       "    .dataframe thead th {\n",
       "        text-align: right;\n",
       "    }\n",
       "</style>\n",
       "<table border=\"1\" class=\"dataframe\">\n",
       "  <thead>\n",
       "    <tr style=\"text-align: right;\">\n",
       "      <th></th>\n",
       "      <th>Latitude</th>\n",
       "      <th>Longitude</th>\n",
       "      <th>Depth</th>\n",
       "      <th>Magnitude</th>\n",
       "    </tr>\n",
       "  </thead>\n",
       "  <tbody>\n",
       "    <tr>\n",
       "      <th>0</th>\n",
       "      <td>0.107059</td>\n",
       "      <td>0.521884</td>\n",
       "      <td>0.010695</td>\n",
       "      <td>0.565217</td>\n",
       "    </tr>\n",
       "    <tr>\n",
       "      <th>1</th>\n",
       "      <td>0.261765</td>\n",
       "      <td>0.742393</td>\n",
       "      <td>0.010695</td>\n",
       "      <td>0.521739</td>\n",
       "    </tr>\n",
       "    <tr>\n",
       "      <th>2</th>\n",
       "      <td>0.234706</td>\n",
       "      <td>0.262818</td>\n",
       "      <td>0.159091</td>\n",
       "      <td>0.391304</td>\n",
       "    </tr>\n",
       "    <tr>\n",
       "      <th>3</th>\n",
       "      <td>0.452941</td>\n",
       "      <td>0.705085</td>\n",
       "      <td>0.010695</td>\n",
       "      <td>0.318841</td>\n",
       "    </tr>\n",
       "    <tr>\n",
       "      <th>4</th>\n",
       "      <td>0.270000</td>\n",
       "      <td>0.740308</td>\n",
       "      <td>0.090909</td>\n",
       "      <td>0.478261</td>\n",
       "    </tr>\n",
       "  </tbody>\n",
       "</table>\n",
       "</div>"
      ]
     },
     "execution_count": 13,
     "metadata": {},
     "output_type": "execute_result"
    }
   ],
   "execution_count": 13
  },
  {
   "metadata": {
    "ExecuteTime": {
     "end_time": "2024-11-16T09:19:12.641837Z",
     "start_time": "2024-11-16T09:19:12.572865Z"
    }
   },
   "cell_type": "code",
   "source": [
    "# Split the Data\n",
    "from sklearn.model_selection import train_test_split\n",
    "\n",
    "X_train, X_test, y_train, y_test = train_test_split(X_selected, bmkg_df['Magnitude'], test_size=0.2, random_state=42)"
   ],
   "id": "834fdbd73116a9ad",
   "outputs": [],
   "execution_count": 14
  },
  {
   "metadata": {
    "ExecuteTime": {
     "end_time": "2024-11-16T09:20:29.211419Z",
     "start_time": "2024-11-16T09:20:28.754332Z"
    }
   },
   "cell_type": "code",
   "source": [
    "# save the selected features to a new CSV file for bmkg dataset as numpy array\n",
    "X_selected.to_csv('BMKG_selected_features.csv', index=False)"
   ],
   "id": "2c0b0ece08daf385",
   "outputs": [],
   "execution_count": 15
  },
  {
   "metadata": {},
   "cell_type": "code",
   "outputs": [],
   "execution_count": null,
   "source": "",
   "id": "3ece34e0698e8779"
  }
 ],
 "metadata": {
  "kernelspec": {
   "display_name": "Python 3",
   "language": "python",
   "name": "python3"
  },
  "language_info": {
   "codemirror_mode": {
    "name": "ipython",
    "version": 2
   },
   "file_extension": ".py",
   "mimetype": "text/x-python",
   "name": "python",
   "nbconvert_exporter": "python",
   "pygments_lexer": "ipython2",
   "version": "2.7.6"
  }
 },
 "nbformat": 4,
 "nbformat_minor": 5
}
