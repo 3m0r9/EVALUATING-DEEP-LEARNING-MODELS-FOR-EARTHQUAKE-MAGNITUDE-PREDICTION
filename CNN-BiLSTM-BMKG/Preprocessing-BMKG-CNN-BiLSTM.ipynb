{
 "cells": [
  {
   "cell_type": "code",
   "id": "initial_id",
   "metadata": {
    "collapsed": true,
    "ExecuteTime": {
     "end_time": "2024-12-22T08:40:44.869556Z",
     "start_time": "2024-12-22T08:40:44.772704Z"
    }
   },
   "source": [
    "import pandas as pd\n",
    "import numpy as np\n",
    "from sklearn.model_selection import train_test_split\n",
    "from sklearn.preprocessing import MinMaxScaler\n",
    "\n",
    "# Load the dataset\n",
    "bmkg_data = pd.read_csv('BMKG_dataset.csv')  # Replace with the correct path\n",
    "print(bmkg_data.head())"
   ],
   "outputs": [
    {
     "name": "stdout",
     "output_type": "stream",
     "text": [
      "          tgl            ot   lat     lon  depth  mag  \\\n",
      "0  2008/11/01  21:02:43.058 -9.18  119.06     10  4.9   \n",
      "1  2008/11/01  20:58:50.248 -6.55  129.64     10  4.6   \n",
      "2  2008/11/01  17:43:12.941 -7.01  106.63    121  3.7   \n",
      "3  2008/11/01  16:24:14.755 -3.30  127.85     10  3.2   \n",
      "4  2008/11/01  16:20:37.327 -6.41  129.54     70  4.3   \n",
      "\n",
      "                     remark  strike1  dip1  rake1  strike2  dip2  rake2  \n",
      "0  Sumba Region - Indonesia      NaN   NaN    NaN      NaN   NaN    NaN  \n",
      "1                 Banda Sea      NaN   NaN    NaN      NaN   NaN    NaN  \n",
      "2          Java - Indonesia      NaN   NaN    NaN      NaN   NaN    NaN  \n",
      "3         Seram - Indonesia      NaN   NaN    NaN      NaN   NaN    NaN  \n",
      "4                 Banda Sea      NaN   NaN    NaN      NaN   NaN    NaN  \n"
     ]
    }
   ],
   "execution_count": 15
  },
  {
   "metadata": {
    "ExecuteTime": {
     "end_time": "2024-12-22T08:40:45.204367Z",
     "start_time": "2024-12-22T08:40:45.124706Z"
    }
   },
   "cell_type": "code",
   "source": [
    "# Combine date and time into a single Datetime column\n",
    "bmkg_data['Datetime'] = pd.to_datetime(bmkg_data['tgl'] + ' ' + bmkg_data['ot'])\n",
    "\n",
    "# Show the data\n",
    "print(bmkg_data.head())"
   ],
   "id": "229bf0d39991652a",
   "outputs": [
    {
     "name": "stdout",
     "output_type": "stream",
     "text": [
      "          tgl            ot   lat     lon  depth  mag  \\\n",
      "0  2008/11/01  21:02:43.058 -9.18  119.06     10  4.9   \n",
      "1  2008/11/01  20:58:50.248 -6.55  129.64     10  4.6   \n",
      "2  2008/11/01  17:43:12.941 -7.01  106.63    121  3.7   \n",
      "3  2008/11/01  16:24:14.755 -3.30  127.85     10  3.2   \n",
      "4  2008/11/01  16:20:37.327 -6.41  129.54     70  4.3   \n",
      "\n",
      "                     remark  strike1  dip1  rake1  strike2  dip2  rake2  \\\n",
      "0  Sumba Region - Indonesia      NaN   NaN    NaN      NaN   NaN    NaN   \n",
      "1                 Banda Sea      NaN   NaN    NaN      NaN   NaN    NaN   \n",
      "2          Java - Indonesia      NaN   NaN    NaN      NaN   NaN    NaN   \n",
      "3         Seram - Indonesia      NaN   NaN    NaN      NaN   NaN    NaN   \n",
      "4                 Banda Sea      NaN   NaN    NaN      NaN   NaN    NaN   \n",
      "\n",
      "                 Datetime  \n",
      "0 2008-11-01 21:02:43.058  \n",
      "1 2008-11-01 20:58:50.248  \n",
      "2 2008-11-01 17:43:12.941  \n",
      "3 2008-11-01 16:24:14.755  \n",
      "4 2008-11-01 16:20:37.327  \n"
     ]
    }
   ],
   "execution_count": 16
  },
  {
   "metadata": {
    "ExecuteTime": {
     "end_time": "2024-12-22T08:40:45.716108Z",
     "start_time": "2024-12-22T08:40:45.684257Z"
    }
   },
   "cell_type": "code",
   "source": [
    "# Feature Engineering\n",
    "bmkg_data['Year'] = bmkg_data['Datetime'].dt.year\n",
    "bmkg_data['Month'] = bmkg_data['Datetime'].dt.month\n",
    "bmkg_data['Day'] = bmkg_data['Datetime'].dt.day\n",
    "bmkg_data['Hour'] = bmkg_data['Datetime'].dt.hour\n",
    "bmkg_data['Minutes'] = bmkg_data['Datetime'].dt.minute\n",
    "bmkg_data['DayOfWeek'] = bmkg_data['Datetime'].dt.dayofweek"
   ],
   "id": "276b79d0cc4ca0d5",
   "outputs": [],
   "execution_count": 17
  },
  {
   "metadata": {
    "ExecuteTime": {
     "end_time": "2024-12-22T08:40:46.065265Z",
     "start_time": "2024-12-22T08:40:46.033977Z"
    }
   },
   "cell_type": "code",
   "source": [
    "# Time difference (in seconds) from the previous event\n",
    "bmkg_data['TimeDiff'] = bmkg_data['Datetime'].diff().dt.total_seconds().fillna(0)\n",
    "\n",
    "# Show the data\n",
    "print(bmkg_data.head())"
   ],
   "id": "e3e0362aaef00f18",
   "outputs": [
    {
     "name": "stdout",
     "output_type": "stream",
     "text": [
      "          tgl            ot   lat     lon  depth  mag  \\\n",
      "0  2008/11/01  21:02:43.058 -9.18  119.06     10  4.9   \n",
      "1  2008/11/01  20:58:50.248 -6.55  129.64     10  4.6   \n",
      "2  2008/11/01  17:43:12.941 -7.01  106.63    121  3.7   \n",
      "3  2008/11/01  16:24:14.755 -3.30  127.85     10  3.2   \n",
      "4  2008/11/01  16:20:37.327 -6.41  129.54     70  4.3   \n",
      "\n",
      "                     remark  strike1  dip1  rake1  ...  dip2  rake2  \\\n",
      "0  Sumba Region - Indonesia      NaN   NaN    NaN  ...   NaN    NaN   \n",
      "1                 Banda Sea      NaN   NaN    NaN  ...   NaN    NaN   \n",
      "2          Java - Indonesia      NaN   NaN    NaN  ...   NaN    NaN   \n",
      "3         Seram - Indonesia      NaN   NaN    NaN  ...   NaN    NaN   \n",
      "4                 Banda Sea      NaN   NaN    NaN  ...   NaN    NaN   \n",
      "\n",
      "                 Datetime  Year  Month  Day  Hour  Minutes  DayOfWeek  \\\n",
      "0 2008-11-01 21:02:43.058  2008     11    1    21        2          5   \n",
      "1 2008-11-01 20:58:50.248  2008     11    1    20       58          5   \n",
      "2 2008-11-01 17:43:12.941  2008     11    1    17       43          5   \n",
      "3 2008-11-01 16:24:14.755  2008     11    1    16       24          5   \n",
      "4 2008-11-01 16:20:37.327  2008     11    1    16       20          5   \n",
      "\n",
      "    TimeDiff  \n",
      "0      0.000  \n",
      "1   -232.810  \n",
      "2 -11737.307  \n",
      "3  -4738.186  \n",
      "4   -217.428  \n",
      "\n",
      "[5 rows x 21 columns]\n"
     ]
    }
   ],
   "execution_count": 18
  },
  {
   "metadata": {
    "ExecuteTime": {
     "end_time": "2024-12-22T08:40:46.415502Z",
     "start_time": "2024-12-22T08:40:46.387241Z"
    }
   },
   "cell_type": "code",
   "source": [
    "# Drop unnecessary columns\n",
    "bmkg_data = bmkg_data.drop(columns=['tgl', 'ot', 'remark', 'strike1', 'dip1', 'rake1', 'strike2', 'dip2', 'rake2'])\n",
    "\n",
    "# Show the data\n",
    "print(bmkg_data.head())"
   ],
   "id": "e97f2814765ee12e",
   "outputs": [
    {
     "name": "stdout",
     "output_type": "stream",
     "text": [
      "    lat     lon  depth  mag                Datetime  Year  Month  Day  Hour  \\\n",
      "0 -9.18  119.06     10  4.9 2008-11-01 21:02:43.058  2008     11    1    21   \n",
      "1 -6.55  129.64     10  4.6 2008-11-01 20:58:50.248  2008     11    1    20   \n",
      "2 -7.01  106.63    121  3.7 2008-11-01 17:43:12.941  2008     11    1    17   \n",
      "3 -3.30  127.85     10  3.2 2008-11-01 16:24:14.755  2008     11    1    16   \n",
      "4 -6.41  129.54     70  4.3 2008-11-01 16:20:37.327  2008     11    1    16   \n",
      "\n",
      "   Minutes  DayOfWeek   TimeDiff  \n",
      "0        2          5      0.000  \n",
      "1       58          5   -232.810  \n",
      "2       43          5 -11737.307  \n",
      "3       24          5  -4738.186  \n",
      "4       20          5   -217.428  \n"
     ]
    }
   ],
   "execution_count": 19
  },
  {
   "metadata": {
    "ExecuteTime": {
     "end_time": "2024-12-22T08:40:46.734708Z",
     "start_time": "2024-12-22T08:40:46.718858Z"
    }
   },
   "cell_type": "code",
   "source": [
    "# Standardize column names\n",
    "bmkg_data.rename(columns={'mag': 'Magnitude', 'depth': 'Depth', 'lat': 'Latitude', 'lon': 'Longitude'}, inplace=True)\n",
    "\n",
    "# Show the data\n",
    "print(bmkg_data.head())"
   ],
   "id": "c74b2f3864879229",
   "outputs": [
    {
     "name": "stdout",
     "output_type": "stream",
     "text": [
      "   Latitude  Longitude  Depth  Magnitude                Datetime  Year  Month  \\\n",
      "0     -9.18     119.06     10        4.9 2008-11-01 21:02:43.058  2008     11   \n",
      "1     -6.55     129.64     10        4.6 2008-11-01 20:58:50.248  2008     11   \n",
      "2     -7.01     106.63    121        3.7 2008-11-01 17:43:12.941  2008     11   \n",
      "3     -3.30     127.85     10        3.2 2008-11-01 16:24:14.755  2008     11   \n",
      "4     -6.41     129.54     70        4.3 2008-11-01 16:20:37.327  2008     11   \n",
      "\n",
      "   Day  Hour  Minutes  DayOfWeek   TimeDiff  \n",
      "0    1    21        2          5      0.000  \n",
      "1    1    20       58          5   -232.810  \n",
      "2    1    17       43          5 -11737.307  \n",
      "3    1    16       24          5  -4738.186  \n",
      "4    1    16       20          5   -217.428  \n"
     ]
    }
   ],
   "execution_count": 20
  },
  {
   "metadata": {
    "ExecuteTime": {
     "end_time": "2024-12-22T08:40:47.188575Z",
     "start_time": "2024-12-22T08:40:47.159274Z"
    }
   },
   "cell_type": "code",
   "source": [
    "# Drop the `Datetime` column (optional, as time features are extracted)\n",
    "bmkg_data = bmkg_data.drop(columns=['Datetime'])\n",
    "\n",
    "# Show the data\n",
    "print(bmkg_data.head())"
   ],
   "id": "44117de254db0668",
   "outputs": [
    {
     "name": "stdout",
     "output_type": "stream",
     "text": [
      "   Latitude  Longitude  Depth  Magnitude  Year  Month  Day  Hour  Minutes  \\\n",
      "0     -9.18     119.06     10        4.9  2008     11    1    21        2   \n",
      "1     -6.55     129.64     10        4.6  2008     11    1    20       58   \n",
      "2     -7.01     106.63    121        3.7  2008     11    1    17       43   \n",
      "3     -3.30     127.85     10        3.2  2008     11    1    16       24   \n",
      "4     -6.41     129.54     70        4.3  2008     11    1    16       20   \n",
      "\n",
      "   DayOfWeek   TimeDiff  \n",
      "0          5      0.000  \n",
      "1          5   -232.810  \n",
      "2          5 -11737.307  \n",
      "3          5  -4738.186  \n",
      "4          5   -217.428  \n"
     ]
    }
   ],
   "execution_count": 21
  },
  {
   "metadata": {
    "ExecuteTime": {
     "end_time": "2024-12-22T08:40:48.319344Z",
     "start_time": "2024-12-22T08:40:48.287906Z"
    }
   },
   "cell_type": "code",
   "source": [
    "print(bmkg_data.head())\n",
    "# Drop rows with missing values\n",
    "bmkg_data = bmkg_data.dropna()\n",
    "\n",
    "# Show the data\n",
    "print(bmkg_data.head())"
   ],
   "id": "52d99a7d7eb009f",
   "outputs": [
    {
     "name": "stdout",
     "output_type": "stream",
     "text": [
      "   Latitude  Longitude  Depth  Magnitude  Year  Month  Day  Hour  Minutes  \\\n",
      "0     -9.18     119.06     10        4.9  2008     11    1    21        2   \n",
      "1     -6.55     129.64     10        4.6  2008     11    1    20       58   \n",
      "2     -7.01     106.63    121        3.7  2008     11    1    17       43   \n",
      "3     -3.30     127.85     10        3.2  2008     11    1    16       24   \n",
      "4     -6.41     129.54     70        4.3  2008     11    1    16       20   \n",
      "\n",
      "   DayOfWeek   TimeDiff  \n",
      "0          5      0.000  \n",
      "1          5   -232.810  \n",
      "2          5 -11737.307  \n",
      "3          5  -4738.186  \n",
      "4          5   -217.428  \n",
      "   Latitude  Longitude  Depth  Magnitude  Year  Month  Day  Hour  Minutes  \\\n",
      "0     -9.18     119.06     10        4.9  2008     11    1    21        2   \n",
      "1     -6.55     129.64     10        4.6  2008     11    1    20       58   \n",
      "2     -7.01     106.63    121        3.7  2008     11    1    17       43   \n",
      "3     -3.30     127.85     10        3.2  2008     11    1    16       24   \n",
      "4     -6.41     129.54     70        4.3  2008     11    1    16       20   \n",
      "\n",
      "   DayOfWeek   TimeDiff  \n",
      "0          5      0.000  \n",
      "1          5   -232.810  \n",
      "2          5 -11737.307  \n",
      "3          5  -4738.186  \n",
      "4          5   -217.428  \n"
     ]
    }
   ],
   "execution_count": 22
  },
  {
   "metadata": {
    "ExecuteTime": {
     "end_time": "2024-12-22T08:40:50.888949Z",
     "start_time": "2024-12-22T08:40:50.856975Z"
    }
   },
   "cell_type": "code",
   "source": [
    "# Select features (X) and target (y)\n",
    "X_bmkg = bmkg_data.drop(columns=['Magnitude'])\n",
    "y_bmkg = bmkg_data['Magnitude']\n",
    "\n",
    "# Show the data\n",
    "print(X_bmkg.head())\n",
    "print(y_bmkg.head())"
   ],
   "id": "fc00421d8dca5c13",
   "outputs": [
    {
     "name": "stdout",
     "output_type": "stream",
     "text": [
      "   Latitude  Longitude  Depth  Year  Month  Day  Hour  Minutes  DayOfWeek  \\\n",
      "0     -9.18     119.06     10  2008     11    1    21        2          5   \n",
      "1     -6.55     129.64     10  2008     11    1    20       58          5   \n",
      "2     -7.01     106.63    121  2008     11    1    17       43          5   \n",
      "3     -3.30     127.85     10  2008     11    1    16       24          5   \n",
      "4     -6.41     129.54     70  2008     11    1    16       20          5   \n",
      "\n",
      "    TimeDiff  \n",
      "0      0.000  \n",
      "1   -232.810  \n",
      "2 -11737.307  \n",
      "3  -4738.186  \n",
      "4   -217.428  \n",
      "0    4.9\n",
      "1    4.6\n",
      "2    3.7\n",
      "3    3.2\n",
      "4    4.3\n",
      "Name: Magnitude, dtype: float64\n"
     ]
    }
   ],
   "execution_count": 23
  },
  {
   "metadata": {
    "ExecuteTime": {
     "end_time": "2024-12-22T08:40:54.046175Z",
     "start_time": "2024-12-22T08:40:54.019892Z"
    }
   },
   "cell_type": "code",
   "source": [
    "from sklearn.preprocessing import MinMaxScaler\n",
    "import numpy as np\n",
    "\n",
    "# Initialize scalers\n",
    "scaler_X = MinMaxScaler()\n",
    "scaler_y = MinMaxScaler()\n",
    "\n",
    "# Normalize features (X)\n",
    "X_bmkg_scaled = scaler_X.fit_transform(X_bmkg)\n",
    "\n",
    "# Normalize target (y)\n",
    "y_bmkg_scaled = scaler_y.fit_transform(y_bmkg.values.reshape(-1, 1))  # Convert Series to NumPy array and reshape"
   ],
   "id": "97ab51993e313ebd",
   "outputs": [],
   "execution_count": 24
  },
  {
   "metadata": {
    "ExecuteTime": {
     "end_time": "2024-12-22T08:40:56.192918Z",
     "start_time": "2024-12-22T08:40:56.179371Z"
    }
   },
   "cell_type": "code",
   "source": [
    "# Display the normalized features and target\n",
    "print(\"Normalized Features:\")\n",
    "print(X_bmkg_scaled)\n",
    "print(\"\\nNormalized Target:\")\n",
    "print(y_bmkg_scaled)\n",
    "\n",
    "# Save the scalers\n",
    "np.save(\"scaler_X.npy\", scaler_X)\n",
    "np.save(\"scaler_y.npy\", scaler_y)\n"
   ],
   "id": "7a1b83e1a3793db4",
   "outputs": [
    {
     "name": "stdout",
     "output_type": "stream",
     "text": [
      "Normalized Features:\n",
      "[[0.10705882 0.52188412 0.01069519 ... 0.03389831 0.83333333 0.33210184]\n",
      " [0.26176471 0.74239266 0.01069519 ... 0.98305085 0.83333333 0.3320872 ]\n",
      " [0.23470588 0.26281784 0.15909091 ... 0.72881356 0.83333333 0.3313637 ]\n",
      " ...\n",
      " [0.18647059 0.56377657 0.01069519 ... 0.96610169 0.5        0.33203423]\n",
      " [0.82352941 0.69070446 0.01069519 ... 0.77966102 0.5        0.33206109]\n",
      " [0.12529412 0.5195915  0.01069519 ... 0.         0.5        0.33170276]]\n",
      "\n",
      "Normalized Target:\n",
      "[[0.56521739]\n",
      " [0.52173913]\n",
      " [0.39130435]\n",
      " ...\n",
      " [0.4057971 ]\n",
      " [0.44927536]\n",
      " [0.20289855]]\n"
     ]
    }
   ],
   "execution_count": 25
  },
  {
   "metadata": {
    "ExecuteTime": {
     "end_time": "2024-12-22T08:41:33.536645Z",
     "start_time": "2024-12-22T08:41:33.520547Z"
    }
   },
   "cell_type": "code",
   "source": [
    "# Reshape for CNN-GRU (if needed, based on time steps)\n",
    "time_steps = 5\n",
    "samples = X_bmkg_scaled.shape[0] - time_steps + 1  # Calculate the number of samples\n",
    "features = X_bmkg_scaled.shape[1]\n"
   ],
   "id": "1b46f9b5792ba2d6",
   "outputs": [],
   "execution_count": 26
  },
  {
   "metadata": {
    "ExecuteTime": {
     "end_time": "2024-12-22T08:41:34.339737Z",
     "start_time": "2024-12-22T08:41:34.323713Z"
    }
   },
   "cell_type": "code",
   "source": [
    "#show the data\n",
    "print(samples)\n",
    "print(features)"
   ],
   "id": "98f6c01874d1e871",
   "outputs": [
    {
     "name": "stdout",
     "output_type": "stream",
     "text": [
      "92883\n",
      "10\n"
     ]
    }
   ],
   "execution_count": 27
  },
  {
   "metadata": {
    "ExecuteTime": {
     "end_time": "2024-12-22T08:41:45.057477Z",
     "start_time": "2024-12-22T08:41:45.041624Z"
    }
   },
   "cell_type": "code",
   "source": [
    "# show the data shape\n",
    "print(X_bmkg_scaled.shape)\n",
    "print(y_bmkg_scaled.shape)"
   ],
   "id": "72c77df445e41dcb",
   "outputs": [
    {
     "name": "stdout",
     "output_type": "stream",
     "text": [
      "(92887, 10)\n",
      "(92887, 1)\n"
     ]
    }
   ],
   "execution_count": 28
  },
  {
   "metadata": {
    "ExecuteTime": {
     "end_time": "2024-12-22T08:42:08.515075Z",
     "start_time": "2024-12-22T08:42:08.467616Z"
    }
   },
   "cell_type": "code",
   "source": [
    "# Create sequences of time steps\n",
    "X_bmkg_reshaped = np.array([X_bmkg_scaled[i:i+time_steps] for i in range(samples)])\n",
    "y_bmkg_reshaped = y_bmkg_scaled[time_steps-1:]  # Align the target with the sequences\n",
    "\n",
    "# Verify the shape of the reshaped data\n",
    "print(\"\\nReshaped Data:\")\n",
    "print(f\"X_bmkg shape: {X_bmkg_reshaped.shape}\")\n",
    "print(f\"y_bmkg shape: {y_bmkg_reshaped.shape}\")\n"
   ],
   "id": "bfa37e5f95945a3d",
   "outputs": [
    {
     "name": "stdout",
     "output_type": "stream",
     "text": [
      "\n",
      "Reshaped Data:\n",
      "X_bmkg shape: (92883, 5, 10)\n",
      "y_bmkg shape: (92883, 1)\n"
     ]
    }
   ],
   "execution_count": 29
  },
  {
   "metadata": {
    "ExecuteTime": {
     "end_time": "2024-12-22T08:43:06.703150Z",
     "start_time": "2024-12-22T08:43:06.639663Z"
    }
   },
   "cell_type": "code",
   "source": [
    "# Save preprocessed data\n",
    "np.save(\"X_bmkg_cnn_bilstm.npy\", X_bmkg_reshaped)\n",
    "np.save(\"y_bmkg_cnn_bilstm.npy\", y_bmkg_reshaped)\n",
    "\n",
    "print(\"Preprocessing complete. Data saved.\")"
   ],
   "id": "9312b0b886f9b4ac",
   "outputs": [
    {
     "name": "stdout",
     "output_type": "stream",
     "text": [
      "Preprocessing complete. Data saved.\n"
     ]
    }
   ],
   "execution_count": 30
  },
  {
   "metadata": {
    "ExecuteTime": {
     "end_time": "2024-12-22T08:43:18.929531Z",
     "start_time": "2024-12-22T08:43:18.897435Z"
    }
   },
   "cell_type": "code",
   "source": [
    "# Check the saved data shape\n",
    "X_bmkg = np.load(\"X_bmkg_cnn_bilstm.npy\")  # Loading the first array\n",
    "y_bmkg = np.load(\"y_bmkg_cnn_bilstm.npy\")  # Loading the second array\n",
    "\n",
    "# Print results\n",
    "print(f\"X_bmkg shape: {X_bmkg.shape}\")\n",
    "print(f\"y_bmkg shape: {y_bmkg.shape}\")\n"
   ],
   "id": "54cbec74afc4af53",
   "outputs": [
    {
     "name": "stdout",
     "output_type": "stream",
     "text": [
      "X_bmkg shape: (92883, 5, 10)\n",
      "y_bmkg shape: (92883, 1)\n"
     ]
    }
   ],
   "execution_count": 31
  },
  {
   "metadata": {},
   "cell_type": "code",
   "outputs": [],
   "execution_count": null,
   "source": "",
   "id": "68f912916de3585c"
  }
 ],
 "metadata": {
  "kernelspec": {
   "display_name": "Python 3",
   "language": "python",
   "name": "python3"
  },
  "language_info": {
   "codemirror_mode": {
    "name": "ipython",
    "version": 2
   },
   "file_extension": ".py",
   "mimetype": "text/x-python",
   "name": "python",
   "nbconvert_exporter": "python",
   "pygments_lexer": "ipython2",
   "version": "2.7.6"
  }
 },
 "nbformat": 4,
 "nbformat_minor": 5
}
