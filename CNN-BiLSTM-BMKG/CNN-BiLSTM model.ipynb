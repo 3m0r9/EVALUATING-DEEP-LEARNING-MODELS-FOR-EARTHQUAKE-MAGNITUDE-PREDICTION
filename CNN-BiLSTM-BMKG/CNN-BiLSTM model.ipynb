{
 "cells": [
  {
   "metadata": {
    "ExecuteTime": {
     "end_time": "2024-11-16T10:08:59.118101Z",
     "start_time": "2024-11-16T10:08:59.086294Z"
    }
   },
   "cell_type": "code",
   "source": [
    "import numpy as np\n",
    "from tensorflow.keras.models import Sequential\n",
    "from tensorflow.keras.layers import Conv1D, MaxPooling1D, Flatten, Dense, Dropout, Bidirectional, LSTM, Multiply\n",
    "from tensorflow.keras.optimizers import Adam\n",
    "from tensorflow.keras.layers import Dense"
   ],
   "id": "1334c62220bfe9c2",
   "outputs": [],
   "execution_count": 5
  },
  {
   "metadata": {
    "ExecuteTime": {
     "end_time": "2024-11-16T10:14:43.938889Z",
     "start_time": "2024-11-16T10:14:43.725980Z"
    }
   },
   "cell_type": "code",
   "source": [
    "# BMKG Dataset\n",
    "import pandas as pd\n",
    "BMKG_features = pd.read_csv(\"../BMKG_features.csv\")\n",
    "print(\"BMKG Dataset:\")\n",
    "print(BMKG_features.head())"
   ],
   "id": "5d7dc7aebb8b492e",
   "outputs": [
    {
     "name": "stdout",
     "output_type": "stream",
     "text": [
      "BMKG Dataset:\n",
      "   Latitude  Longitude     Depth  Magnitude                 Datetime  Year  \\\n",
      "0     -9.18     119.06  0.010695   0.565217  2008-11-01 21:02:43.058  2008   \n",
      "1     -6.55     129.64  0.010695   0.521739  2008-11-01 20:58:50.248  2008   \n",
      "2     -7.01     106.63  0.159091   0.391304  2008-11-01 17:43:12.941  2008   \n",
      "3     -3.30     127.85  0.010695   0.318841  2008-11-01 16:24:14.755  2008   \n",
      "4     -6.41     129.54  0.090909   0.478261  2008-11-01 16:20:37.327  2008   \n",
      "\n",
      "   Month  Day  DayOfWeek  Hour MagnitudeCategory  TimeDiff  \n",
      "0     11    1          5    21               Low  0.000000  \n",
      "1     11    1          5    20               Low -0.064669  \n",
      "2     11    1          5    17               Low -3.260363  \n",
      "3     11    1          5    16               Low -1.316163  \n",
      "4     11    1          5    16               Low -0.060397  \n"
     ]
    }
   ],
   "execution_count": 12
  },
  {
   "metadata": {
    "ExecuteTime": {
     "end_time": "2024-11-16T10:20:57.330404Z",
     "start_time": "2024-11-16T10:20:57.306273Z"
    }
   },
   "cell_type": "code",
   "source": [
    "# Remove 'Datetime' and 'MagnitudeCategory' from features and target\n",
    "X_bmkg = BMKG_features[[\"Latitude\", \"Longitude\", \"Depth\", \"TimeDiff\", \"Year\", \"Month\", \"Day\", \"DayOfWeek\", \"Hour\"]].values\n",
    "\n",
    "# Use 'Magnitude' as the target variable for regression\n",
    "y_bmkg = BMKG_features[[\"Magnitude\"]].values\n",
    "\n",
    "# Check shapes after selection\n",
    "print(\"X_bmkg shape:\", X_bmkg.shape)\n",
    "print(\"y_bmkg shape:\", y_bmkg.shape)"
   ],
   "id": "d3371e4d16265975",
   "outputs": [
    {
     "name": "stdout",
     "output_type": "stream",
     "text": [
      "X_bmkg shape: (92887, 9)\n",
      "y_bmkg shape: (92887, 1)\n"
     ]
    }
   ],
   "execution_count": 13
  },
  {
   "metadata": {
    "ExecuteTime": {
     "end_time": "2024-11-16T10:22:40.737378Z",
     "start_time": "2024-11-16T10:22:40.495894Z"
    }
   },
   "cell_type": "code",
   "source": [
    "# check if the data is already scaled\n",
    "from sklearn.preprocessing import MinMaxScaler\n",
    "scaler = MinMaxScaler()\n",
    "X_bmkg_scaled = scaler.fit_transform(X_bmkg)\n",
    "y_bmkg_scaled = scaler.fit_transform(y_bmkg)\n",
    "\n",
    "# Check the scaled values\n",
    "print(\"Scaled X_bmkg:\")\n",
    "print(X_bmkg_scaled[:5])\n",
    "print(\"Scaled y_bmkg:\")\n",
    "print(y_bmkg_scaled[:5])\n"
   ],
   "id": "8bf1d084e79d28cd",
   "outputs": [
    {
     "name": "stdout",
     "output_type": "stream",
     "text": [
      "Scaled X_bmkg:\n",
      "[[0.10705882 0.52188412 0.01069519 0.33210184 0.         0.90909091\n",
      "  0.         0.83333333 0.91304348]\n",
      " [0.26176471 0.74239266 0.01069519 0.3320872  0.         0.90909091\n",
      "  0.         0.83333333 0.86956522]\n",
      " [0.23470588 0.26281784 0.15909091 0.3313637  0.         0.90909091\n",
      "  0.         0.83333333 0.73913043]\n",
      " [0.45294118 0.70508545 0.01069519 0.33180386 0.         0.90909091\n",
      "  0.         0.83333333 0.69565217]\n",
      " [0.27       0.74030846 0.09090909 0.33208816 0.         0.90909091\n",
      "  0.         0.83333333 0.69565217]]\n",
      "Scaled y_bmkg:\n",
      "[[0.56521739]\n",
      " [0.52173913]\n",
      " [0.39130435]\n",
      " [0.31884058]\n",
      " [0.47826087]]\n"
     ]
    }
   ],
   "execution_count": 14
  },
  {
   "metadata": {
    "ExecuteTime": {
     "end_time": "2024-11-16T10:23:07.199646Z",
     "start_time": "2024-11-16T10:23:07.120519Z"
    }
   },
   "cell_type": "code",
   "source": [
    "# Split the dataset into training and test sets\n",
    "from sklearn.model_selection import train_test_split\n",
    "\n",
    "X_train_bmkg, X_test_bmkg, y_train_bmkg, y_test_bmkg = train_test_split(\n",
    "    X_bmkg_scaled, y_bmkg, test_size=0.2, random_state=42\n",
    ")\n",
    "\n",
    "print(\"X_train_bmkg shape:\", X_train_bmkg.shape)\n",
    "print(\"X_test_bmkg shape:\", X_test_bmkg.shape)\n",
    "print(\"y_train_bmkg shape:\", y_train_bmkg.shape)\n",
    "print(\"y_test_bmkg shape:\", y_test_bmkg.shape)"
   ],
   "id": "c516da42a17ac171",
   "outputs": [
    {
     "name": "stdout",
     "output_type": "stream",
     "text": [
      "X_train_bmkg shape: (74309, 9)\n",
      "X_test_bmkg shape: (18578, 9)\n",
      "y_train_bmkg shape: (74309, 1)\n",
      "y_test_bmkg shape: (18578, 1)\n"
     ]
    }
   ],
   "execution_count": 15
  },
  {
   "metadata": {
    "ExecuteTime": {
     "end_time": "2024-11-16T11:20:17.141307Z",
     "start_time": "2024-11-16T11:20:17.125280Z"
    }
   },
   "cell_type": "code",
   "source": [
    "# Reshape for LSTM/BiLSTM\n",
    "# Ensure input data has the correct shape for the model\n",
    "X_train_bmkg = X_train_bmkg.reshape(X_train_bmkg.shape[0], X_train_bmkg.shape[2])\n",
    "X_test_bmkg = X_test_bmkg.reshape(X_test_bmkg.shape[0], X_test_bmkg.shape[2])\n",
    "\n",
    "print(\"X_train_bmkg reshaped:\", X_train_bmkg.shape)\n",
    "print(\"X_test_bmkg reshaped:\", X_test_bmkg.shape)"
   ],
   "id": "f9c06bd0aca9b0fa",
   "outputs": [
    {
     "name": "stdout",
     "output_type": "stream",
     "text": [
      "X_train_bmkg reshaped: (74309, 9)\n",
      "X_test_bmkg reshaped: (18578, 9)\n"
     ]
    }
   ],
   "execution_count": 26
  },
  {
   "metadata": {
    "ExecuteTime": {
     "end_time": "2024-11-16T11:20:18.408926Z",
     "start_time": "2024-11-16T11:20:18.381596Z"
    }
   },
   "cell_type": "code",
   "source": [
    "# save the data in numpy format\n",
    "np.save('../X_train_bmkg.npy', X_train_bmkg)\n",
    "np.save('../X_test_bmkg.npy', X_test_bmkg)\n",
    "np.save('../y_train_bmkg.npy', y_train_bmkg)\n",
    "np.save('../y_test_bmkg.npy', y_test_bmkg)"
   ],
   "id": "a5b189d7e88b16c3",
   "outputs": [],
   "execution_count": 27
  },
  {
   "metadata": {
    "ExecuteTime": {
     "end_time": "2024-11-16T11:20:19.374287Z",
     "start_time": "2024-11-16T11:20:19.367379Z"
    }
   },
   "cell_type": "code",
   "source": [
    "print(\"X_train_bmkg shape:\", X_train_bmkg.shape)\n",
    "print(\"X_test_bmkg shape:\", X_test_bmkg.shape)\n",
    "print(\"y_train_bmkg shape:\", y_train_bmkg.shape)\n",
    "print(\"y_test_bmkg shape:\", y_test_bmkg.shape)"
   ],
   "id": "40be2f814191bc18",
   "outputs": [
    {
     "name": "stdout",
     "output_type": "stream",
     "text": [
      "X_train_bmkg shape: (74309, 9)\n",
      "X_test_bmkg shape: (18578, 9)\n",
      "y_train_bmkg shape: (74309, 1)\n",
      "y_test_bmkg shape: (18578, 1)\n"
     ]
    }
   ],
   "execution_count": 28
  },
  {
   "metadata": {
    "ExecuteTime": {
     "end_time": "2024-11-16T11:20:22.896635Z",
     "start_time": "2024-11-16T11:20:22.867833Z"
    }
   },
   "cell_type": "code",
   "source": [
    "from tensorflow.keras.models import Model\n",
    "from tensorflow.keras.layers import (\n",
    "    Input, Conv1D, MaxPooling1D, Bidirectional, LSTM, Dense, Dropout, Flatten, Multiply, Softmax, Reshape\n",
    ")\n",
    "from tensorflow.keras.optimizers import Adam\n",
    "import numpy as np\n",
    "\n",
    "# Define a custom attention mechanism\n",
    "def attention_mechanism(inputs):\n",
    "    \"\"\"\n",
    "    Custom attention layer for a given input sequence.\n",
    "    \"\"\"\n",
    "    attention = Dense(1, activation='tanh')(inputs)  # Compute the attention scores\n",
    "    attention = Softmax()(attention)  # Apply softmax to normalize the scores\n",
    "    attention = Multiply()([inputs, attention])  # Apply weights to the inputs\n",
    "    return attention\n",
    "\n",
    "# Define the CNN-BiLSTM-BMKG model\n",
    "def build_cnn_bilstm_model(input_shape):\n",
    "    \"\"\"\n",
    "    Builds the CNN-BiLSTM-BMKG model with the attention mechanism.\n",
    "    \"\"\"\n",
    "    inputs = Input(shape=input_shape)\n",
    "    \n",
    "    # Reshape inputs to add a \"time step\" dimension (required for Conv1D and LSTM layers)\n",
    "    reshaped_inputs = Reshape((input_shape[0], 1))(inputs)\n",
    "    \n",
    "    # CNN Block\n",
    "    x = Conv1D(filters=16, kernel_size=3, activation='relu', padding='same')(reshaped_inputs)\n",
    "    x = MaxPooling1D(pool_size=2, strides=1, padding='same')(x)\n",
    "    \n",
    "    x = Conv1D(filters=32, kernel_size=3, activation='relu', padding='same')(x)\n",
    "    x = MaxPooling1D(pool_size=2, strides=1, padding='same')(x)\n",
    "    \n",
    "    x = Conv1D(filters=64, kernel_size=3, activation='relu', padding='same')(x)\n",
    "    x = MaxPooling1D(pool_size=2, strides=1, padding='same')(x)\n",
    "    \n",
    "    # BiLSTM Block\n",
    "    x = Bidirectional(LSTM(units=128, return_sequences=True))(x)\n",
    "    x = Dropout(0.2)(x)\n",
    "    x = Bidirectional(LSTM(units=64, return_sequences=True))(x)\n",
    "    x = Dropout(0.2)(x)\n",
    "    \n",
    "    # Attention Mechanism\n",
    "    x = attention_mechanism(x)\n",
    "    \n",
    "    # Fully Connected Block\n",
    "    x = Flatten()(x)\n",
    "    x = Dense(32, activation='relu')(x)\n",
    "    x = Dropout(0.2)(x)\n",
    "    x = Dense(10, activation='relu')(x)\n",
    "    outputs = Dense(1, activation='linear')(x)  # Output layer for regression\n",
    "    \n",
    "    # Compile the Model\n",
    "    model = Model(inputs=inputs, outputs=outputs)\n",
    "    model.compile(optimizer=Adam(learning_rate=0.001), loss='mse', metrics=['mae'])\n",
    "    return model"
   ],
   "id": "6bed810bdeffef84",
   "outputs": [],
   "execution_count": 29
  },
  {
   "metadata": {},
   "cell_type": "code",
   "outputs": [],
   "execution_count": null,
   "source": [
    "# Function to train the model and evaluate\n",
    "def train_and_evaluate_model(X_train, y_train, X_test, y_test, dataset_name):\n",
    "    \"\"\"\n",
    "    Train and evaluate the CNN-BiLSTM-BMKG model on a specific dataset.\n",
    "    \"\"\"\n",
    "    input_shape = (X_train.shape[1],)  # number of features\n",
    "    model = build_cnn_bilstm_model(input_shape)\n",
    "\n",
    "    # Print model summary\n",
    "    print(f\"Training model for {dataset_name}...\")\n",
    "    model.summary()\n",
    "\n",
    "    # Train the model\n",
    "    history = model.fit(\n",
    "        X_train, y_train,\n",
    "        validation_data=(X_test, y_test),\n",
    "        epochs=50,\n",
    "        batch_size=32,\n",
    "        verbose=1\n",
    "    )\n",
    "\n",
    "    # Evaluate the model\n",
    "    test_loss, test_mae = model.evaluate(X_test, y_test)\n",
    "    print(f\"{dataset_name} Test Loss (MSE): {test_loss}\")\n",
    "    print(f\"{dataset_name} Test MAE: {test_mae}\")\n",
    "\n",
    "    # Save the model\n",
    "    model.save(f'cnn_bilstm_model_{dataset_name.lower()}.h5')\n",
    "\n",
    "    return history, test_loss, test_mae\n",
    "\n",
    "# BMKG Dataset\n",
    "print(\"Loading BMKG Dataset...\")\n",
    "X_train_bmkg = np.load('../X_train_bmkg.npy', allow_pickle=True)\n",
    "X_test_bmkg = np.load('../X_test_bmkg.npy', allow_pickle=True)\n",
    "y_train_bmkg = np.load('../y_train_bmkg.npy', allow_pickle=True)\n",
    "y_test_bmkg = np.load('../y_test_bmkg.npy', allow_pickle=True)\n",
    "\n",
    "history_bmkg, test_loss_bmkg, test_mae_bmkg = train_and_evaluate_model(X_train_bmkg, y_train_bmkg, X_test_bmkg, y_test_bmkg, \"BMKG\")"
   ],
   "id": "ea59c93d5493bc1f"
  },
  {
   "metadata": {},
   "cell_type": "code",
   "outputs": [],
   "execution_count": null,
   "source": [
    "# show the model accuracy Percentage for BMKG Dataset out of 100%\n",
    "print(\"BMKG Test Loss (MSE):\", test_loss_bmkg)\n",
    "print(\"BMKG Test MAE:\", test_mae_bmkg)"
   ],
   "id": "46cd08ecdb6993f6"
  },
  {
   "metadata": {},
   "cell_type": "code",
   "outputs": [],
   "execution_count": null,
   "source": [
    "# evaluate the model\n",
    "from sklearn.metrics import mean_squared_error, mean_absolute_error, load_model\n",
    "\n",
    "# Load the model\n",
    "model_bmkg = \n",
    "# Make predictions\n",
    "y_pred_bmkg = model_bmkg.predict(X_test_bmkg)\n",
    "\n",
    "# Calculate the Mean Squared Error\n",
    "mse_bmkg = mean_squared_error(y_test_bmkg, y_pred_bmkg)\n",
    "print(\"BMKG Test MSE:\", mse_bmkg)\n"
   ],
   "id": "b5287d61e48cfa31"
  },
  {
   "metadata": {
    "ExecuteTime": {
     "end_time": "2024-11-16T12:26:11.660631Z",
     "start_time": "2024-11-16T12:26:11.219524Z"
    }
   },
   "cell_type": "code",
   "source": [
    "# Plot the training history\n",
    "import matplotlib.pyplot as plt\n",
    "\n",
    "def plot_training_history(history, dataset_name):\n",
    "    \"\"\"\n",
    "    Plot the training history for a given dataset.\n",
    "    \"\"\"\n",
    "    plt.figure(figsize=(12, 6))\n",
    "    plt.plot(history.history['loss'], label='Training Loss')\n",
    "    plt.plot(history.history['val_loss'], label='Validation Loss')\n",
    "    plt.title(f'{dataset_name} Training History')\n",
    "    plt.xlabel('Epochs')\n",
    "    plt.ylabel('Loss (MSE)')\n",
    "    plt.legend()\n",
    "    plt.show()\n",
    "    \n",
    "    plt.figure(figsize=(12, 6))\n",
    "    plt.plot(history.history['mae'], label='Training MAE')\n",
    "    plt.plot(history.history['val_mae'], label='Validation MAE')\n",
    "    plt.title(f'{dataset_name} Training History')\n",
    "    plt.xlabel('Epochs')\n",
    "    plt.ylabel('MAE')\n",
    "    plt.legend()\n",
    "    plt.show()\n",
    "    \n",
    "# Plot the training history for BMKG\n",
    "plot_training_history(history_bmkg, \"BMKG\")"
   ],
   "id": "9eb89d97bc445904",
   "outputs": [
    {
     "data": {
      "text/plain": [
       "<Figure size 864x432 with 1 Axes>"
      ],
      "image/png": "[encoded data removed]"
     },
     "metadata": {
      "needs_background": "light"
     },
     "output_type": "display_data"
    },
    {
     "data": {
      "text/plain": [
       "<Figure size 864x432 with 1 Axes>"
      ],
      "image/png": "[encoded data removed]"
     },
     "metadata": {
      "needs_background": "light"
     },
     "output_type": "display_data"
    }
   ],
   "execution_count": 35
  },
  {
   "metadata": {
    "ExecuteTime": {
     "end_time": "2024-11-16T12:30:25.025674Z",
     "start_time": "2024-11-16T12:30:24.925608Z"
    }
   },
   "cell_type": "code",
   "source": [
    "# JMA Dataset\n",
    "import pandas as pd\n",
    "JMA_features = pd.read_csv(\"../JMA_features.csv\")\n",
    "print(\"JMA Dataset:\")\n",
    "print(JMA_features.head())"
   ],
   "id": "24819dc0fccfab1a",
   "outputs": [
    {
     "name": "stdout",
     "output_type": "stream",
     "text": [
      "JMA Dataset:\n",
      "    Latitude   Longitude  Depth  Magnitude             Datetime  Year  Month  \\\n",
      "0  35.338333  133.211667     12        3.6  1985-12-31 02:26:48  1985     12   \n",
      "1  36.406667  140.696667     55        3.3  1985-12-30 19:11:46  1985     12   \n",
      "2  37.210000  139.936667      6        3.5  1985-12-30 15:56:17  1985     12   \n",
      "3  27.968333  129.665000      0        4.2  1985-12-30 15:20:15  1985     12   \n",
      "4  42.888333  145.445000     35        3.7  1985-12-29 09:22:20  1985     12   \n",
      "\n",
      "   Day  DayOfWeek  Hour MagnitudeCategory   TimeDiff  \n",
      "0   31          1     2          Moderate   0.000000  \n",
      "1   30          0    19          Moderate  -7.250556  \n",
      "2   30          0    15          Moderate  -3.258056  \n",
      "3   30          0    15          Moderate  -0.600556  \n",
      "4   29          6     9          Moderate -29.965278  \n"
     ]
    }
   ],
   "execution_count": 36
  },
  {
   "metadata": {
    "ExecuteTime": {
     "end_time": "2024-11-16T12:30:35.863810Z",
     "start_time": "2024-11-16T12:30:35.836800Z"
    }
   },
   "cell_type": "code",
   "source": [
    "# Remove 'Datetime' and 'MagnitudeCategory' from features and target\n",
    "X_jma = JMA_features[[\"Latitude\", \"Longitude\", \"Depth\", \"TimeDiff\", \"Year\", \"Month\", \"Day\", \"DayOfWeek\", \"Hour\"]].values\n",
    "\n",
    "# Use 'Magnitude' as the target variable for regression\n",
    "y_jma = JMA_features[[\"Magnitude\"]].values\n",
    "\n",
    "# Check shapes after selection\n",
    "print(\"X_jma shape:\", X_jma.shape)\n",
    "print(\"y_jma shape:\", y_jma.shape)"
   ],
   "id": "454d258ec667be56",
   "outputs": [
    {
     "name": "stdout",
     "output_type": "stream",
     "text": [
      "X_jma shape: (93203, 9)\n",
      "y_jma shape: (93203, 1)\n"
     ]
    }
   ],
   "execution_count": 39
  },
  {
   "metadata": {
    "ExecuteTime": {
     "end_time": "2024-11-16T12:30:39.525631Z",
     "start_time": "2024-11-16T12:30:39.508703Z"
    }
   },
   "cell_type": "code",
   "source": [
    "# check if the data is already scaled\n",
    "from sklearn.preprocessing import MinMaxScaler\n",
    "scaler = MinMaxScaler()\n",
    "X_jma_scaled = scaler.fit_transform(X_jma)\n",
    "y_jma_scaled = scaler.fit_transform(y_jma)\n",
    "\n",
    "# Check the scaled values\n",
    "print(\"Scaled X_jma:\")\n",
    "print(X_jma_scaled[:5])\n",
    "print(\"Scaled y_jma:\")\n",
    "print(y_jma_scaled[:5])"
   ],
   "id": "f96f3625d91db43b",
   "outputs": [
    {
     "name": "stdout",
     "output_type": "stream",
     "text": [
      "Scaled X_jma:\n",
      "[[0.59948847 0.33121805 0.01726619 0.25212269 0.         1.\n",
      "  1.         0.16666667 0.08695652]\n",
      " [0.62024087 0.52912921 0.07913669 0.2518133  0.         1.\n",
      "  0.96666667 0.         0.82608696]\n",
      " [0.63584564 0.50903402 0.00863309 0.25198366 0.         1.\n",
      "  0.96666667 0.         0.65217391]\n",
      " [0.45632608 0.23744051 0.         0.25209706 0.         1.\n",
      "  0.96666667 0.         0.65217391]\n",
      " [0.74614737 0.65468006 0.05035971 0.25084401 0.         1.\n",
      "  0.93333333 1.         0.39130435]]\n",
      "Scaled y_jma:\n",
      "[[0.38636364]\n",
      " [0.35227273]\n",
      " [0.375     ]\n",
      " [0.45454545]\n",
      " [0.39772727]]\n"
     ]
    }
   ],
   "execution_count": 40
  },
  {
   "metadata": {
    "ExecuteTime": {
     "end_time": "2024-11-16T12:30:40.409894Z",
     "start_time": "2024-11-16T12:30:40.394143Z"
    }
   },
   "cell_type": "code",
   "source": [
    "# Reshape for LSTM/BiLSTM\n",
    "# Ensure input data has the correct shape for the model\n",
    "X_train_jma = X_train_jma.reshape(X_train_jma.shape[0], X_train_jma.shape[2])\n",
    "X_test_jma = X_test_jma.reshape(X_test_jma.shape[0], X_test_jma.shape[2])\n",
    "\n",
    "print(\"X_train_jma reshaped:\", X_train_jma.shape)\n",
    "print(\"X_test_jma reshaped:\", X_test_jma.shape)"
   ],
   "id": "20ec9a1b84372591",
   "outputs": [
    {
     "ename": "IndexError",
     "evalue": "tuple index out of range",
     "output_type": "error",
     "traceback": [
      "\u001B[1;31m---------------------------------------------------------------------------\u001B[0m",
      "\u001B[1;31mIndexError\u001B[0m                                Traceback (most recent call last)",
      "\u001B[1;32m<ipython-input-41-42c1a69f502f>\u001B[0m in \u001B[0;36m<module>\u001B[1;34m\u001B[0m\n\u001B[0;32m      1\u001B[0m \u001B[1;31m# Reshape for LSTM/BiLSTM\u001B[0m\u001B[1;33m\u001B[0m\u001B[1;33m\u001B[0m\u001B[1;33m\u001B[0m\u001B[0m\n\u001B[0;32m      2\u001B[0m \u001B[1;31m# Ensure input data has the correct shape for the model\u001B[0m\u001B[1;33m\u001B[0m\u001B[1;33m\u001B[0m\u001B[1;33m\u001B[0m\u001B[0m\n\u001B[1;32m----> 3\u001B[1;33m \u001B[0mX_train_jma\u001B[0m \u001B[1;33m=\u001B[0m \u001B[0mX_train_jma\u001B[0m\u001B[1;33m.\u001B[0m\u001B[0mreshape\u001B[0m\u001B[1;33m(\u001B[0m\u001B[0mX_train_jma\u001B[0m\u001B[1;33m.\u001B[0m\u001B[0mshape\u001B[0m\u001B[1;33m[\u001B[0m\u001B[1;36m0\u001B[0m\u001B[1;33m]\u001B[0m\u001B[1;33m,\u001B[0m \u001B[0mX_train_jma\u001B[0m\u001B[1;33m.\u001B[0m\u001B[0mshape\u001B[0m\u001B[1;33m[\u001B[0m\u001B[1;36m2\u001B[0m\u001B[1;33m]\u001B[0m\u001B[1;33m)\u001B[0m\u001B[1;33m\u001B[0m\u001B[1;33m\u001B[0m\u001B[0m\n\u001B[0m\u001B[0;32m      4\u001B[0m \u001B[0mX_test_jma\u001B[0m \u001B[1;33m=\u001B[0m \u001B[0mX_test_jma\u001B[0m\u001B[1;33m.\u001B[0m\u001B[0mreshape\u001B[0m\u001B[1;33m(\u001B[0m\u001B[0mX_test_jma\u001B[0m\u001B[1;33m.\u001B[0m\u001B[0mshape\u001B[0m\u001B[1;33m[\u001B[0m\u001B[1;36m0\u001B[0m\u001B[1;33m]\u001B[0m\u001B[1;33m,\u001B[0m \u001B[0mX_test_jma\u001B[0m\u001B[1;33m.\u001B[0m\u001B[0mshape\u001B[0m\u001B[1;33m[\u001B[0m\u001B[1;36m2\u001B[0m\u001B[1;33m]\u001B[0m\u001B[1;33m)\u001B[0m\u001B[1;33m\u001B[0m\u001B[1;33m\u001B[0m\u001B[0m\n\u001B[0;32m      5\u001B[0m \u001B[1;33m\u001B[0m\u001B[0m\n",
      "\u001B[1;31mIndexError\u001B[0m: tuple index out of range"
     ]
    }
   ],
   "execution_count": 41
  },
  {
   "metadata": {
    "ExecuteTime": {
     "end_time": "2024-11-16T12:31:27.270237Z",
     "start_time": "2024-11-16T12:31:27.245013Z"
    }
   },
   "cell_type": "code",
   "source": [
    "# save the data in numpy format\n",
    "np.save('../X_train_jma.npy', X_train_jma)\n",
    "np.save('../X_test_jma.npy', X_test_jma)\n",
    "np.save('../y_train_jma.npy', y_train_jma)\n",
    "np.save('../y_test_jma.npy', y_test_jma)"
   ],
   "id": "3464c1f9843e21a9",
   "outputs": [],
   "execution_count": 42
  },
  {
   "metadata": {
    "ExecuteTime": {
     "end_time": "2024-11-16T12:31:27.659106Z",
     "start_time": "2024-11-16T12:31:27.643466Z"
    }
   },
   "cell_type": "code",
   "source": [
    "print(\"X_train_jma shape:\", X_train_jma.shape)\n",
    "print(\"X_test_jma shape:\", X_test_jma.shape)\n",
    "print(\"y_train_jma shape:\", y_train_jma.shape)\n",
    "print(\"y_test_jma shape:\", y_test_jma.shape)"
   ],
   "id": "572642b41e3aff72",
   "outputs": [
    {
     "name": "stdout",
     "output_type": "stream",
     "text": [
      "X_train_jma shape: (68267, 4)\n",
      "X_test_jma shape: (17067, 4)\n",
      "y_train_jma shape: (68267, 1)\n",
      "y_test_jma shape: (17067, 1)\n"
     ]
    }
   ],
   "execution_count": 43
  },
  {
   "metadata": {
    "ExecuteTime": {
     "end_time": "2024-11-16T12:31:30.785190Z",
     "start_time": "2024-11-16T12:31:30.753518Z"
    }
   },
   "cell_type": "code",
   "source": [
    "from tensorflow.keras.models import Model\n",
    "from tensorflow.keras.layers import (\n",
    "    Input, Conv1D, MaxPooling1D, Bidirectional, LSTM, Dense, Dropout, Flatten, Multiply, Softmax, Reshape\n",
    ")\n",
    "from tensorflow.keras.optimizers import Adam\n",
    "import numpy as np\n",
    "\n",
    "# Define a custom attention mechanism\n",
    "def attention_mechanism(inputs):\n",
    "    \"\"\"\n",
    "    Custom attention layer for a given input sequence.\n",
    "    \"\"\"\n",
    "    attention = Dense(1, activation='tanh')(inputs)  # Compute the attention scores\n",
    "    attention = Softmax()(attention)  # Apply softmax to normalize the scores\n",
    "    attention = Multiply()([inputs, attention])  # Apply weights to the inputs\n",
    "    return attention\n",
    "\n",
    "# Define the CNN-BiLSTM-BMKG model\n",
    "def build_cnn_bilstm_model(input_shape):\n",
    "    \"\"\"\n",
    "    Builds the CNN-BiLSTM-BMKG model with the attention mechanism.\n",
    "    \"\"\"\n",
    "    inputs = Input(shape=input_shape)\n",
    "    \n",
    "    # Reshape inputs to add a \"time step\" dimension (required for Conv1D and LSTM layers)\n",
    "    reshaped_inputs = Reshape((input_shape[0], 1))(inputs)\n",
    "    \n",
    "    # CNN Block\n",
    "    x = Conv1D(filters=16, kernel_size=3, activation='relu', padding='same')(reshaped_inputs)\n",
    "    x = MaxPooling1D(pool_size=2, strides=1, padding='same')(x)\n",
    "    \n",
    "    x = Conv1D(filters=32, kernel_size=3, activation='relu', padding='same')(x)\n",
    "    x = MaxPooling1D(pool_size=2, strides=1, padding='same')(x)\n",
    "    \n",
    "    x = Conv1D(filters=64, kernel_size=3, activation='relu', padding='same')(x)\n",
    "    x = MaxPooling1D(pool_size=2, strides=1, padding='same')(x)\n",
    "    \n",
    "    # BiLSTM Block\n",
    "    x = Bidirectional(LSTM(units=128, return_sequences=True))(x)\n",
    "    x = Dropout(0.2)(x)\n",
    "    x = Bidirectional(LSTM(units=64, return_sequences=True))(x)\n",
    "    x = Dropout(0.2)(x)\n",
    "    \n",
    "    # Attention Mechanism\n",
    "    x = attention_mechanism(x)\n",
    "    \n",
    "    # Fully Connected Block\n",
    "    x = Flatten()(x)\n",
    "    x = Dense(32, activation='relu')(x)\n",
    "    x = Dropout(0.2)(x)\n",
    "    x = Dense(10, activation='relu')(x)\n",
    "    outputs = Dense(1, activation='linear')(x)  # Output layer for regression\n",
    "    \n",
    "    # Compile the Model\n",
    "    model = Model(inputs=inputs, outputs=outputs)\n",
    "    model.compile(optimizer=Adam(learning_rate=0.001), loss='mse', metrics=['mae'])\n",
    "    return model"
   ],
   "id": "df165f85a7b41735",
   "outputs": [],
   "execution_count": 44
  },
  {
   "metadata": {},
   "cell_type": "code",
   "outputs": [],
   "execution_count": null,
   "source": [
    "# Function to train the model and evaluate\n",
    "def train_and_evaluate_model(X_train, y_train, X_test, y_test, dataset_name):\n",
    "    \"\"\"\n",
    "    Train and evaluate the CNN-BiLSTM-BMKG model on a specific dataset.\n",
    "    \"\"\"\n",
    "    input_shape = (X_train.shape[1],)  # number of features\n",
    "    model = build_cnn_bilstm_model(input_shape)\n",
    "\n",
    "    # Print model summary\n",
    "    print(f\"Training model for {dataset_name}...\")\n",
    "    model.summary()\n",
    "\n",
    "    # Train the model\n",
    "    history = model.fit(\n",
    "        X_train, y_train,\n",
    "        validation_data=(X_test, y_test),\n",
    "        epochs=50,\n",
    "        batch_size=32,\n",
    "        verbose=1\n",
    "    )\n",
    "\n",
    "    # Evaluate the model\n",
    "    test_loss, test_mae = model.evaluate(X_test, y_test)\n",
    "    print(f\"{dataset_name} Test Loss (MSE): {test_loss}\")\n",
    "    print(f\"{dataset_name} Test MAE: {test_mae}\")\n",
    "\n",
    "    # Save the model\n",
    "    model.save(f'cnn_bilstm_model_{dataset_name.lower()}.h5')\n",
    "\n",
    "    return history, test_loss, test_mae\n",
    "\n",
    "\n",
    "# JMA Dataset\n",
    "print(\"Training for JMA Dataset...\")\n",
    "X_train_jma = np.load('../X_train_jma.npy', allow_pickle=True)\n",
    "X_test_jma = np.load('../X_test_jma.npy', allow_pickle=True)\n",
    "y_train_jma = np.load('../y_train_jma.npy', allow_pickle=True)\n",
    "y_test_jma = np.load('../y_test_jma.npy', allow_pickle=True)\n",
    "\n",
    "history_jma, test_loss_jma, test_mae_jma = train_and_evaluate_model(X_train_jma, y_train_jma, X_test_jma, y_test_jma, \"JMA\")"
   ],
   "id": "cf4f253bce62e7f8"
  },
  {
   "metadata": {},
   "cell_type": "code",
   "outputs": [],
   "execution_count": null,
   "source": [
    "# Plot the training history for JMA\n",
    "# Plot the training history\n",
    "import matplotlib.pyplot as plt\n",
    "\n",
    "def plot_training_history(history, dataset_name):\n",
    "    \"\"\"\n",
    "    Plot the training history for a given dataset.\n",
    "    \"\"\"\n",
    "    plt.figure(figsize=(12, 6))\n",
    "    plt.plot(history.history['loss'], label='Training Loss')\n",
    "    plt.plot(history.history['val_loss'], label='Validation Loss')\n",
    "    plt.title(f'{dataset_name} Training History')\n",
    "    plt.xlabel('Epochs')\n",
    "    plt.ylabel('Loss (MSE)')\n",
    "    plt.legend()\n",
    "    plt.show()\n",
    "    \n",
    "    plt.figure(figsize=(12, 6))\n",
    "    plt.plot(history.history['mae'], label='Training MAE')\n",
    "    plt.plot(history.history['val_mae'], label='Validation MAE')\n",
    "    plt.title(f'{dataset_name} Training History')\n",
    "    plt.xlabel('Epochs')\n",
    "    plt.ylabel('MAE')\n",
    "    plt.legend()\n",
    "    plt.show()\n",
    "    \n",
    "# Plot the training history for BMKG\n",
    "plot_training_history(history_bmkg, \"JMA\")"
   ],
   "id": "341caaad8c2840bc"
  },
  {
   "metadata": {},
   "cell_type": "code",
   "outputs": [],
   "execution_count": null,
   "source": "",
   "id": "bd870e893777bc4"
  }
 ],
 "metadata": {
  "kernelspec": {
   "display_name": "Python 3",
   "language": "python",
   "name": "python3"
  },
  "language_info": {
   "codemirror_mode": {
    "name": "ipython",
    "version": 2
   },
   "file_extension": ".py",
   "mimetype": "text/x-python",
   "name": "python",
   "nbconvert_exporter": "python",
   "pygments_lexer": "ipython2",
   "version": "2.7.6"
  }
 },
 "nbformat": 4,
 "nbformat_minor": 5
}
