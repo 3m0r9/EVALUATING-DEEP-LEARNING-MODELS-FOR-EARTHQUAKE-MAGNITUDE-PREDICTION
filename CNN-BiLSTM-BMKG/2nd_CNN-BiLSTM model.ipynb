{
 "cells": [
  {
   "metadata": {
    "ExecuteTime": {
     "end_time": "2024-11-16T10:08:59.118101Z",
     "start_time": "2024-11-16T10:08:59.086294Z"
    }
   },
   "cell_type": "code",
   "source": [
    "import numpy as np\n",
    "from tensorflow.keras.models import Sequential\n",
    "from tensorflow.keras.layers import Conv1D, MaxPooling1D, Flatten, Dense, Dropout, Bidirectional, LSTM, Multiply\n",
    "from tensorflow.keras.optimizers import Adam\n",
    "from tensorflow.keras.layers import Dense"
   ],
   "id": "1334c62220bfe9c2",
   "outputs": [],
   "execution_count": 5
  },
  {
   "metadata": {
    "ExecuteTime": {
     "end_time": "2024-11-16T15:28:09.588644Z",
     "start_time": "2024-11-16T15:28:09.572891Z"
    }
   },
   "cell_type": "code",
   "source": [
    "# run the model training on GPU if available\n",
    "import tensorflow as tf\n",
    "physical_devices = tf.config.list_physical_devices('GPU')\n",
    "if len(physical_devices) > 0:\n",
    "    tf.config.experimental.set_memory_growth(physical_devices[0], True)"
   ],
   "id": "c68c95608e054155",
   "outputs": [],
   "execution_count": 9
  },
  {
   "metadata": {
    "ExecuteTime": {
     "end_time": "2024-11-16T10:14:43.938889Z",
     "start_time": "2024-11-16T10:14:43.725980Z"
    }
   },
   "cell_type": "code",
   "source": [
    "# BMKG Dataset\n",
    "import pandas as pd\n",
    "BMKG_features = pd.read_csv(\"../BMKG_features.csv\")\n",
    "print(\"BMKG Dataset:\")\n",
    "print(BMKG_features.head())"
   ],
   "id": "5d7dc7aebb8b492e",
   "outputs": [
    {
     "name": "stdout",
     "output_type": "stream",
     "text": [
      "BMKG Dataset:\n",
      "   Latitude  Longitude     Depth  Magnitude                 Datetime  Year  \\\n",
      "0     -9.18     119.06  0.010695   0.565217  2008-11-01 21:02:43.058  2008   \n",
      "1     -6.55     129.64  0.010695   0.521739  2008-11-01 20:58:50.248  2008   \n",
      "2     -7.01     106.63  0.159091   0.391304  2008-11-01 17:43:12.941  2008   \n",
      "3     -3.30     127.85  0.010695   0.318841  2008-11-01 16:24:14.755  2008   \n",
      "4     -6.41     129.54  0.090909   0.478261  2008-11-01 16:20:37.327  2008   \n",
      "\n",
      "   Month  Day  DayOfWeek  Hour MagnitudeCategory  TimeDiff  \n",
      "0     11    1          5    21               Low  0.000000  \n",
      "1     11    1          5    20               Low -0.064669  \n",
      "2     11    1          5    17               Low -3.260363  \n",
      "3     11    1          5    16               Low -1.316163  \n",
      "4     11    1          5    16               Low -0.060397  \n"
     ]
    }
   ],
   "execution_count": 12
  },
  {
   "metadata": {
    "ExecuteTime": {
     "end_time": "2024-11-16T10:20:57.330404Z",
     "start_time": "2024-11-16T10:20:57.306273Z"
    }
   },
   "cell_type": "code",
   "source": [
    "# Remove 'Datetime' and 'MagnitudeCategory' from features and target\n",
    "X_bmkg = BMKG_features[[\"Latitude\", \"Longitude\", \"Depth\", \"TimeDiff\", \"Year\", \"Month\", \"Day\", \"DayOfWeek\", \"Hour\"]].values\n",
    "\n",
    "# Use 'Magnitude' as the target variable for regression\n",
    "y_bmkg = BMKG_features[[\"Magnitude\"]].values\n",
    "\n",
    "# Check shapes after selection\n",
    "print(\"X_bmkg shape:\", X_bmkg.shape)\n",
    "print(\"y_bmkg shape:\", y_bmkg.shape)"
   ],
   "id": "d3371e4d16265975",
   "outputs": [
    {
     "name": "stdout",
     "output_type": "stream",
     "text": [
      "X_bmkg shape: (92887, 9)\n",
      "y_bmkg shape: (92887, 1)\n"
     ]
    }
   ],
   "execution_count": 13
  },
  {
   "metadata": {
    "ExecuteTime": {
     "end_time": "2024-11-16T10:22:40.737378Z",
     "start_time": "2024-11-16T10:22:40.495894Z"
    }
   },
   "cell_type": "code",
   "source": [
    "# check if the data is already scaled\n",
    "from sklearn.preprocessing import MinMaxScaler\n",
    "scaler = MinMaxScaler()\n",
    "X_bmkg_scaled = scaler.fit_transform(X_bmkg)\n",
    "y_bmkg_scaled = scaler.fit_transform(y_bmkg)\n",
    "\n",
    "# Check the scaled values\n",
    "print(\"Scaled X_bmkg:\")\n",
    "print(X_bmkg_scaled[:5])\n",
    "print(\"Scaled y_bmkg:\")\n",
    "print(y_bmkg_scaled[:5])\n"
   ],
   "id": "8bf1d084e79d28cd",
   "outputs": [
    {
     "name": "stdout",
     "output_type": "stream",
     "text": [
      "Scaled X_bmkg:\n",
      "[[0.10705882 0.52188412 0.01069519 0.33210184 0.         0.90909091\n",
      "  0.         0.83333333 0.91304348]\n",
      " [0.26176471 0.74239266 0.01069519 0.3320872  0.         0.90909091\n",
      "  0.         0.83333333 0.86956522]\n",
      " [0.23470588 0.26281784 0.15909091 0.3313637  0.         0.90909091\n",
      "  0.         0.83333333 0.73913043]\n",
      " [0.45294118 0.70508545 0.01069519 0.33180386 0.         0.90909091\n",
      "  0.         0.83333333 0.69565217]\n",
      " [0.27       0.74030846 0.09090909 0.33208816 0.         0.90909091\n",
      "  0.         0.83333333 0.69565217]]\n",
      "Scaled y_bmkg:\n",
      "[[0.56521739]\n",
      " [0.52173913]\n",
      " [0.39130435]\n",
      " [0.31884058]\n",
      " [0.47826087]]\n"
     ]
    }
   ],
   "execution_count": 14
  },
  {
   "metadata": {
    "ExecuteTime": {
     "end_time": "2024-11-16T10:23:07.199646Z",
     "start_time": "2024-11-16T10:23:07.120519Z"
    }
   },
   "cell_type": "code",
   "source": [
    "# Split the dataset into training and test sets\n",
    "from sklearn.model_selection import train_test_split\n",
    "\n",
    "X_train_bmkg, X_test_bmkg, y_train_bmkg, y_test_bmkg = train_test_split(\n",
    "    X_bmkg_scaled, y_bmkg, test_size=0.2, random_state=42\n",
    ")\n",
    "\n",
    "print(\"X_train_bmkg shape:\", X_train_bmkg.shape)\n",
    "print(\"X_test_bmkg shape:\", X_test_bmkg.shape)\n",
    "print(\"y_train_bmkg shape:\", y_train_bmkg.shape)\n",
    "print(\"y_test_bmkg shape:\", y_test_bmkg.shape)"
   ],
   "id": "c516da42a17ac171",
   "outputs": [
    {
     "name": "stdout",
     "output_type": "stream",
     "text": [
      "X_train_bmkg shape: (74309, 9)\n",
      "X_test_bmkg shape: (18578, 9)\n",
      "y_train_bmkg shape: (74309, 1)\n",
      "y_test_bmkg shape: (18578, 1)\n"
     ]
    }
   ],
   "execution_count": 15
  },
  {
   "metadata": {
    "ExecuteTime": {
     "end_time": "2024-11-16T11:20:17.141307Z",
     "start_time": "2024-11-16T11:20:17.125280Z"
    }
   },
   "cell_type": "code",
   "source": [
    "# Reshape for LSTM/BiLSTM\n",
    "# Ensure input data has the correct shape for the model\n",
    "X_train_bmkg = X_train_bmkg.reshape(X_train_bmkg.shape[0], X_train_bmkg.shape[2])\n",
    "X_test_bmkg = X_test_bmkg.reshape(X_test_bmkg.shape[0], X_test_bmkg.shape[2])\n",
    "\n",
    "print(\"X_train_bmkg reshaped:\", X_train_bmkg.shape)\n",
    "print(\"X_test_bmkg reshaped:\", X_test_bmkg.shape)"
   ],
   "id": "f9c06bd0aca9b0fa",
   "outputs": [
    {
     "name": "stdout",
     "output_type": "stream",
     "text": [
      "X_train_bmkg reshaped: (74309, 9)\n",
      "X_test_bmkg reshaped: (18578, 9)\n"
     ]
    }
   ],
   "execution_count": 26
  },
  {
   "metadata": {
    "ExecuteTime": {
     "end_time": "2024-11-16T11:20:18.408926Z",
     "start_time": "2024-11-16T11:20:18.381596Z"
    }
   },
   "cell_type": "code",
   "source": [
    "# save the data in numpy format\n",
    "np.save('../X_train_bmkg.npy', X_train_bmkg)\n",
    "np.save('../X_test_bmkg.npy', X_test_bmkg)\n",
    "np.save('../y_train_bmkg.npy', y_train_bmkg)\n",
    "np.save('../y_test_bmkg.npy', y_test_bmkg)"
   ],
   "id": "a5b189d7e88b16c3",
   "outputs": [],
   "execution_count": 27
  },
  {
   "metadata": {
    "ExecuteTime": {
     "end_time": "2024-11-16T11:20:19.374287Z",
     "start_time": "2024-11-16T11:20:19.367379Z"
    }
   },
   "cell_type": "code",
   "source": [
    "print(\"X_train_bmkg shape:\", X_train_bmkg.shape)\n",
    "print(\"X_test_bmkg shape:\", X_test_bmkg.shape)\n",
    "print(\"y_train_bmkg shape:\", y_train_bmkg.shape)\n",
    "print(\"y_test_bmkg shape:\", y_test_bmkg.shape)"
   ],
   "id": "40be2f814191bc18",
   "outputs": [
    {
     "name": "stdout",
     "output_type": "stream",
     "text": [
      "X_train_bmkg shape: (74309, 9)\n",
      "X_test_bmkg shape: (18578, 9)\n",
      "y_train_bmkg shape: (74309, 1)\n",
      "y_test_bmkg shape: (18578, 1)\n"
     ]
    }
   ],
   "execution_count": 28
  },
  {
   "metadata": {
    "ExecuteTime": {
     "end_time": "2024-11-16T14:21:52.397595Z",
     "start_time": "2024-11-16T14:21:52.379923Z"
    }
   },
   "cell_type": "code",
   "source": [
    "from tensorflow.keras.models import Model\n",
    "from tensorflow.keras.layers import (\n",
    "    Input, Conv1D, MaxPooling1D, Bidirectional, LSTM, Dense, Dropout, Flatten, Multiply, Softmax, Reshape\n",
    ")\n",
    "from tensorflow.keras.optimizers import Adam\n",
    "import numpy as np\n",
    "from tensorflow.keras.callbacks import ReduceLROnPlateau\n",
    "from tensorflow.keras.callbacks import EarlyStopping\n",
    "# Use the cyclical learning rate scheduler\n",
    "def cyclical_lr(initial_learning_rate, maximal_learning_rate, step_size):\n",
    "    \"\"\"\n",
    "    Cyclical learning rate scheduler.\n",
    "    \"\"\"\n",
    "    # Define the learning rate scheduler\n",
    "    clr = ReduceLROnPlateau(\n",
    "        min_lr=initial_learning_rate,\n",
    "        max_lr=maximal_learning_rate,\n",
    "        step_size=step_size\n",
    "    )\n",
    "    return clr\n",
    "\n",
    "# Learning rate scheduler\n",
    "reduce_lr = cyclical_lr(  # Use the cyclical learning rate scheduler\n",
    "    initial_learning_rate=0.001,\n",
    "    maximal_learning_rate=0.1,\n",
    "    step_size=2000\n",
    ")\n",
    "\n",
    "\n",
    "# Early stopping\n",
    "early_stopping = EarlyStopping(\n",
    "    monitor='val_loss', patience=10, verbose=1, restore_best_weights=True\n",
    ")\n",
    "\n",
    "# Define a custom attention mechanism\n",
    "def attention_mechanism(inputs):\n",
    "    \"\"\"\n",
    "    Custom attention layer for a given input sequence.\n",
    "    \"\"\"\n",
    "    attention = Dense(1, activation='tanh')(inputs)  # Compute the attention scores\n",
    "    attention = Softmax()(attention)  # Apply softmax to normalize the scores\n",
    "    attention = Multiply()([inputs, attention])  # Apply weights to the inputs\n",
    "    return attention\n",
    "\n",
    "# Define the CNN-BiLSTM-BMKG model\n",
    "def build_cnn_bilstm_model(input_shape):\n",
    "    \"\"\"\n",
    "    Builds the CNN-BiLSTM-BMKG model with the attention mechanism.\n",
    "    \"\"\"\n",
    "    inputs = Input(shape=input_shape)\n",
    "    \n",
    "    # Reshape inputs to add a \"time step\" dimension (required for Conv1D and LSTM layers)\n",
    "    reshaped_inputs = Reshape((input_shape[0], 1))(inputs)\n",
    "    \n",
    "    # CNN Block\n",
    "    x = Conv1D(filters=64, kernel_size=3, activation='relu', padding='same')(reshaped_inputs)\n",
    "    x = MaxPooling1D(pool_size=2, strides=1, padding='same')(x)\n",
    "    \n",
    "    x = Conv1D(filters=128, kernel_size=3, activation='relu', padding='same')(x)\n",
    "    x = MaxPooling1D(pool_size=2, strides=1, padding='same')(x)\n",
    "    \n",
    "    x = Conv1D(filters=256, kernel_size=3, activation='relu', padding='same')(x)\n",
    "    x = MaxPooling1D(pool_size=2, strides=1, padding='same')(x)\n",
    "    \n",
    "    \n",
    "    # BiLSTM Block\n",
    "    x = Bidirectional(LSTM(units=256, return_sequences=True))(x)\n",
    "    x = Dropout(0.3)(x)\n",
    "    x = Bidirectional(LSTM(units=128, return_sequences=True))(x)\n",
    "    x = Dropout(0.3)(x)\n",
    "    \n",
    "    # Attention Mechanism\n",
    "    x = attention_mechanism(x)\n",
    "    \n",
    "    # Fully Connected Block\n",
    "    x = Flatten()(x)\n",
    "    x = Dense(64, activation='relu')(x)\n",
    "    x = Dropout(0.3)(x)\n",
    "    x = Dense(16, activation='relu')(x)\n",
    "    outputs = Dense(1, activation='linear')(x)  # Output layer for regression\n",
    "    \n",
    "    # Compile the Model\n",
    "    model = Model(inputs=inputs, outputs=outputs)\n",
    "    model.compile(optimizer=Adam(learning_rate=0.001), loss='mse', metrics=['mae'])\n",
    "    return model"
   ],
   "id": "6bed810bdeffef84",
   "outputs": [],
   "execution_count": 6
  },
  {
   "metadata": {
    "ExecuteTime": {
     "end_time": "2024-11-16T15:27:29.219534Z",
     "start_time": "2024-11-16T14:22:25.689807Z"
    }
   },
   "cell_type": "code",
   "source": [
    "# Function to train the model and evaluate\n",
    "def train_and_evaluate_model(X_train, y_train, X_test, y_test, dataset_name):\n",
    "    \"\"\"\n",
    "    Train and evaluate the CNN-BiLSTM-BMKG model on a specific dataset.\n",
    "    \"\"\"\n",
    "    input_shape = (X_train.shape[1],)  # number of features\n",
    "    model = build_cnn_bilstm_model(input_shape)\n",
    "\n",
    "    # Print model summary\n",
    "    print(f\"Training model for {dataset_name}...\")\n",
    "    model.summary()\n",
    "    \n",
    "    # Add callbacks\n",
    "    callbacks = [reduce_lr, early_stopping]\n",
    "    \n",
    "    # Train the model\n",
    "    history = model.fit(\n",
    "        X_train, y_train,\n",
    "        validation_data=(X_test, y_test),\n",
    "        epochs=100,\n",
    "        batch_size=64,\n",
    "        callbacks=[reduce_lr, early_stopping],\n",
    "        verbose=1\n",
    "    )\n",
    "\n",
    "    # Evaluate the model\n",
    "    test_loss, test_mae = model.evaluate(X_test, y_test)\n",
    "    print(f\"{dataset_name} Test Loss (MSE): {test_loss}\")\n",
    "    print(f\"{dataset_name} Test MAE: {test_mae}\")\n",
    "\n",
    "    # Save the model\n",
    "    model.save(f'cnn_bilstm_model_{dataset_name.lower()}.h5')\n",
    "\n",
    "    return history, test_loss, test_mae\n",
    "\n",
    "# BMKG Dataset\n",
    "print(\"Loading BMKG Dataset...\")\n",
    "X_train_bmkg = np.load('../X_train_bmkg.npy', allow_pickle=True)\n",
    "X_test_bmkg = np.load('../X_test_bmkg.npy', allow_pickle=True)\n",
    "y_train_bmkg = np.load('../y_train_bmkg.npy', allow_pickle=True)\n",
    "y_test_bmkg = np.load('../y_test_bmkg.npy', allow_pickle=True)\n",
    "\n",
    "history_bmkg, test_loss_bmkg, test_mae_bmkg = train_and_evaluate_model(X_train_bmkg, y_train_bmkg, X_test_bmkg, y_test_bmkg, \"BMKG\")"
   ],
   "id": "2ab992d71ad3b7e6",
   "outputs": [
    {
     "name": "stdout",
     "output_type": "stream",
     "text": [
      "Loading BMKG Dataset...\n",
      "Training model for BMKG...\n",
      "Model: \"model_1\"\n",
      "__________________________________________________________________________________________________\n",
      "Layer (type)                    Output Shape         Param #     Connected to                     \n",
      "==================================================================================================\n",
      "input_2 (InputLayer)            [(None, 9)]          0                                            \n",
      "__________________________________________________________________________________________________\n",
      "reshape_1 (Reshape)             (None, 9, 1)         0           input_2[0][0]                    \n",
      "__________________________________________________________________________________________________\n",
      "conv1d_3 (Conv1D)               (None, 9, 64)        256         reshape_1[0][0]                  \n",
      "__________________________________________________________________________________________________\n",
      "max_pooling1d_3 (MaxPooling1D)  (None, 9, 64)        0           conv1d_3[0][0]                   \n",
      "__________________________________________________________________________________________________\n",
      "conv1d_4 (Conv1D)               (None, 9, 128)       24704       max_pooling1d_3[0][0]            \n",
      "__________________________________________________________________________________________________\n",
      "max_pooling1d_4 (MaxPooling1D)  (None, 9, 128)       0           conv1d_4[0][0]                   \n",
      "__________________________________________________________________________________________________\n",
      "conv1d_5 (Conv1D)               (None, 9, 256)       98560       max_pooling1d_4[0][0]            \n",
      "__________________________________________________________________________________________________\n",
      "max_pooling1d_5 (MaxPooling1D)  (None, 9, 256)       0           conv1d_5[0][0]                   \n",
      "__________________________________________________________________________________________________\n",
      "bidirectional_2 (Bidirectional) (None, 9, 512)       1050624     max_pooling1d_5[0][0]            \n",
      "__________________________________________________________________________________________________\n",
      "dropout_3 (Dropout)             (None, 9, 512)       0           bidirectional_2[0][0]            \n",
      "__________________________________________________________________________________________________\n",
      "bidirectional_3 (Bidirectional) (None, 9, 256)       656384      dropout_3[0][0]                  \n",
      "__________________________________________________________________________________________________\n",
      "dropout_4 (Dropout)             (None, 9, 256)       0           bidirectional_3[0][0]            \n",
      "__________________________________________________________________________________________________\n",
      "dense_4 (Dense)                 (None, 9, 1)         257         dropout_4[0][0]                  \n",
      "__________________________________________________________________________________________________\n",
      "softmax_1 (Softmax)             (None, 9, 1)         0           dense_4[0][0]                    \n",
      "__________________________________________________________________________________________________\n",
      "multiply_1 (Multiply)           (None, 9, 256)       0           dropout_4[0][0]                  \n",
      "                                                                 softmax_1[0][0]                  \n",
      "__________________________________________________________________________________________________\n",
      "flatten_1 (Flatten)             (None, 2304)         0           multiply_1[0][0]                 \n",
      "__________________________________________________________________________________________________\n",
      "dense_5 (Dense)                 (None, 64)           147520      flatten_1[0][0]                  \n",
      "__________________________________________________________________________________________________\n",
      "dropout_5 (Dropout)             (None, 64)           0           dense_5[0][0]                    \n",
      "__________________________________________________________________________________________________\n",
      "dense_6 (Dense)                 (None, 16)           1040        dropout_5[0][0]                  \n",
      "__________________________________________________________________________________________________\n",
      "dense_7 (Dense)                 (None, 1)            17          dense_6[0][0]                    \n",
      "==================================================================================================\n",
      "Total params: 1,979,362\n",
      "Trainable params: 1,979,362\n",
      "Non-trainable params: 0\n",
      "__________________________________________________________________________________________________\n",
      "Train on 74309 samples, validate on 18578 samples\n",
      "Epoch 1/100\n",
      "74309/74309 [==============================] - 82s 1ms/sample - loss: 0.0138 - mae: 0.0915 - val_loss: 0.0107 - val_mae: 0.0799\n",
      "Epoch 2/100\n",
      "74309/74309 [==============================] - 80s 1ms/sample - loss: 0.0106 - mae: 0.0806 - val_loss: 0.0103 - val_mae: 0.0794\n",
      "Epoch 3/100\n",
      "74309/74309 [==============================] - 80s 1ms/sample - loss: 0.0102 - mae: 0.0788 - val_loss: 0.0106 - val_mae: 0.0787\n",
      "Epoch 4/100\n",
      "74309/74309 [==============================] - 80s 1ms/sample - loss: 0.0099 - mae: 0.0779 - val_loss: 0.0099 - val_mae: 0.0774\n",
      "Epoch 5/100\n",
      "74309/74309 [==============================] - 81s 1ms/sample - loss: 0.0098 - mae: 0.0770 - val_loss: 0.0096 - val_mae: 0.0751\n",
      "Epoch 6/100\n",
      "74309/74309 [==============================] - 81s 1ms/sample - loss: 0.0096 - mae: 0.0765 - val_loss: 0.0098 - val_mae: 0.0785\n",
      "Epoch 7/100\n",
      "74309/74309 [==============================] - 81s 1ms/sample - loss: 0.0094 - mae: 0.0757 - val_loss: 0.0095 - val_mae: 0.0761\n",
      "Epoch 8/100\n",
      "74309/74309 [==============================] - 81s 1ms/sample - loss: 0.0093 - mae: 0.0752 - val_loss: 0.0100 - val_mae: 0.0789\n",
      "Epoch 9/100\n",
      "74309/74309 [==============================] - 81s 1ms/sample - loss: 0.0092 - mae: 0.0749 - val_loss: 0.0097 - val_mae: 0.0784\n",
      "Epoch 10/100\n",
      "74309/74309 [==============================] - 81s 1ms/sample - loss: 0.0091 - mae: 0.0743 - val_loss: 0.0096 - val_mae: 0.0759\n",
      "Epoch 11/100\n",
      "74309/74309 [==============================] - 81s 1ms/sample - loss: 0.0090 - mae: 0.0740 - val_loss: 0.0095 - val_mae: 0.0760\n",
      "Epoch 12/100\n",
      "74309/74309 [==============================] - 82s 1ms/sample - loss: 0.0089 - mae: 0.0736 - val_loss: 0.0091 - val_mae: 0.0744\n",
      "Epoch 13/100\n",
      "74309/74309 [==============================] - 83s 1ms/sample - loss: 0.0089 - mae: 0.0732 - val_loss: 0.0090 - val_mae: 0.0740\n",
      "Epoch 14/100\n",
      "74309/74309 [==============================] - 83s 1ms/sample - loss: 0.0088 - mae: 0.0730 - val_loss: 0.0095 - val_mae: 0.0774\n",
      "Epoch 15/100\n",
      "74309/74309 [==============================] - 82s 1ms/sample - loss: 0.0087 - mae: 0.0726 - val_loss: 0.0094 - val_mae: 0.0767\n",
      "Epoch 16/100\n",
      "74309/74309 [==============================] - 130s 2ms/sample - loss: 0.0087 - mae: 0.0723 - val_loss: 0.0092 - val_mae: 0.0757\n",
      "Epoch 17/100\n",
      "74309/74309 [==============================] - 82s 1ms/sample - loss: 0.0086 - mae: 0.0720 - val_loss: 0.0092 - val_mae: 0.0752\n",
      "Epoch 18/100\n",
      "74309/74309 [==============================] - 82s 1ms/sample - loss: 0.0085 - mae: 0.0716 - val_loss: 0.0090 - val_mae: 0.0747\n",
      "Epoch 19/100\n",
      "74309/74309 [==============================] - 82s 1ms/sample - loss: 0.0084 - mae: 0.0715 - val_loss: 0.0090 - val_mae: 0.0744\n",
      "Epoch 20/100\n",
      "74309/74309 [==============================] - 82s 1ms/sample - loss: 0.0084 - mae: 0.0715 - val_loss: 0.0094 - val_mae: 0.0762\n",
      "Epoch 21/100\n",
      "74309/74309 [==============================] - 82s 1ms/sample - loss: 0.0084 - mae: 0.0711 - val_loss: 0.0089 - val_mae: 0.0731\n",
      "Epoch 22/100\n",
      "74309/74309 [==============================] - 82s 1ms/sample - loss: 0.0082 - mae: 0.0707 - val_loss: 0.0088 - val_mae: 0.0729\n",
      "Epoch 23/100\n",
      "74309/74309 [==============================] - 82s 1ms/sample - loss: 0.0082 - mae: 0.0704 - val_loss: 0.0092 - val_mae: 0.0759\n",
      "Epoch 24/100\n",
      "74309/74309 [==============================] - 82s 1ms/sample - loss: 0.0082 - mae: 0.0703 - val_loss: 0.0092 - val_mae: 0.0754\n",
      "Epoch 25/100\n",
      "74309/74309 [==============================] - 82s 1ms/sample - loss: 0.0081 - mae: 0.0701 - val_loss: 0.0089 - val_mae: 0.0735\n",
      "Epoch 26/100\n",
      "74309/74309 [==============================] - 82s 1ms/sample - loss: 0.0081 - mae: 0.0700 - val_loss: 0.0086 - val_mae: 0.0728\n",
      "Epoch 27/100\n",
      "74309/74309 [==============================] - 82s 1ms/sample - loss: 0.0080 - mae: 0.0695 - val_loss: 0.0091 - val_mae: 0.0758\n",
      "Epoch 28/100\n",
      "74309/74309 [==============================] - 82s 1ms/sample - loss: 0.0080 - mae: 0.0696 - val_loss: 0.0087 - val_mae: 0.0731\n",
      "Epoch 29/100\n",
      "74309/74309 [==============================] - 82s 1ms/sample - loss: 0.0079 - mae: 0.0693 - val_loss: 0.0085 - val_mae: 0.0715\n",
      "Epoch 30/100\n",
      "74309/74309 [==============================] - 82s 1ms/sample - loss: 0.0079 - mae: 0.0689 - val_loss: 0.0091 - val_mae: 0.0750\n",
      "Epoch 31/100\n",
      "74309/74309 [==============================] - 82s 1ms/sample - loss: 0.0078 - mae: 0.0687 - val_loss: 0.0086 - val_mae: 0.0719\n",
      "Epoch 32/100\n",
      "74309/74309 [==============================] - 82s 1ms/sample - loss: 0.0078 - mae: 0.0686 - val_loss: 0.0084 - val_mae: 0.0712\n",
      "Epoch 33/100\n",
      "74309/74309 [==============================] - 82s 1ms/sample - loss: 0.0077 - mae: 0.0684 - val_loss: 0.0089 - val_mae: 0.0741\n",
      "Epoch 34/100\n",
      "74309/74309 [==============================] - 82s 1ms/sample - loss: 0.0077 - mae: 0.0682 - val_loss: 0.0088 - val_mae: 0.0743\n",
      "Epoch 35/100\n",
      "74309/74309 [==============================] - 82s 1ms/sample - loss: 0.0076 - mae: 0.0679 - val_loss: 0.0084 - val_mae: 0.0713\n",
      "Epoch 36/100\n",
      "74309/74309 [==============================] - 82s 1ms/sample - loss: 0.0076 - mae: 0.0677 - val_loss: 0.0084 - val_mae: 0.0714\n",
      "Epoch 37/100\n",
      "74309/74309 [==============================] - 82s 1ms/sample - loss: 0.0075 - mae: 0.0674 - val_loss: 0.0084 - val_mae: 0.0716\n",
      "Epoch 38/100\n",
      "74309/74309 [==============================] - 83s 1ms/sample - loss: 0.0075 - mae: 0.0674 - val_loss: 0.0087 - val_mae: 0.0734\n",
      "Epoch 39/100\n",
      "74309/74309 [==============================] - 83s 1ms/sample - loss: 0.0074 - mae: 0.0670 - val_loss: 0.0085 - val_mae: 0.0721\n",
      "Epoch 40/100\n",
      "74309/74309 [==============================] - 83s 1ms/sample - loss: 0.0074 - mae: 0.0669 - val_loss: 0.0087 - val_mae: 0.0736\n",
      "Epoch 41/100\n",
      "74309/74309 [==============================] - 83s 1ms/sample - loss: 0.0074 - mae: 0.0667 - val_loss: 0.0087 - val_mae: 0.0730\n",
      "Epoch 42/100\n",
      "74309/74309 [==============================] - 83s 1ms/sample - loss: 0.0073 - mae: 0.0666 - val_loss: 0.0084 - val_mae: 0.0719\n",
      "Epoch 43/100\n",
      "74309/74309 [==============================] - 83s 1ms/sample - loss: 0.0073 - mae: 0.0663 - val_loss: 0.0085 - val_mae: 0.0726\n",
      "Epoch 44/100\n",
      "74309/74309 [==============================] - 83s 1ms/sample - loss: 0.0072 - mae: 0.0662 - val_loss: 0.0089 - val_mae: 0.0747\n",
      "Epoch 45/100\n",
      "74309/74309 [==============================] - 83s 1ms/sample - loss: 0.0072 - mae: 0.0660 - val_loss: 0.0086 - val_mae: 0.0724\n",
      "Epoch 46/100\n",
      "74309/74309 [==============================] - 83s 1ms/sample - loss: 0.0071 - mae: 0.0658 - val_loss: 0.0086 - val_mae: 0.0724\n",
      "Epoch 47/100\n",
      "74304/74309 [============================>.] - ETA: 0s - loss: 0.0071 - mae: 0.0656Restoring model weights from the end of the best epoch.\n",
      "74309/74309 [==============================] - 83s 1ms/sample - loss: 0.0071 - mae: 0.0656 - val_loss: 0.0084 - val_mae: 0.0722\n",
      "Epoch 00047: early stopping\n",
      "18578/18578 [==============================] - 7s 364us/sample - loss: 0.0084 - mae: 0.0716\n",
      "BMKG Test Loss (MSE): 0.008361906339335713\n",
      "BMKG Test MAE: 0.07157938927412033\n"
     ]
    }
   ],
   "execution_count": 8
  },
  {
   "metadata": {
    "ExecuteTime": {
     "end_time": "2024-11-16T14:12:53.144282Z",
     "start_time": "2024-11-16T14:12:53.130512Z"
    }
   },
   "cell_type": "code",
   "source": [
    "# show the model accuracy Percentage for BMKG Dataset out of 100%\n",
    "print(\"BMKG Test Loss (MSE):\", test_loss_bmkg)\n",
    "print(\"BMKG Test MAE:\", test_mae_bmkg)"
   ],
   "id": "ec7eaf3685f9e9ab",
   "outputs": [
    {
     "name": "stdout",
     "output_type": "stream",
     "text": [
      "BMKG Test Loss (MSE): 0.014789507176018414\n",
      "BMKG Test MAE: 0.09840562\n"
     ]
    }
   ],
   "execution_count": 4
  },
  {
   "metadata": {},
   "cell_type": "code",
   "outputs": [],
   "execution_count": null,
   "source": [
    "BMKG Test Loss (MSE): 0.008427958246156058\n",
    "BMKG Test MAE: 0.07138015\n",
    "\n",
    "\n",
    "BMKG Test Loss (MSE): 0.014789507176018414\n",
    "BMKG Test MAE: 0.09840562"
   ],
   "id": "2e09e5ba81ff3bf4"
  },
  {
   "metadata": {},
   "cell_type": "code",
   "outputs": [],
   "execution_count": null,
   "source": [
    "# evaluate the model\n",
    "from sklearn.metrics import mean_squared_error, mean_absolute_error\n",
    "\n",
    "# Load the model\n",
    "model_bmkg = load_model('cnn_bilstm_model_bmkg.h5')\n",
    "\n",
    "# Make predictions\n",
    "y_pred_bmkg = model_bmkg.predict(X_test_bmkg)\n",
    "\n",
    "# Calculate the Mean Squared Error\n",
    "mse_bmkg = mean_squared_error(y_test_bmkg, y_pred_bmkg)\n",
    "print(\"BMKG Test MSE:\", mse_bmkg)\n",
    "\n",
    "# Calculate the Mean Absolute Error\n",
    "mae_bmkg = mean_absolute_error(y_test_bmkg, y_pred_bmkg)\n",
    "print(\"BMKG Test MAE:\", mae_bmkg)\n",
    "\n",
    "# Calculate the Root Mean Squared Error\n",
    "rmse_bmkg = np.sqrt(mse_bmkg)\n",
    "print(\"BMKG Test RMSE:\", rmse_bmkg)\n",
    "\n",
    "# Calculate the Mean Absolute Percentage Error\n",
    "mape_bmkg = np.mean(np.abs((y_test_bmkg - y_pred_bmkg) / y_test_bmkg)) * 100\n",
    "print(\"BMKG Test MAPE:\", mape_bmkg)\n",
    "\n",
    "# Calculate the Coefficient of Determination (R^2)\n",
    "from sklearn.metrics import r2_score\n",
    "r2_bmkg = r2_score(y_test_bmkg, y_pred_bmkg)\n",
    "print(\"BMKG Test R^2:\", r2_bmkg)\n"
   ],
   "id": "b5287d61e48cfa31"
  },
  {
   "metadata": {
    "ExecuteTime": {
     "end_time": "2024-11-16T14:15:34.733237Z",
     "start_time": "2024-11-16T14:15:34.309409Z"
    }
   },
   "cell_type": "code",
   "source": [
    "# Plot the training history\n",
    "import matplotlib.pyplot as plt\n",
    "\n",
    "def plot_training_history(history, dataset_name):\n",
    "    \"\"\"\n",
    "    Plot the training history for a given dataset.\n",
    "    \"\"\"\n",
    "    plt.figure(figsize=(12, 6))\n",
    "    plt.plot(history.history['loss'], label='Training Loss')\n",
    "    plt.plot(history.history['val_loss'], label='Validation Loss')\n",
    "    plt.title(f'{dataset_name} Training History')\n",
    "    plt.xlabel('Epochs')\n",
    "    plt.ylabel('Loss (MSE)')\n",
    "    plt.legend()\n",
    "    plt.show()\n",
    "    \n",
    "    plt.figure(figsize=(12, 6))\n",
    "    plt.plot(history.history['mae'], label='Training MAE')\n",
    "    plt.plot(history.history['val_mae'], label='Validation MAE')\n",
    "    plt.title(f'{dataset_name} Training History')\n",
    "    plt.xlabel('Epochs')\n",
    "    plt.ylabel('MAE')\n",
    "    plt.legend()\n",
    "    plt.show()\n",
    "    \n",
    "# Plot the training history for BMKG\n",
    "plot_training_history(history_bmkg, \"BMKG\")"
   ],
   "id": "9eb89d97bc445904",
   "outputs": [
    {
     "data": {
      "text/plain": [
       "<Figure size 864x432 with 1 Axes>"
      ],
      "image/png": "[encoded data removed]"
     },
     "metadata": {
      "needs_background": "light"
     },
     "output_type": "display_data"
    },
    {
     "data": {
      "text/plain": [
       "<Figure size 864x432 with 1 Axes>"
      ],
      "image/png": "[encoded data removed]"
     },
     "metadata": {
      "needs_background": "light"
     },
     "output_type": "display_data"
    }
   ],
   "execution_count": 5
  },
  {
   "metadata": {
    "ExecuteTime": {
     "end_time": "2024-11-16T16:11:15.652202Z",
     "start_time": "2024-11-16T16:11:15.557438Z"
    }
   },
   "cell_type": "code",
   "source": [
    "# JMA Dataset\n",
    "import pandas as pd\n",
    "JMA_features = pd.read_csv(\"../JMA_features.csv\")\n",
    "print(\"JMA Dataset:\")\n",
    "print(JMA_features.head())"
   ],
   "id": "24819dc0fccfab1a",
   "outputs": [
    {
     "name": "stdout",
     "output_type": "stream",
     "text": [
      "JMA Dataset:\n",
      "    Latitude   Longitude  Depth  Magnitude             Datetime  Year  Month  \\\n",
      "0  35.338333  133.211667     12        3.6  1985-12-31 02:26:48  1985     12   \n",
      "1  36.406667  140.696667     55        3.3  1985-12-30 19:11:46  1985     12   \n",
      "2  37.210000  139.936667      6        3.5  1985-12-30 15:56:17  1985     12   \n",
      "3  27.968333  129.665000      0        4.2  1985-12-30 15:20:15  1985     12   \n",
      "4  42.888333  145.445000     35        3.7  1985-12-29 09:22:20  1985     12   \n",
      "\n",
      "   Day  DayOfWeek  Hour MagnitudeCategory   TimeDiff  \n",
      "0   31          1     2          Moderate   0.000000  \n",
      "1   30          0    19          Moderate  -7.250556  \n",
      "2   30          0    15          Moderate  -3.258056  \n",
      "3   30          0    15          Moderate  -0.600556  \n",
      "4   29          6     9          Moderate -29.965278  \n"
     ]
    }
   ],
   "execution_count": 20
  },
  {
   "metadata": {
    "ExecuteTime": {
     "end_time": "2024-11-16T16:11:15.826410Z",
     "start_time": "2024-11-16T16:11:15.814431Z"
    }
   },
   "cell_type": "code",
   "source": [
    "# Remove 'Datetime' and 'MagnitudeCategory' from features and target\n",
    "X_jma = JMA_features[[\"Latitude\", \"Longitude\", \"Depth\", \"TimeDiff\", \"Year\", \"Month\", \"Day\", \"DayOfWeek\", \"Hour\"]].values\n",
    "\n",
    "# Use 'Magnitude' as the target variable for regression\n",
    "y_jma = JMA_features[[\"Magnitude\"]].values\n",
    "\n",
    "# Check shapes after selection\n",
    "print(\"X_jma shape:\", X_jma.shape)\n",
    "print(\"y_jma shape:\", y_jma.shape)"
   ],
   "id": "454d258ec667be56",
   "outputs": [
    {
     "name": "stdout",
     "output_type": "stream",
     "text": [
      "X_jma shape: (93203, 9)\n",
      "y_jma shape: (93203, 1)\n"
     ]
    }
   ],
   "execution_count": 21
  },
  {
   "metadata": {
    "ExecuteTime": {
     "end_time": "2024-11-16T16:11:17.397274Z",
     "start_time": "2024-11-16T16:11:17.365945Z"
    }
   },
   "cell_type": "code",
   "source": [
    "# check if the data is already scaled\n",
    "from sklearn.preprocessing import MinMaxScaler\n",
    "scaler = MinMaxScaler()\n",
    "X_jma_scaled = scaler.fit_transform(X_jma)\n",
    "y_jma_scaled = scaler.fit_transform(y_jma)\n",
    "\n",
    "# Check the scaled values\n",
    "print(\"Scaled X_jma:\")\n",
    "print(X_jma_scaled[:5])\n",
    "print(\"Scaled y_jma:\")\n",
    "print(y_jma_scaled[:5])"
   ],
   "id": "f96f3625d91db43b",
   "outputs": [
    {
     "name": "stdout",
     "output_type": "stream",
     "text": [
      "Scaled X_jma:\n",
      "[[0.59948847 0.33121805 0.01726619 0.25212269 0.         1.\n",
      "  1.         0.16666667 0.08695652]\n",
      " [0.62024087 0.52912921 0.07913669 0.2518133  0.         1.\n",
      "  0.96666667 0.         0.82608696]\n",
      " [0.63584564 0.50903402 0.00863309 0.25198366 0.         1.\n",
      "  0.96666667 0.         0.65217391]\n",
      " [0.45632608 0.23744051 0.         0.25209706 0.         1.\n",
      "  0.96666667 0.         0.65217391]\n",
      " [0.74614737 0.65468006 0.05035971 0.25084401 0.         1.\n",
      "  0.93333333 1.         0.39130435]]\n",
      "Scaled y_jma:\n",
      "[[0.38636364]\n",
      " [0.35227273]\n",
      " [0.375     ]\n",
      " [0.45454545]\n",
      " [0.39772727]]\n"
     ]
    }
   ],
   "execution_count": 22
  },
  {
   "metadata": {
    "ExecuteTime": {
     "end_time": "2024-11-16T16:11:03.536889Z",
     "start_time": "2024-11-16T16:11:03.505396Z"
    }
   },
   "cell_type": "code",
   "source": [
    "# Reshape for LSTM/BiLSTM\n",
    "# Ensure input data has the correct shape for the model\n",
    "X_train_jma = X_train_jma.reshape(X_train_jma.shape[0], X_train_jma.shape[2])\n",
    "X_test_jma = X_test_jma.reshape(X_test_jma.shape[0], X_test_jma.shape[2])\n",
    "\n",
    "print(\"X_train_jma reshaped:\", X_train_jma.shape)\n",
    "print(\"X_test_jma reshaped:\", X_test_jma.shape)"
   ],
   "id": "20ec9a1b84372591",
   "outputs": [
    {
     "ename": "NameError",
     "evalue": "name 'X_train_jma' is not defined",
     "output_type": "error",
     "traceback": [
      "\u001B[1;31m---------------------------------------------------------------------------\u001B[0m",
      "\u001B[1;31mNameError\u001B[0m                                 Traceback (most recent call last)",
      "\u001B[1;32m<ipython-input-19-42c1a69f502f>\u001B[0m in \u001B[0;36m<module>\u001B[1;34m\u001B[0m\n\u001B[0;32m      1\u001B[0m \u001B[1;31m# Reshape for LSTM/BiLSTM\u001B[0m\u001B[1;33m\u001B[0m\u001B[1;33m\u001B[0m\u001B[1;33m\u001B[0m\u001B[0m\n\u001B[0;32m      2\u001B[0m \u001B[1;31m# Ensure input data has the correct shape for the model\u001B[0m\u001B[1;33m\u001B[0m\u001B[1;33m\u001B[0m\u001B[1;33m\u001B[0m\u001B[0m\n\u001B[1;32m----> 3\u001B[1;33m \u001B[0mX_train_jma\u001B[0m \u001B[1;33m=\u001B[0m \u001B[0mX_train_jma\u001B[0m\u001B[1;33m.\u001B[0m\u001B[0mreshape\u001B[0m\u001B[1;33m(\u001B[0m\u001B[0mX_train_jma\u001B[0m\u001B[1;33m.\u001B[0m\u001B[0mshape\u001B[0m\u001B[1;33m[\u001B[0m\u001B[1;36m0\u001B[0m\u001B[1;33m]\u001B[0m\u001B[1;33m,\u001B[0m \u001B[0mX_train_jma\u001B[0m\u001B[1;33m.\u001B[0m\u001B[0mshape\u001B[0m\u001B[1;33m[\u001B[0m\u001B[1;36m2\u001B[0m\u001B[1;33m]\u001B[0m\u001B[1;33m)\u001B[0m\u001B[1;33m\u001B[0m\u001B[1;33m\u001B[0m\u001B[0m\n\u001B[0m\u001B[0;32m      4\u001B[0m \u001B[0mX_test_jma\u001B[0m \u001B[1;33m=\u001B[0m \u001B[0mX_test_jma\u001B[0m\u001B[1;33m.\u001B[0m\u001B[0mreshape\u001B[0m\u001B[1;33m(\u001B[0m\u001B[0mX_test_jma\u001B[0m\u001B[1;33m.\u001B[0m\u001B[0mshape\u001B[0m\u001B[1;33m[\u001B[0m\u001B[1;36m0\u001B[0m\u001B[1;33m]\u001B[0m\u001B[1;33m,\u001B[0m \u001B[0mX_test_jma\u001B[0m\u001B[1;33m.\u001B[0m\u001B[0mshape\u001B[0m\u001B[1;33m[\u001B[0m\u001B[1;36m2\u001B[0m\u001B[1;33m]\u001B[0m\u001B[1;33m)\u001B[0m\u001B[1;33m\u001B[0m\u001B[1;33m\u001B[0m\u001B[0m\n\u001B[0;32m      5\u001B[0m \u001B[1;33m\u001B[0m\u001B[0m\n",
      "\u001B[1;31mNameError\u001B[0m: name 'X_train_jma' is not defined"
     ]
    }
   ],
   "execution_count": 19
  },
  {
   "metadata": {
    "ExecuteTime": {
     "end_time": "2024-11-16T16:11:19.897128Z",
     "start_time": "2024-11-16T16:11:19.865458Z"
    }
   },
   "cell_type": "code",
   "source": [
    "# save the data in numpy format\n",
    "np.save('../X_train_jma.npy', X_train_jma)\n",
    "np.save('../X_test_jma.npy', X_test_jma)\n",
    "np.save('../y_train_jma.npy', y_train_jma)\n",
    "np.save('../y_test_jma.npy', y_test_jma)"
   ],
   "id": "3464c1f9843e21a9",
   "outputs": [
    {
     "ename": "NameError",
     "evalue": "name 'X_train_jma' is not defined",
     "output_type": "error",
     "traceback": [
      "\u001B[1;31m---------------------------------------------------------------------------\u001B[0m",
      "\u001B[1;31mNameError\u001B[0m                                 Traceback (most recent call last)",
      "\u001B[1;32m<ipython-input-23-3b6c18f42b6b>\u001B[0m in \u001B[0;36m<module>\u001B[1;34m\u001B[0m\n\u001B[0;32m      1\u001B[0m \u001B[1;31m# save the data in numpy format\u001B[0m\u001B[1;33m\u001B[0m\u001B[1;33m\u001B[0m\u001B[1;33m\u001B[0m\u001B[0m\n\u001B[1;32m----> 2\u001B[1;33m \u001B[0mnp\u001B[0m\u001B[1;33m.\u001B[0m\u001B[0msave\u001B[0m\u001B[1;33m(\u001B[0m\u001B[1;34m'X_train_jma.npy'\u001B[0m\u001B[1;33m,\u001B[0m \u001B[0mX_train_jma\u001B[0m\u001B[1;33m)\u001B[0m\u001B[1;33m\u001B[0m\u001B[1;33m\u001B[0m\u001B[0m\n\u001B[0m\u001B[0;32m      3\u001B[0m \u001B[0mnp\u001B[0m\u001B[1;33m.\u001B[0m\u001B[0msave\u001B[0m\u001B[1;33m(\u001B[0m\u001B[1;34m'X_test_jma.npy'\u001B[0m\u001B[1;33m,\u001B[0m \u001B[0mX_test_jma\u001B[0m\u001B[1;33m)\u001B[0m\u001B[1;33m\u001B[0m\u001B[1;33m\u001B[0m\u001B[0m\n\u001B[0;32m      4\u001B[0m \u001B[0mnp\u001B[0m\u001B[1;33m.\u001B[0m\u001B[0msave\u001B[0m\u001B[1;33m(\u001B[0m\u001B[1;34m'y_train_jma.npy'\u001B[0m\u001B[1;33m,\u001B[0m \u001B[0my_train_jma\u001B[0m\u001B[1;33m)\u001B[0m\u001B[1;33m\u001B[0m\u001B[1;33m\u001B[0m\u001B[0m\n\u001B[0;32m      5\u001B[0m \u001B[0mnp\u001B[0m\u001B[1;33m.\u001B[0m\u001B[0msave\u001B[0m\u001B[1;33m(\u001B[0m\u001B[1;34m'y_test_jma.npy'\u001B[0m\u001B[1;33m,\u001B[0m \u001B[0my_test_jma\u001B[0m\u001B[1;33m)\u001B[0m\u001B[1;33m\u001B[0m\u001B[1;33m\u001B[0m\u001B[0m\n",
      "\u001B[1;31mNameError\u001B[0m: name 'X_train_jma' is not defined"
     ]
    }
   ],
   "execution_count": 23
  },
  {
   "metadata": {
    "ExecuteTime": {
     "end_time": "2024-11-16T16:11:20.575311Z",
     "start_time": "2024-11-16T16:11:20.561726Z"
    }
   },
   "cell_type": "code",
   "source": [
    "print(\"X_train_jma shape:\", X_train_jma.shape)\n",
    "print(\"X_test_jma shape:\", X_test_jma.shape)\n",
    "print(\"y_train_jma shape:\", y_train_jma.shape)\n",
    "print(\"y_test_jma shape:\", y_test_jma.shape)"
   ],
   "id": "572642b41e3aff72",
   "outputs": [
    {
     "ename": "NameError",
     "evalue": "name 'X_train_jma' is not defined",
     "output_type": "error",
     "traceback": [
      "\u001B[1;31m---------------------------------------------------------------------------\u001B[0m",
      "\u001B[1;31mNameError\u001B[0m                                 Traceback (most recent call last)",
      "\u001B[1;32m<ipython-input-24-f811c740db8f>\u001B[0m in \u001B[0;36m<module>\u001B[1;34m\u001B[0m\n\u001B[1;32m----> 1\u001B[1;33m \u001B[0mprint\u001B[0m\u001B[1;33m(\u001B[0m\u001B[1;34m\"X_train_jma shape:\"\u001B[0m\u001B[1;33m,\u001B[0m \u001B[0mX_train_jma\u001B[0m\u001B[1;33m.\u001B[0m\u001B[0mshape\u001B[0m\u001B[1;33m)\u001B[0m\u001B[1;33m\u001B[0m\u001B[1;33m\u001B[0m\u001B[0m\n\u001B[0m\u001B[0;32m      2\u001B[0m \u001B[0mprint\u001B[0m\u001B[1;33m(\u001B[0m\u001B[1;34m\"X_test_jma shape:\"\u001B[0m\u001B[1;33m,\u001B[0m \u001B[0mX_test_jma\u001B[0m\u001B[1;33m.\u001B[0m\u001B[0mshape\u001B[0m\u001B[1;33m)\u001B[0m\u001B[1;33m\u001B[0m\u001B[1;33m\u001B[0m\u001B[0m\n\u001B[0;32m      3\u001B[0m \u001B[0mprint\u001B[0m\u001B[1;33m(\u001B[0m\u001B[1;34m\"y_train_jma shape:\"\u001B[0m\u001B[1;33m,\u001B[0m \u001B[0my_train_jma\u001B[0m\u001B[1;33m.\u001B[0m\u001B[0mshape\u001B[0m\u001B[1;33m)\u001B[0m\u001B[1;33m\u001B[0m\u001B[1;33m\u001B[0m\u001B[0m\n\u001B[0;32m      4\u001B[0m \u001B[0mprint\u001B[0m\u001B[1;33m(\u001B[0m\u001B[1;34m\"y_test_jma shape:\"\u001B[0m\u001B[1;33m,\u001B[0m \u001B[0my_test_jma\u001B[0m\u001B[1;33m.\u001B[0m\u001B[0mshape\u001B[0m\u001B[1;33m)\u001B[0m\u001B[1;33m\u001B[0m\u001B[1;33m\u001B[0m\u001B[0m\n",
      "\u001B[1;31mNameError\u001B[0m: name 'X_train_jma' is not defined"
     ]
    }
   ],
   "execution_count": 24
  },
  {
   "metadata": {
    "ExecuteTime": {
     "end_time": "2024-11-16T16:11:32.162288Z",
     "start_time": "2024-11-16T16:11:32.152634Z"
    }
   },
   "cell_type": "code",
   "source": [
    "from tensorflow.keras.models import Model\n",
    "from tensorflow.keras.layers import (\n",
    "    Input, Conv1D, MaxPooling1D, Bidirectional, LSTM, Dense, Dropout, Flatten, Multiply, Softmax, Reshape\n",
    ")\n",
    "from tensorflow.keras.optimizers import Adam\n",
    "import numpy as np\n",
    "from tensorflow.keras.callbacks import ReduceLROnPlateau\n",
    "from tensorflow.keras.callbacks import EarlyStopping\n",
    "# Use the cyclical learning rate scheduler\n",
    "def cyclical_lr(initial_learning_rate, maximal_learning_rate, step_size):\n",
    "    \"\"\"\n",
    "    Cyclical learning rate scheduler.\n",
    "    \"\"\"\n",
    "    # Define the learning rate scheduler\n",
    "    clr = ReduceLROnPlateau(\n",
    "        min_lr=initial_learning_rate,\n",
    "        max_lr=maximal_learning_rate,\n",
    "        step_size=step_size\n",
    "    )\n",
    "    return clr\n",
    "\n",
    "# Learning rate scheduler\n",
    "reduce_lr = cyclical_lr(  # Use the cyclical learning rate scheduler\n",
    "    initial_learning_rate=0.001,\n",
    "    maximal_learning_rate=0.1,\n",
    "    step_size=2000\n",
    ")\n",
    "\n",
    "\n",
    "# Early stopping\n",
    "early_stopping = EarlyStopping(\n",
    "    monitor='val_loss', patience=10, verbose=1, restore_best_weights=True\n",
    ")\n",
    "\n",
    "# Define a custom attention mechanism\n",
    "def attention_mechanism(inputs):\n",
    "    \"\"\"\n",
    "    Custom attention layer for a given input sequence.\n",
    "    \"\"\"\n",
    "    attention = Dense(1, activation='tanh')(inputs)  # Compute the attention scores\n",
    "    attention = Softmax()(attention)  # Apply softmax to normalize the scores\n",
    "    attention = Multiply()([inputs, attention])  # Apply weights to the inputs\n",
    "    return attention\n",
    "\n",
    "# Define the CNN-BiLSTM-BMKG model\n",
    "def build_cnn_bilstm_model(input_shape):\n",
    "    \"\"\"\n",
    "    Builds the CNN-BiLSTM-BMKG model with the attention mechanism.\n",
    "    \"\"\"\n",
    "    inputs = Input(shape=input_shape)\n",
    "    \n",
    "    # Reshape inputs to add a \"time step\" dimension (required for Conv1D and LSTM layers)\n",
    "    reshaped_inputs = Reshape((input_shape[0], 1))(inputs)\n",
    "    \n",
    "    # CNN Block\n",
    "    x = Conv1D(filters=64, kernel_size=3, activation='relu', padding='same')(reshaped_inputs)\n",
    "    x = MaxPooling1D(pool_size=2, strides=1, padding='same')(x)\n",
    "    \n",
    "    x = Conv1D(filters=128, kernel_size=3, activation='relu', padding='same')(x)\n",
    "    x = MaxPooling1D(pool_size=2, strides=1, padding='same')(x)\n",
    "    \n",
    "    x = Conv1D(filters=256, kernel_size=3, activation='relu', padding='same')(x)\n",
    "    x = MaxPooling1D(pool_size=2, strides=1, padding='same')(x)\n",
    "    \n",
    "    \n",
    "    # BiLSTM Block\n",
    "    x = Bidirectional(LSTM(units=256, return_sequences=True))(x)\n",
    "    x = Dropout(0.3)(x)\n",
    "    x = Bidirectional(LSTM(units=128, return_sequences=True))(x)\n",
    "    x = Dropout(0.3)(x)\n",
    "    \n",
    "    # Attention Mechanism\n",
    "    x = attention_mechanism(x)\n",
    "    \n",
    "    # Fully Connected Block\n",
    "    x = Flatten()(x)\n",
    "    x = Dense(64, activation='relu')(x)\n",
    "    x = Dropout(0.3)(x)\n",
    "    x = Dense(16, activation='relu')(x)\n",
    "    outputs = Dense(1, activation='linear')(x)  # Output layer for regression\n",
    "    \n",
    "    # Compile the Model\n",
    "    model = Model(inputs=inputs, outputs=outputs)\n",
    "    model.compile(optimizer=Adam(learning_rate=0.001), loss='mse', metrics=['mae'])\n",
    "    return model"
   ],
   "id": "df165f85a7b41735",
   "outputs": [],
   "execution_count": 25
  },
  {
   "metadata": {
    "ExecuteTime": {
     "end_time": "2024-11-16T16:55:10.569180Z",
     "start_time": "2024-11-16T16:11:54.166894Z"
    }
   },
   "cell_type": "code",
   "source": [
    "# Function to train the model and evaluate\n",
    "def train_and_evaluate_model(X_train, y_train, X_test, y_test, dataset_name):\n",
    "    \"\"\"\n",
    "    Train and evaluate the CNN-BiLSTM-BMKG model on a specific dataset.\n",
    "    \"\"\"\n",
    "    input_shape = (X_train.shape[1],)  # number of features\n",
    "    model = build_cnn_bilstm_model(input_shape)\n",
    "\n",
    "    # Print model summary\n",
    "    print(f\"Training model for {dataset_name}...\")\n",
    "    model.summary()\n",
    "    \n",
    "    # Add callbacks\n",
    "    callbacks = [reduce_lr, early_stopping]\n",
    "    \n",
    "    # Train the model\n",
    "    history = model.fit(\n",
    "        X_train, y_train,\n",
    "        validation_data=(X_test, y_test),\n",
    "        epochs=100,\n",
    "        batch_size=64,\n",
    "        callbacks=[reduce_lr, early_stopping],\n",
    "        verbose=1\n",
    "    )\n",
    "\n",
    "    # Evaluate the model\n",
    "    test_loss, test_mae = model.evaluate(X_test, y_test)\n",
    "    print(f\"{dataset_name} Test Loss (MSE): {test_loss}\")\n",
    "    print(f\"{dataset_name} Test MAE: {test_mae}\")\n",
    "\n",
    "    # Save the model\n",
    "    model.save(f'cnn_bilstm_model_{dataset_name.lower()}.h5')\n",
    "\n",
    "    return history, test_loss, test_mae\n",
    "\n",
    "\n",
    "# JMA Dataset\n",
    "print(\"Training for JMA Dataset...\")\n",
    "X_train_jma = np.load('../X_train_jma.npy', allow_pickle=True)\n",
    "X_test_jma = np.load('../X_test_jma.npy', allow_pickle=True)\n",
    "y_train_jma = np.load('../y_train_jma.npy', allow_pickle=True)\n",
    "y_test_jma = np.load('../y_test_jma.npy', allow_pickle=True)\n",
    "\n",
    "history_jma, test_loss_jma, test_mae_jma = train_and_evaluate_model(X_train_jma, y_train_jma, X_test_jma, y_test_jma, \"JMA\")"
   ],
   "id": "a99289141538c6fe",
   "outputs": [
    {
     "name": "stdout",
     "output_type": "stream",
     "text": [
      "Training for JMA Dataset...\n",
      "Training model for JMA...\n",
      "Model: \"model_2\"\n",
      "__________________________________________________________________________________________________\n",
      "Layer (type)                    Output Shape         Param #     Connected to                     \n",
      "==================================================================================================\n",
      "input_3 (InputLayer)            [(None, 4)]          0                                            \n",
      "__________________________________________________________________________________________________\n",
      "reshape_2 (Reshape)             (None, 4, 1)         0           input_3[0][0]                    \n",
      "__________________________________________________________________________________________________\n",
      "conv1d_6 (Conv1D)               (None, 4, 64)        256         reshape_2[0][0]                  \n",
      "__________________________________________________________________________________________________\n",
      "max_pooling1d_6 (MaxPooling1D)  (None, 4, 64)        0           conv1d_6[0][0]                   \n",
      "__________________________________________________________________________________________________\n",
      "conv1d_7 (Conv1D)               (None, 4, 128)       24704       max_pooling1d_6[0][0]            \n",
      "__________________________________________________________________________________________________\n",
      "max_pooling1d_7 (MaxPooling1D)  (None, 4, 128)       0           conv1d_7[0][0]                   \n",
      "__________________________________________________________________________________________________\n",
      "conv1d_8 (Conv1D)               (None, 4, 256)       98560       max_pooling1d_7[0][0]            \n",
      "__________________________________________________________________________________________________\n",
      "max_pooling1d_8 (MaxPooling1D)  (None, 4, 256)       0           conv1d_8[0][0]                   \n",
      "__________________________________________________________________________________________________\n",
      "bidirectional_4 (Bidirectional) (None, 4, 512)       1050624     max_pooling1d_8[0][0]            \n",
      "__________________________________________________________________________________________________\n",
      "dropout_6 (Dropout)             (None, 4, 512)       0           bidirectional_4[0][0]            \n",
      "__________________________________________________________________________________________________\n",
      "bidirectional_5 (Bidirectional) (None, 4, 256)       656384      dropout_6[0][0]                  \n",
      "__________________________________________________________________________________________________\n",
      "dropout_7 (Dropout)             (None, 4, 256)       0           bidirectional_5[0][0]            \n",
      "__________________________________________________________________________________________________\n",
      "dense_8 (Dense)                 (None, 4, 1)         257         dropout_7[0][0]                  \n",
      "__________________________________________________________________________________________________\n",
      "softmax_2 (Softmax)             (None, 4, 1)         0           dense_8[0][0]                    \n",
      "__________________________________________________________________________________________________\n",
      "multiply_2 (Multiply)           (None, 4, 256)       0           dropout_7[0][0]                  \n",
      "                                                                 softmax_2[0][0]                  \n",
      "__________________________________________________________________________________________________\n",
      "flatten_2 (Flatten)             (None, 1024)         0           multiply_2[0][0]                 \n",
      "__________________________________________________________________________________________________\n",
      "dense_9 (Dense)                 (None, 64)           65600       flatten_2[0][0]                  \n",
      "__________________________________________________________________________________________________\n",
      "dropout_8 (Dropout)             (None, 64)           0           dense_9[0][0]                    \n",
      "__________________________________________________________________________________________________\n",
      "dense_10 (Dense)                (None, 16)           1040        dropout_8[0][0]                  \n",
      "__________________________________________________________________________________________________\n",
      "dense_11 (Dense)                (None, 1)            17          dense_10[0][0]                   \n",
      "==================================================================================================\n",
      "Total params: 1,897,442\n",
      "Trainable params: 1,897,442\n",
      "Non-trainable params: 0\n",
      "__________________________________________________________________________________________________\n",
      "Train on 68267 samples, validate on 17067 samples\n",
      "Epoch 1/100\n",
      "68267/68267 [==============================] - 42s 612us/sample - loss: 0.3560 - mae: 0.3975 - val_loss: 0.4140 - val_mae: 0.6055\n",
      "Epoch 2/100\n",
      "68267/68267 [==============================] - 38s 553us/sample - loss: 0.0654 - mae: 0.1793 - val_loss: 0.5708 - val_mae: 0.6918\n",
      "Epoch 3/100\n",
      "68267/68267 [==============================] - 37s 547us/sample - loss: 0.0448 - mae: 0.1453 - val_loss: 0.7472 - val_mae: 0.8094\n",
      "Epoch 4/100\n",
      "68267/68267 [==============================] - 37s 540us/sample - loss: 0.0343 - mae: 0.1256 - val_loss: 0.4476 - val_mae: 0.5924\n",
      "Epoch 5/100\n",
      "68267/68267 [==============================] - 37s 541us/sample - loss: 0.0272 - mae: 0.1137 - val_loss: 0.4135 - val_mae: 0.5617\n",
      "Epoch 6/100\n",
      "68267/68267 [==============================] - 37s 547us/sample - loss: 0.0213 - mae: 0.1011 - val_loss: 0.4672 - val_mae: 0.6127\n",
      "Epoch 7/100\n",
      "68267/68267 [==============================] - 38s 550us/sample - loss: 0.0175 - mae: 0.0925 - val_loss: 0.4133 - val_mae: 0.5645\n",
      "Epoch 8/100\n",
      "68267/68267 [==============================] - 37s 544us/sample - loss: 0.0142 - mae: 0.0828 - val_loss: 0.4127 - val_mae: 0.5687\n",
      "Epoch 9/100\n",
      "68267/68267 [==============================] - 38s 551us/sample - loss: 0.0140 - mae: 0.0830 - val_loss: 0.2946 - val_mae: 0.4802\n",
      "Epoch 10/100\n",
      "68267/68267 [==============================] - 38s 551us/sample - loss: 0.0118 - mae: 0.0757 - val_loss: 0.3341 - val_mae: 0.5114\n",
      "Epoch 11/100\n",
      "68267/68267 [==============================] - 38s 555us/sample - loss: 0.0114 - mae: 0.0750 - val_loss: 0.2810 - val_mae: 0.4547\n",
      "Epoch 12/100\n",
      "68267/68267 [==============================] - 38s 558us/sample - loss: 0.0112 - mae: 0.0752 - val_loss: 0.2860 - val_mae: 0.4615\n",
      "Epoch 13/100\n",
      "68267/68267 [==============================] - 39s 566us/sample - loss: 0.0089 - mae: 0.0674 - val_loss: 0.2218 - val_mae: 0.3972\n",
      "Epoch 14/100\n",
      "68267/68267 [==============================] - 38s 564us/sample - loss: 0.0094 - mae: 0.0684 - val_loss: 0.2394 - val_mae: 0.4062\n",
      "Epoch 15/100\n",
      "68267/68267 [==============================] - 39s 566us/sample - loss: 0.0075 - mae: 0.0614 - val_loss: 0.1781 - val_mae: 0.3453\n",
      "Epoch 16/100\n",
      "68267/68267 [==============================] - 39s 567us/sample - loss: 0.0081 - mae: 0.0634 - val_loss: 0.1797 - val_mae: 0.3386\n",
      "Epoch 17/100\n",
      "68267/68267 [==============================] - 38s 563us/sample - loss: 0.0093 - mae: 0.0673 - val_loss: 0.2174 - val_mae: 0.3914\n",
      "Epoch 18/100\n",
      "68267/68267 [==============================] - 39s 569us/sample - loss: 0.0074 - mae: 0.0608 - val_loss: 0.2347 - val_mae: 0.4031\n",
      "Epoch 19/100\n",
      "68267/68267 [==============================] - 39s 568us/sample - loss: 0.0074 - mae: 0.0601 - val_loss: 0.1831 - val_mae: 0.3481\n",
      "Epoch 20/100\n",
      "68267/68267 [==============================] - 39s 568us/sample - loss: 0.0066 - mae: 0.0565 - val_loss: 0.1565 - val_mae: 0.3209\n",
      "Epoch 21/100\n",
      "68267/68267 [==============================] - 38s 558us/sample - loss: 0.0066 - mae: 0.0572 - val_loss: 0.2077 - val_mae: 0.3724\n",
      "Epoch 22/100\n",
      "68267/68267 [==============================] - 38s 564us/sample - loss: 0.0070 - mae: 0.0573 - val_loss: 0.1579 - val_mae: 0.3108\n",
      "Epoch 23/100\n",
      "68267/68267 [==============================] - 39s 576us/sample - loss: 0.0060 - mae: 0.0539 - val_loss: 0.1935 - val_mae: 0.3514\n",
      "Epoch 24/100\n",
      "68267/68267 [==============================] - 39s 566us/sample - loss: 0.0071 - mae: 0.0591 - val_loss: 0.1201 - val_mae: 0.2613\n",
      "Epoch 25/100\n",
      "68267/68267 [==============================] - 39s 565us/sample - loss: 0.0056 - mae: 0.0523 - val_loss: 0.1477 - val_mae: 0.3097\n",
      "Epoch 26/100\n",
      "68267/68267 [==============================] - 39s 575us/sample - loss: 0.0049 - mae: 0.0488 - val_loss: 0.1151 - val_mae: 0.2673\n",
      "Epoch 27/100\n",
      "68267/68267 [==============================] - 39s 567us/sample - loss: 0.0061 - mae: 0.0550 - val_loss: 0.0973 - val_mae: 0.2293\n",
      "Epoch 28/100\n",
      "68267/68267 [==============================] - 39s 573us/sample - loss: 0.0057 - mae: 0.0525 - val_loss: 0.1386 - val_mae: 0.2878\n",
      "Epoch 29/100\n",
      "68267/68267 [==============================] - 39s 572us/sample - loss: 0.0050 - mae: 0.0495 - val_loss: 0.1486 - val_mae: 0.3027\n",
      "Epoch 30/100\n",
      "68267/68267 [==============================] - 39s 564us/sample - loss: 0.0059 - mae: 0.0539 - val_loss: 0.1137 - val_mae: 0.2562\n",
      "Epoch 31/100\n",
      "68267/68267 [==============================] - 39s 570us/sample - loss: 0.0052 - mae: 0.0488 - val_loss: 0.1403 - val_mae: 0.2853\n",
      "Epoch 32/100\n",
      "68267/68267 [==============================] - 39s 575us/sample - loss: 0.0068 - mae: 0.0519 - val_loss: 0.1195 - val_mae: 0.2554\n",
      "Epoch 33/100\n",
      "68267/68267 [==============================] - 39s 574us/sample - loss: 0.0048 - mae: 0.0465 - val_loss: 0.0822 - val_mae: 0.2094\n",
      "Epoch 34/100\n",
      "68267/68267 [==============================] - 39s 567us/sample - loss: 0.0048 - mae: 0.0483 - val_loss: 0.0938 - val_mae: 0.2147\n",
      "Epoch 35/100\n",
      "68267/68267 [==============================] - 38s 563us/sample - loss: 0.0046 - mae: 0.0459 - val_loss: 0.1124 - val_mae: 0.2480\n",
      "Epoch 36/100\n",
      "68267/68267 [==============================] - 38s 562us/sample - loss: 0.0043 - mae: 0.0454 - val_loss: 0.1072 - val_mae: 0.2514\n",
      "Epoch 37/100\n",
      "68267/68267 [==============================] - 39s 567us/sample - loss: 0.0051 - mae: 0.0480 - val_loss: 0.1196 - val_mae: 0.2661\n",
      "Epoch 38/100\n",
      "68267/68267 [==============================] - 39s 567us/sample - loss: 0.0044 - mae: 0.0451 - val_loss: 0.1177 - val_mae: 0.2626\n",
      "Epoch 39/100\n",
      "68267/68267 [==============================] - 39s 566us/sample - loss: 0.0043 - mae: 0.0447 - val_loss: 0.1121 - val_mae: 0.2472\n",
      "Epoch 40/100\n",
      "68267/68267 [==============================] - 39s 576us/sample - loss: 0.0046 - mae: 0.0459 - val_loss: 0.1033 - val_mae: 0.2355\n",
      "Epoch 41/100\n",
      "68267/68267 [==============================] - 38s 563us/sample - loss: 0.0044 - mae: 0.0451 - val_loss: 0.1177 - val_mae: 0.2498\n",
      "Epoch 42/100\n",
      "68267/68267 [==============================] - 39s 565us/sample - loss: 0.0039 - mae: 0.0429 - val_loss: 0.0805 - val_mae: 0.2030\n",
      "Epoch 43/100\n",
      "68267/68267 [==============================] - 39s 568us/sample - loss: 0.0035 - mae: 0.0412 - val_loss: 0.0892 - val_mae: 0.2134\n",
      "Epoch 44/100\n",
      "68267/68267 [==============================] - 39s 565us/sample - loss: 0.0040 - mae: 0.0441 - val_loss: 0.0916 - val_mae: 0.2117\n",
      "Epoch 45/100\n",
      "68267/68267 [==============================] - 39s 566us/sample - loss: 0.0036 - mae: 0.0416 - val_loss: 0.0694 - val_mae: 0.1815\n",
      "Epoch 46/100\n",
      "68267/68267 [==============================] - 39s 577us/sample - loss: 0.0038 - mae: 0.0427 - val_loss: 0.1003 - val_mae: 0.2361\n",
      "Epoch 47/100\n",
      "68267/68267 [==============================] - 39s 573us/sample - loss: 0.0038 - mae: 0.0423 - val_loss: 0.0825 - val_mae: 0.1952\n",
      "Epoch 48/100\n",
      "68267/68267 [==============================] - 39s 574us/sample - loss: 0.0042 - mae: 0.0437 - val_loss: 0.0916 - val_mae: 0.2110\n",
      "Epoch 49/100\n",
      "68267/68267 [==============================] - 39s 571us/sample - loss: 0.0043 - mae: 0.0435 - val_loss: 0.1044 - val_mae: 0.2195\n",
      "Epoch 50/100\n",
      "68267/68267 [==============================] - 39s 575us/sample - loss: 0.0037 - mae: 0.0419 - val_loss: 0.0658 - val_mae: 0.1821\n",
      "Epoch 51/100\n",
      "68267/68267 [==============================] - 39s 571us/sample - loss: 0.0032 - mae: 0.0392 - val_loss: 0.0912 - val_mae: 0.2128\n",
      "Epoch 52/100\n",
      "68267/68267 [==============================] - 39s 568us/sample - loss: 0.0039 - mae: 0.0429 - val_loss: 0.0728 - val_mae: 0.1870\n",
      "Epoch 53/100\n",
      "68267/68267 [==============================] - 39s 569us/sample - loss: 0.0035 - mae: 0.0403 - val_loss: 0.0734 - val_mae: 0.1878\n",
      "Epoch 54/100\n",
      "68267/68267 [==============================] - 39s 576us/sample - loss: 0.0037 - mae: 0.0409 - val_loss: 0.0735 - val_mae: 0.1906\n",
      "Epoch 55/100\n",
      "68267/68267 [==============================] - 39s 567us/sample - loss: 0.0035 - mae: 0.0412 - val_loss: 0.0919 - val_mae: 0.2109\n",
      "Epoch 56/100\n",
      "68267/68267 [==============================] - 39s 572us/sample - loss: 0.0032 - mae: 0.0394 - val_loss: 0.0809 - val_mae: 0.1937\n",
      "Epoch 57/100\n",
      "68267/68267 [==============================] - 39s 574us/sample - loss: 0.0038 - mae: 0.0412 - val_loss: 0.0566 - val_mae: 0.1610\n",
      "Epoch 58/100\n",
      "68267/68267 [==============================] - 39s 572us/sample - loss: 0.0033 - mae: 0.0384 - val_loss: 0.0700 - val_mae: 0.1813\n",
      "Epoch 59/100\n",
      "68267/68267 [==============================] - 39s 569us/sample - loss: 0.0033 - mae: 0.0389 - val_loss: 0.0694 - val_mae: 0.1895\n",
      "Epoch 60/100\n",
      "68267/68267 [==============================] - 39s 569us/sample - loss: 0.0042 - mae: 0.0428 - val_loss: 0.0668 - val_mae: 0.1776\n",
      "Epoch 61/100\n",
      "68267/68267 [==============================] - 39s 572us/sample - loss: 0.0029 - mae: 0.0374 - val_loss: 0.0644 - val_mae: 0.1816\n",
      "Epoch 62/100\n",
      "68267/68267 [==============================] - 39s 569us/sample - loss: 0.0030 - mae: 0.0374 - val_loss: 0.0699 - val_mae: 0.1796\n",
      "Epoch 63/100\n",
      "68267/68267 [==============================] - 39s 573us/sample - loss: 0.0028 - mae: 0.0364 - val_loss: 0.0706 - val_mae: 0.1792\n",
      "Epoch 64/100\n",
      "68267/68267 [==============================] - 40s 579us/sample - loss: 0.0038 - mae: 0.0414 - val_loss: 0.0617 - val_mae: 0.1681\n",
      "Epoch 65/100\n",
      "68267/68267 [==============================] - 39s 571us/sample - loss: 0.0031 - mae: 0.0375 - val_loss: 0.0670 - val_mae: 0.1748\n",
      "Epoch 66/100\n",
      "68267/68267 [==============================] - 40s 581us/sample - loss: 0.0028 - mae: 0.0361 - val_loss: 0.0738 - val_mae: 0.1831\n",
      "Epoch 67/100\n",
      "68160/68267 [============================>.] - ETA: 0s - loss: 0.0033 - mae: 0.0383Restoring model weights from the end of the best epoch.\n",
      "68267/68267 [==============================] - 39s 573us/sample - loss: 0.0033 - mae: 0.0383 - val_loss: 0.0769 - val_mae: 0.1892\n",
      "Epoch 00067: early stopping\n",
      "17067/17067 [==============================] - 3s 200us/sample - loss: 0.0566 - mae: 0.1610\n",
      "JMA Test Loss (MSE): 0.056616992572728585\n",
      "JMA Test MAE: 0.16104432940483093\n"
     ]
    }
   ],
   "execution_count": 26
  },
  {
   "metadata": {
    "ExecuteTime": {
     "end_time": "2024-11-16T16:55:35.201751Z",
     "start_time": "2024-11-16T16:55:35.055772Z"
    }
   },
   "cell_type": "code",
   "source": [
    "# Plot the training history for JMA\n",
    "# Plot the training history\n",
    "import matplotlib.pyplot as plt\n",
    "\n",
    "def plot_training_history(history, dataset_name):\n",
    "    \"\"\"\n",
    "    Plot the training history for a given dataset.\n",
    "    \"\"\"\n",
    "    plt.figure(figsize=(12, 6))\n",
    "    plt.plot(history.history['loss'], label='Training Loss')\n",
    "    plt.plot(history.history['val_loss'], label='Validation Loss')\n",
    "    plt.title(f'{dataset_name} Training History')\n",
    "    plt.xlabel('Epochs')\n",
    "    plt.ylabel('Loss (MSE)')\n",
    "    plt.legend()\n",
    "    plt.show()\n",
    "    \n",
    "    plt.figure(figsize=(12, 6))\n",
    "    plt.plot(history.history['mae'], label='Training MAE')\n",
    "    plt.plot(history.history['val_mae'], label='Validation MAE')\n",
    "    plt.title(f'{dataset_name} Training History')\n",
    "    plt.xlabel('Epochs')\n",
    "    plt.ylabel('MAE')\n",
    "    plt.legend()\n",
    "    plt.show()\n",
    "    \n",
    "# Plot the training history for BMKG\n",
    "plot_training_history(history_bmkg, \"JMA\")"
   ],
   "id": "de3774dbd8789226",
   "outputs": [
    {
     "data": {
      "text/plain": [
       "<Figure size 864x432 with 1 Axes>"
      ],
      "image/png": "[encoded data removed]"
     },
     "metadata": {
      "needs_background": "light"
     },
     "output_type": "display_data"
    },
    {
     "data": {
      "text/plain": [
       "<Figure size 864x432 with 1 Axes>"
      ],
      "image/png": "[encoded data removed]"
     },
     "metadata": {
      "needs_background": "light"
     },
     "output_type": "display_data"
    }
   ],
   "execution_count": 27
  },
  {
   "metadata": {},
   "cell_type": "code",
   "outputs": [],
   "execution_count": null,
   "source": "",
   "id": "bd870e893777bc4"
  }
 ],
 "metadata": {
  "kernelspec": {
   "display_name": "Python 3",
   "language": "python",
   "name": "python3"
  },
  "language_info": {
   "codemirror_mode": {
    "name": "ipython",
    "version": 2
   },
   "file_extension": ".py",
   "mimetype": "text/x-python",
   "name": "python",
   "nbconvert_exporter": "python",
   "pygments_lexer": "ipython2",
   "version": "2.7.6"
  }
 },
 "nbformat": 4,
 "nbformat_minor": 5
}
