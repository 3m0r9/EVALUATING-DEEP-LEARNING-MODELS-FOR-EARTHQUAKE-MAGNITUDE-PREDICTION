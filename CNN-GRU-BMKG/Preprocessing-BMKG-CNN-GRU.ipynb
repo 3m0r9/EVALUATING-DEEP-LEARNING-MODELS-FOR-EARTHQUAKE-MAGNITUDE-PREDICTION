{
 "cells": [
  {
   "cell_type": "code",
   "id": "initial_id",
   "metadata": {
    "collapsed": true,
    "ExecuteTime": {
     "end_time": "2025-01-12T05:31:08.202960Z",
     "start_time": "2025-01-12T05:30:55.433296Z"
    }
   },
   "source": [
    "import pandas as pd\n",
    "import numpy as np\n",
    "from sklearn.model_selection import train_test_split\n",
    "from sklearn.preprocessing import MinMaxScaler\n",
    "\n",
    "# Load the dataset\n",
    "bmkg_data = pd.read_csv('BMKG_dataset.csv')  # Replace with the correct path\n",
    "print(bmkg_data.head())"
   ],
   "outputs": [
    {
     "name": "stdout",
     "output_type": "stream",
     "text": [
      "          tgl            ot   lat     lon  depth  mag  \\\n",
      "0  2008/11/01  21:02:43.058 -9.18  119.06     10  4.9   \n",
      "1  2008/11/01  20:58:50.248 -6.55  129.64     10  4.6   \n",
      "2  2008/11/01  17:43:12.941 -7.01  106.63    121  3.7   \n",
      "3  2008/11/01  16:24:14.755 -3.30  127.85     10  3.2   \n",
      "4  2008/11/01  16:20:37.327 -6.41  129.54     70  4.3   \n",
      "\n",
      "                     remark  strike1  dip1  rake1  strike2  dip2  rake2  \n",
      "0  Sumba Region - Indonesia      NaN   NaN    NaN      NaN   NaN    NaN  \n",
      "1                 Banda Sea      NaN   NaN    NaN      NaN   NaN    NaN  \n",
      "2          Java - Indonesia      NaN   NaN    NaN      NaN   NaN    NaN  \n",
      "3         Seram - Indonesia      NaN   NaN    NaN      NaN   NaN    NaN  \n",
      "4                 Banda Sea      NaN   NaN    NaN      NaN   NaN    NaN  \n"
     ]
    }
   ],
   "execution_count": 1
  },
  {
   "metadata": {
    "ExecuteTime": {
     "end_time": "2025-01-12T05:31:25.234930Z",
     "start_time": "2025-01-12T05:31:25.191805Z"
    }
   },
   "cell_type": "code",
   "source": [
    "# Combine date and time into a single Datetime column\n",
    "bmkg_data['Datetime'] = pd.to_datetime(bmkg_data['tgl'] + ' ' + bmkg_data['ot'])\n",
    "\n",
    "# Show the data\n",
    "print(bmkg_data.head())"
   ],
   "id": "f1fed27e39ec7ae2",
   "outputs": [
    {
     "name": "stdout",
     "output_type": "stream",
     "text": [
      "          tgl            ot   lat     lon  depth  mag  \\\n",
      "0  2008/11/01  21:02:43.058 -9.18  119.06     10  4.9   \n",
      "1  2008/11/01  20:58:50.248 -6.55  129.64     10  4.6   \n",
      "2  2008/11/01  17:43:12.941 -7.01  106.63    121  3.7   \n",
      "3  2008/11/01  16:24:14.755 -3.30  127.85     10  3.2   \n",
      "4  2008/11/01  16:20:37.327 -6.41  129.54     70  4.3   \n",
      "\n",
      "                     remark  strike1  dip1  rake1  strike2  dip2  rake2  \\\n",
      "0  Sumba Region - Indonesia      NaN   NaN    NaN      NaN   NaN    NaN   \n",
      "1                 Banda Sea      NaN   NaN    NaN      NaN   NaN    NaN   \n",
      "2          Java - Indonesia      NaN   NaN    NaN      NaN   NaN    NaN   \n",
      "3         Seram - Indonesia      NaN   NaN    NaN      NaN   NaN    NaN   \n",
      "4                 Banda Sea      NaN   NaN    NaN      NaN   NaN    NaN   \n",
      "\n",
      "                 Datetime  \n",
      "0 2008-11-01 21:02:43.058  \n",
      "1 2008-11-01 20:58:50.248  \n",
      "2 2008-11-01 17:43:12.941  \n",
      "3 2008-11-01 16:24:14.755  \n",
      "4 2008-11-01 16:20:37.327  \n"
     ]
    }
   ],
   "execution_count": 2
  },
  {
   "metadata": {
    "ExecuteTime": {
     "end_time": "2025-01-12T05:31:27.737197Z",
     "start_time": "2025-01-12T05:31:27.693385Z"
    }
   },
   "cell_type": "code",
   "source": [
    "# Feature Engineering\n",
    "bmkg_data['Year'] = bmkg_data['Datetime'].dt.year\n",
    "bmkg_data['Month'] = bmkg_data['Datetime'].dt.month\n",
    "bmkg_data['Day'] = bmkg_data['Datetime'].dt.day\n",
    "bmkg_data['Hour'] = bmkg_data['Datetime'].dt.hour\n",
    "bmkg_data['DayOfWeek'] = bmkg_data['Datetime'].dt.dayofweek\n",
    "bmkg_data['Minutes'] = bmkg_data['Datetime'].dt.minute"
   ],
   "id": "c8f4fe420935d5d9",
   "outputs": [],
   "execution_count": 3
  },
  {
   "metadata": {
    "ExecuteTime": {
     "end_time": "2025-01-12T05:31:29.750117Z",
     "start_time": "2025-01-12T05:31:29.723043Z"
    }
   },
   "cell_type": "code",
   "source": [
    "# Time difference (in seconds) from the previous event\n",
    "bmkg_data['TimeDiff'] = bmkg_data['Datetime'].diff().dt.total_seconds().fillna(0)\n",
    "\n",
    "# Show the data\n",
    "print(bmkg_data.head())"
   ],
   "id": "19d7536e654edf6c",
   "outputs": [
    {
     "name": "stdout",
     "output_type": "stream",
     "text": [
      "          tgl            ot   lat     lon  depth  mag  \\\n",
      "0  2008/11/01  21:02:43.058 -9.18  119.06     10  4.9   \n",
      "1  2008/11/01  20:58:50.248 -6.55  129.64     10  4.6   \n",
      "2  2008/11/01  17:43:12.941 -7.01  106.63    121  3.7   \n",
      "3  2008/11/01  16:24:14.755 -3.30  127.85     10  3.2   \n",
      "4  2008/11/01  16:20:37.327 -6.41  129.54     70  4.3   \n",
      "\n",
      "                     remark  strike1  dip1  rake1  ...  dip2  rake2  \\\n",
      "0  Sumba Region - Indonesia      NaN   NaN    NaN  ...   NaN    NaN   \n",
      "1                 Banda Sea      NaN   NaN    NaN  ...   NaN    NaN   \n",
      "2          Java - Indonesia      NaN   NaN    NaN  ...   NaN    NaN   \n",
      "3         Seram - Indonesia      NaN   NaN    NaN  ...   NaN    NaN   \n",
      "4                 Banda Sea      NaN   NaN    NaN  ...   NaN    NaN   \n",
      "\n",
      "                 Datetime  Year  Month  Day  Hour  DayOfWeek  Minutes  \\\n",
      "0 2008-11-01 21:02:43.058  2008     11    1    21          5        2   \n",
      "1 2008-11-01 20:58:50.248  2008     11    1    20          5       58   \n",
      "2 2008-11-01 17:43:12.941  2008     11    1    17          5       43   \n",
      "3 2008-11-01 16:24:14.755  2008     11    1    16          5       24   \n",
      "4 2008-11-01 16:20:37.327  2008     11    1    16          5       20   \n",
      "\n",
      "    TimeDiff  \n",
      "0      0.000  \n",
      "1   -232.810  \n",
      "2 -11737.307  \n",
      "3  -4738.186  \n",
      "4   -217.428  \n",
      "\n",
      "[5 rows x 21 columns]\n"
     ]
    }
   ],
   "execution_count": 4
  },
  {
   "metadata": {
    "ExecuteTime": {
     "end_time": "2025-01-12T05:31:31.558103Z",
     "start_time": "2025-01-12T05:31:31.532832Z"
    }
   },
   "cell_type": "code",
   "source": [
    "# Drop unnecessary columns\n",
    "bmkg_data = bmkg_data.drop(columns=['tgl', 'ot', 'remark', 'strike1', 'dip1', 'rake1', 'strike2', 'dip2', 'rake2'])\n",
    "\n",
    "# Show the data\n",
    "print(bmkg_data.head())"
   ],
   "id": "2243d3b84acf78fd",
   "outputs": [
    {
     "name": "stdout",
     "output_type": "stream",
     "text": [
      "    lat     lon  depth  mag                Datetime  Year  Month  Day  Hour  \\\n",
      "0 -9.18  119.06     10  4.9 2008-11-01 21:02:43.058  2008     11    1    21   \n",
      "1 -6.55  129.64     10  4.6 2008-11-01 20:58:50.248  2008     11    1    20   \n",
      "2 -7.01  106.63    121  3.7 2008-11-01 17:43:12.941  2008     11    1    17   \n",
      "3 -3.30  127.85     10  3.2 2008-11-01 16:24:14.755  2008     11    1    16   \n",
      "4 -6.41  129.54     70  4.3 2008-11-01 16:20:37.327  2008     11    1    16   \n",
      "\n",
      "   DayOfWeek  Minutes   TimeDiff  \n",
      "0          5        2      0.000  \n",
      "1          5       58   -232.810  \n",
      "2          5       43 -11737.307  \n",
      "3          5       24  -4738.186  \n",
      "4          5       20   -217.428  \n"
     ]
    }
   ],
   "execution_count": 5
  },
  {
   "metadata": {
    "ExecuteTime": {
     "end_time": "2025-01-12T05:31:36.923894Z",
     "start_time": "2025-01-12T05:31:36.912378Z"
    }
   },
   "cell_type": "code",
   "source": [
    "# Standardize column names\n",
    "bmkg_data.rename(columns={'mag': 'Magnitude', 'depth': 'Depth', 'lat': 'Latitude', 'lon': 'Longitude'}, inplace=True)\n",
    "\n",
    "# Show the data\n",
    "print(bmkg_data.head())"
   ],
   "id": "4e188ef075e5b4d9",
   "outputs": [
    {
     "name": "stdout",
     "output_type": "stream",
     "text": [
      "   Latitude  Longitude  Depth  Magnitude                Datetime  Year  Month  \\\n",
      "0     -9.18     119.06     10        4.9 2008-11-01 21:02:43.058  2008     11   \n",
      "1     -6.55     129.64     10        4.6 2008-11-01 20:58:50.248  2008     11   \n",
      "2     -7.01     106.63    121        3.7 2008-11-01 17:43:12.941  2008     11   \n",
      "3     -3.30     127.85     10        3.2 2008-11-01 16:24:14.755  2008     11   \n",
      "4     -6.41     129.54     70        4.3 2008-11-01 16:20:37.327  2008     11   \n",
      "\n",
      "   Day  Hour  DayOfWeek  Minutes   TimeDiff  \n",
      "0    1    21          5        2      0.000  \n",
      "1    1    20          5       58   -232.810  \n",
      "2    1    17          5       43 -11737.307  \n",
      "3    1    16          5       24  -4738.186  \n",
      "4    1    16          5       20   -217.428  \n"
     ]
    }
   ],
   "execution_count": 6
  },
  {
   "metadata": {
    "ExecuteTime": {
     "end_time": "2025-01-12T05:31:38.657507Z",
     "start_time": "2025-01-12T05:31:38.631280Z"
    }
   },
   "cell_type": "code",
   "source": [
    "# Drop the `Datetime` column (optional, as time features are extracted)\n",
    "bmkg_data = bmkg_data.drop(columns=['Datetime'])\n",
    "\n",
    "# Show the data\n",
    "print(bmkg_data.head())"
   ],
   "id": "4fb45d047d34fa78",
   "outputs": [
    {
     "name": "stdout",
     "output_type": "stream",
     "text": [
      "   Latitude  Longitude  Depth  Magnitude  Year  Month  Day  Hour  DayOfWeek  \\\n",
      "0     -9.18     119.06     10        4.9  2008     11    1    21          5   \n",
      "1     -6.55     129.64     10        4.6  2008     11    1    20          5   \n",
      "2     -7.01     106.63    121        3.7  2008     11    1    17          5   \n",
      "3     -3.30     127.85     10        3.2  2008     11    1    16          5   \n",
      "4     -6.41     129.54     70        4.3  2008     11    1    16          5   \n",
      "\n",
      "   Minutes   TimeDiff  \n",
      "0        2      0.000  \n",
      "1       58   -232.810  \n",
      "2       43 -11737.307  \n",
      "3       24  -4738.186  \n",
      "4       20   -217.428  \n"
     ]
    }
   ],
   "execution_count": 7
  },
  {
   "metadata": {
    "ExecuteTime": {
     "end_time": "2025-01-12T05:31:41.761532Z",
     "start_time": "2025-01-12T05:31:41.749388Z"
    }
   },
   "cell_type": "code",
   "source": [
    "# Drop rows with missing values\n",
    "bmkg_data = bmkg_data.dropna()\n",
    "\n",
    "# Show the data\n",
    "print(bmkg_data.head())"
   ],
   "id": "527b9824090e6477",
   "outputs": [
    {
     "name": "stdout",
     "output_type": "stream",
     "text": [
      "   Latitude  Longitude  Depth  Magnitude  Year  Month  Day  Hour  DayOfWeek  \\\n",
      "0     -9.18     119.06     10        4.9  2008     11    1    21          5   \n",
      "1     -6.55     129.64     10        4.6  2008     11    1    20          5   \n",
      "2     -7.01     106.63    121        3.7  2008     11    1    17          5   \n",
      "3     -3.30     127.85     10        3.2  2008     11    1    16          5   \n",
      "4     -6.41     129.54     70        4.3  2008     11    1    16          5   \n",
      "\n",
      "   Minutes   TimeDiff  \n",
      "0        2      0.000  \n",
      "1       58   -232.810  \n",
      "2       43 -11737.307  \n",
      "3       24  -4738.186  \n",
      "4       20   -217.428  \n"
     ]
    }
   ],
   "execution_count": 8
  },
  {
   "metadata": {
    "ExecuteTime": {
     "end_time": "2025-01-12T05:31:57.813030Z",
     "start_time": "2025-01-12T05:31:57.802346Z"
    }
   },
   "cell_type": "code",
   "source": [
    "# column length\n",
    "print(len(bmkg_data.columns))\n",
    "# row length\n",
    "print(len(bmkg_data))"
   ],
   "id": "36c7b24a19ee9e64",
   "outputs": [
    {
     "name": "stdout",
     "output_type": "stream",
     "text": [
      "11\n",
      "92887\n"
     ]
    }
   ],
   "execution_count": 9
  },
  {
   "metadata": {
    "ExecuteTime": {
     "end_time": "2025-01-12T05:32:00.853455Z",
     "start_time": "2025-01-12T05:32:00.828162Z"
    }
   },
   "cell_type": "code",
   "source": [
    "# Select features (X) and target (y)\n",
    "X_bmkg = bmkg_data.drop(columns=['Magnitude'])\n",
    "y_bmkg = bmkg_data['Magnitude']\n",
    "\n",
    "# Show the data\n",
    "print(X_bmkg.head())\n",
    "print(y_bmkg.head())"
   ],
   "id": "8a040d34e7e2c2e1",
   "outputs": [
    {
     "name": "stdout",
     "output_type": "stream",
     "text": [
      "   Latitude  Longitude  Depth  Year  Month  Day  Hour  DayOfWeek  Minutes  \\\n",
      "0     -9.18     119.06     10  2008     11    1    21          5        2   \n",
      "1     -6.55     129.64     10  2008     11    1    20          5       58   \n",
      "2     -7.01     106.63    121  2008     11    1    17          5       43   \n",
      "3     -3.30     127.85     10  2008     11    1    16          5       24   \n",
      "4     -6.41     129.54     70  2008     11    1    16          5       20   \n",
      "\n",
      "    TimeDiff  \n",
      "0      0.000  \n",
      "1   -232.810  \n",
      "2 -11737.307  \n",
      "3  -4738.186  \n",
      "4   -217.428  \n",
      "0    4.9\n",
      "1    4.6\n",
      "2    3.7\n",
      "3    3.2\n",
      "4    4.3\n",
      "Name: Magnitude, dtype: float64\n"
     ]
    }
   ],
   "execution_count": 10
  },
  {
   "metadata": {
    "ExecuteTime": {
     "end_time": "2025-01-12T05:32:03.692533Z",
     "start_time": "2025-01-12T05:32:03.680980Z"
    }
   },
   "cell_type": "code",
   "source": [
    "# Ensure y_bmkg_transformed is in a numeric format\n",
    "y_bmkg = y_bmkg.astype(float)\n",
    "\n",
    "# Verify the new data type\n",
    "print(f\"Type of y_bmkg: {y_bmkg.dtype}\")"
   ],
   "id": "c01f0f010cf7af80",
   "outputs": [
    {
     "name": "stdout",
     "output_type": "stream",
     "text": [
      "Type of y_bmkg: float64\n"
     ]
    }
   ],
   "execution_count": 11
  },
  {
   "metadata": {
    "ExecuteTime": {
     "end_time": "2025-01-12T05:32:30.215306Z",
     "start_time": "2025-01-12T05:32:30.203128Z"
    }
   },
   "cell_type": "code",
   "source": [
    "print(\"Original shape of x:\", X_bmkg.shape)\n",
    "print(\"Original shape of y:\", y_bmkg.shape)"
   ],
   "id": "2ef49f3db9b249d2",
   "outputs": [
    {
     "name": "stdout",
     "output_type": "stream",
     "text": [
      "Original shape of x: (92887, 10)\n",
      "Original shape of y: (92887,)\n"
     ]
    }
   ],
   "execution_count": 12
  },
  {
   "metadata": {
    "ExecuteTime": {
     "end_time": "2025-01-12T05:33:46.189181Z",
     "start_time": "2025-01-12T05:33:46.177118Z"
    }
   },
   "cell_type": "code",
   "source": [
    "# Step 7: Reshape for CNN-GRU (3D)\n",
    "import numpy as np\n",
    "import pandas as pd\n",
    "\n",
    "def create_sliding_window(data, labels, window_size):\n",
    "    \"\"\"\n",
    "    Create sliding windows for data and corresponding labels.\n",
    "\n",
    "    Args:\n",
    "        data (numpy.ndarray or pandas.DataFrame): Input features with shape (n_samples, n_features).\n",
    "        labels (pandas.Series): Corresponding labels as a pandas.Series.\n",
    "        window_size (int): The number of time steps for each sliding window.\n",
    "\n",
    "    Returns:\n",
    "        tuple: Transformed data and labels in the shape (n_windows, window_size, n_features) and (n_windows,).\n",
    "    \"\"\"\n",
    "    # Reset indices for labels to ensure numeric indexing\n",
    "    labels = labels.reset_index(drop=True)\n",
    "\n",
    "    x_seq = []\n",
    "    y_seq = []\n",
    "\n",
    "    # Iterate to create sliding windows\n",
    "    for i in range(len(data) - window_size + 1):\n",
    "        x_seq.append(data[i:i + window_size])  # Append sliding window for features\n",
    "        y_seq.append(labels[i + window_size - 1])  # Append corresponding label (last step in window)\n",
    "\n",
    "    return np.array(x_seq), np.array(y_seq)"
   ],
   "id": "a5880cd60ce0d0e3",
   "outputs": [],
   "execution_count": 13
  },
  {
   "metadata": {
    "ExecuteTime": {
     "end_time": "2025-01-12T05:35:36.216289Z",
     "start_time": "2025-01-12T05:35:32.380977Z"
    }
   },
   "cell_type": "code",
   "source": [
    "# Example usage for debugging\n",
    "# Assuming X_bmkg is a numpy array or pandas DataFrame and y_bmkg a pandas Series\n",
    "window_size = 10  # Number of time steps\n",
    "X_bmkg, y_bmkg= create_sliding_window(X_bmkg, y_bmkg, window_size)\n",
    "\n",
    "print(f\"New X_bmkg shape: {X_bmkg.shape}\")  # Outputs new shape\n",
    "print(f\"New y_bmkg shape: {y_bmkg.shape}\")  # Outputs new shape"
   ],
   "id": "d78e1f37faaf3e3f",
   "outputs": [
    {
     "name": "stdout",
     "output_type": "stream",
     "text": [
      "New X_bmkg shape: (92878, 10, 10)\n",
      "New y_bmkg shape: (92878,)\n"
     ]
    }
   ],
   "execution_count": 14
  },
  {
   "metadata": {
    "ExecuteTime": {
     "end_time": "2025-01-12T05:36:26.179092Z",
     "start_time": "2025-01-12T05:36:26.104373Z"
    }
   },
   "cell_type": "code",
   "source": [
    "# Save preprocessed data\n",
    "np.save(\"X_bmkg_cnn_gru.npy\", X_bmkg)\n",
    "np.save(\"y_bmkg_cnn_gru.npy\", y_bmkg)\n",
    "# Verify the new shape\n",
    "print(\"Reshaped for CNN-GRU:\")\n",
    "print(f\"X_bmkg shape: {X_bmkg.shape}\")\n",
    "print(f\"y_bmkg shape: {y_bmkg.shape}\")"
   ],
   "id": "e7e0561f7c35207f",
   "outputs": [
    {
     "name": "stdout",
     "output_type": "stream",
     "text": [
      "Reshaped for CNN-GRU:\n",
      "X_bmkg shape: (92878, 10, 10)\n",
      "y_bmkg shape: (92878,)\n"
     ]
    }
   ],
   "execution_count": 15
  },
  {
   "metadata": {
    "ExecuteTime": {
     "end_time": "2024-12-22T08:15:15.957003Z",
     "start_time": "2024-12-22T08:15:15.929616Z"
    }
   },
   "cell_type": "code",
   "source": "",
   "id": "ea53ddd417d6434f",
   "outputs": [],
   "execution_count": 18
  },
  {
   "metadata": {
    "ExecuteTime": {
     "end_time": "2025-01-12T05:37:15.488446Z",
     "start_time": "2025-01-12T05:37:15.432456Z"
    }
   },
   "cell_type": "code",
   "source": [
    "import numpy as np\n",
    "\n",
    "# Check the saved data shape\n",
    "X_bmkg = np.load('X_bmkg_cnn_gru.npy')  # Loading the first array\n",
    "\n",
    "# Enable allow_pickle=True to properly load object arrays\n",
    "y_bmkg = np.load('y_bmkg_cnn_gru.npy', allow_pickle=True)\n",
    "\n",
    "print(\"Loaded X_bmkg shape:\", X_bmkg.shape)\n",
    "print(\"Loaded y_bmkg shape:\", y_bmkg.shape)\n"
   ],
   "id": "7b3f7a23540a2f40",
   "outputs": [
    {
     "name": "stdout",
     "output_type": "stream",
     "text": [
      "Loaded X_bmkg shape: (92878, 10, 10)\n",
      "Loaded y_bmkg shape: (92878,)\n"
     ]
    }
   ],
   "execution_count": 16
  },
  {
   "metadata": {},
   "cell_type": "code",
   "outputs": [],
   "execution_count": null,
   "source": "",
   "id": "fe0e83fcec87a2db"
  }
 ],
 "metadata": {
  "kernelspec": {
   "display_name": "Python 3",
   "language": "python",
   "name": "python3"
  },
  "language_info": {
   "codemirror_mode": {
    "name": "ipython",
    "version": 2
   },
   "file_extension": ".py",
   "mimetype": "text/x-python",
   "name": "python",
   "nbconvert_exporter": "python",
   "pygments_lexer": "ipython2",
   "version": "2.7.6"
  }
 },
 "nbformat": 4,
 "nbformat_minor": 5
}
