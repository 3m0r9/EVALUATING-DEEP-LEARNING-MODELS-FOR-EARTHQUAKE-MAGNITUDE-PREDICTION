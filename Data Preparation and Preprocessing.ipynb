{
 "cells": [
  {
   "metadata": {},
   "cell_type": "markdown",
   "source": "# Load and Inspect DataLoad and Inspect Data ",
   "id": "a7e24a348486d981"
  },
  {
   "cell_type": "code",
   "id": "initial_id",
   "metadata": {
    "collapsed": true,
    "ExecuteTime": {
     "end_time": "2024-11-19T13:05:52.578321Z",
     "start_time": "2024-11-19T13:05:52.330264Z"
    }
   },
   "source": [
    "import pandas as pd\n",
    "\n",
    "# Load datasets\n",
    "bmkg_df = pd.read_csv('BMKG_dataset.csv')  # Replace with actual file path\n",
    "jma_df = pd.read_csv('JMA_dataset.csv')    # Replace with actual file path\n",
    "\n",
    "# Display the first few rows and check column names for both datasets\n",
    "print(\"BMKG Dataset:\")\n",
    "print(bmkg_df.head())\n",
    "print(bmkg_df.info())\n",
    "\n",
    "print(\"\\nJMA Dataset:\")\n",
    "print(jma_df.head())\n",
    "print(jma_df.info())"
   ],
   "outputs": [
    {
     "name": "stdout",
     "output_type": "stream",
     "text": [
      "BMKG Dataset:\n",
      "          tgl            ot   lat     lon  depth  mag  \\\n",
      "0  2008/11/01  21:02:43.058 -9.18  119.06     10  4.9   \n",
      "1  2008/11/01  20:58:50.248 -6.55  129.64     10  4.6   \n",
      "2  2008/11/01  17:43:12.941 -7.01  106.63    121  3.7   \n",
      "3  2008/11/01  16:24:14.755 -3.30  127.85     10  3.2   \n",
      "4  2008/11/01  16:20:37.327 -6.41  129.54     70  4.3   \n",
      "\n",
      "                     remark  strike1  dip1  rake1  strike2  dip2  rake2  \n",
      "0  Sumba Region - Indonesia      NaN   NaN    NaN      NaN   NaN    NaN  \n",
      "1                 Banda Sea      NaN   NaN    NaN      NaN   NaN    NaN  \n",
      "2          Java - Indonesia      NaN   NaN    NaN      NaN   NaN    NaN  \n",
      "3         Seram - Indonesia      NaN   NaN    NaN      NaN   NaN    NaN  \n",
      "4                 Banda Sea      NaN   NaN    NaN      NaN   NaN    NaN  \n",
      "<class 'pandas.core.frame.DataFrame'>\n",
      "RangeIndex: 92887 entries, 0 to 92886\n",
      "Data columns (total 13 columns):\n",
      " #   Column   Non-Null Count  Dtype  \n",
      "---  ------   --------------  -----  \n",
      " 0   tgl      92887 non-null  object \n",
      " 1   ot       92887 non-null  object \n",
      " 2   lat      92887 non-null  float64\n",
      " 3   lon      92887 non-null  float64\n",
      " 4   depth    92887 non-null  int64  \n",
      " 5   mag      92887 non-null  float64\n",
      " 6   remark   92887 non-null  object \n",
      " 7   strike1  2735 non-null   float64\n",
      " 8   dip1     2735 non-null   float64\n",
      " 9   rake1    2735 non-null   float64\n",
      " 10  strike2  2735 non-null   float64\n",
      " 11  dip2     2735 non-null   float64\n",
      " 12  rake2    2735 non-null   float64\n",
      "dtypes: float64(9), int64(1), object(3)\n",
      "memory usage: 9.2+ MB\n",
      "None\n",
      "\n",
      "JMA Dataset:\n",
      "         Date      Time    震央地名        Lat        Long  Depth    M 最大震度  \\\n",
      "0  12/31/1985   2:26:48   島根県東部  35°20.3'N  133°12.7'E     12  3.6  震度１   \n",
      "1  12/30/1985  19:11:46    茨城県沖  36°24.4'N  140°41.8'E     55  3.3  震度１   \n",
      "2  12/30/1985  15:56:17   福島県会津  37°12.6'N  139°56.2'E      6  3.5  震度１   \n",
      "3  12/30/1985  15:20:15  奄美大島近海  27°58.1'N  129°39.9'E      0  4.2  震度１   \n",
      "4  12/29/1985   9:22:20     釧路沖  42°53.3'N  145°26.7'E     35  3.7  震度２   \n",
      "\n",
      "  Source.Name  \n",
      "0         NaN  \n",
      "1         NaN  \n",
      "2         NaN  \n",
      "3         NaN  \n",
      "4         NaN  \n",
      "<class 'pandas.core.frame.DataFrame'>\n",
      "RangeIndex: 93203 entries, 0 to 93202\n",
      "Data columns (total 9 columns):\n",
      " #   Column       Non-Null Count  Dtype \n",
      "---  ------       --------------  ----- \n",
      " 0   Date         93203 non-null  object\n",
      " 1   Time         93203 non-null  object\n",
      " 2   震央地名         93203 non-null  object\n",
      " 3   Lat          93203 non-null  object\n",
      " 4   Long         93203 non-null  object\n",
      " 5   Depth        93203 non-null  int64 \n",
      " 6   M            93203 non-null  object\n",
      " 7   最大震度         93203 non-null  object\n",
      " 8   Source.Name  89371 non-null  object\n",
      "dtypes: int64(1), object(8)\n",
      "memory usage: 6.4+ MB\n",
      "None\n"
     ]
    }
   ],
   "execution_count": 1
  },
  {
   "metadata": {},
   "cell_type": "markdown",
   "source": "# Data Cleaning",
   "id": "12dc9a204e472855"
  },
  {
   "metadata": {
    "ExecuteTime": {
     "end_time": "2024-11-19T12:59:14.563006Z",
     "start_time": "2024-11-19T12:59:14.487469Z"
    }
   },
   "cell_type": "code",
   "source": [
    "# Check for missing values\n",
    "print(\"BMKG Missing Values:\\n\", bmkg_df.isnull().sum())\n",
    "print(\"\\nJMA Missing Values:\\n\", jma_df.isnull().sum())\n",
    "\n",
    "# Drop or fill missing values if needed\n",
    "# Example: fill missing values in JMA dataset with median values for numerical columns\n",
    "jma_df.fillna(jma_df.median(), inplace=True)\n",
    "bmkg_df.fillna(bmkg_df.median(), inplace=True)  "
   ],
   "id": "a90a34b9640015d4",
   "outputs": [
    {
     "name": "stdout",
     "output_type": "stream",
     "text": [
      "BMKG Missing Values:\n",
      " tgl            0\n",
      "ot             0\n",
      "lat            0\n",
      "lon            0\n",
      "depth          0\n",
      "mag            0\n",
      "remark         0\n",
      "strike1    90152\n",
      "dip1       90152\n",
      "rake1      90152\n",
      "strike2    90152\n",
      "dip2       90152\n",
      "rake2      90152\n",
      "dtype: int64\n",
      "\n",
      "JMA Missing Values:\n",
      " Date              0\n",
      "Time              0\n",
      "震央地名              0\n",
      "Lat               0\n",
      "Long              0\n",
      "Depth             0\n",
      "M                 0\n",
      "最大震度              0\n",
      "Source.Name    3832\n",
      "dtype: int64\n"
     ]
    }
   ],
   "execution_count": 19
  },
  {
   "metadata": {},
   "cell_type": "markdown",
   "source": "# Date-Time Formatting",
   "id": "726245886dae8742"
  },
  {
   "metadata": {
    "ExecuteTime": {
     "end_time": "2024-11-19T12:59:14.887719Z",
     "start_time": "2024-11-19T12:59:14.836864Z"
    }
   },
   "cell_type": "code",
   "source": [
    "#change the column names\n",
    "# Merge Date and Time columns into a single Datetime column\n",
    "bmkg_df['Datetime'] = pd.to_datetime(bmkg_df['tgl'] + ' ' + bmkg_df['ot'])\n",
    "\n",
    "# Drop the original Date and Time columns\n",
    "bmkg_df.drop(columns=['tgl', 'ot'], inplace=True)\n",
    "bmkg_df.drop(columns=['strike1', 'strike2', 'dip1', 'dip2' ,'rake1', 'rake2'], inplace=True)\n",
    "# Display the first few rows of the updated dataset\n",
    "print(\"BMKG Dataset:\")\n",
    "print(bmkg_df.head())\n",
    "print(bmkg_df.info())\n"
   ],
   "id": "815a6a4fd094595e",
   "outputs": [
    {
     "name": "stdout",
     "output_type": "stream",
     "text": [
      "BMKG Dataset:\n",
      "    lat     lon  depth  mag                    remark                Datetime\n",
      "0 -9.18  119.06     10  4.9  Sumba Region - Indonesia 2008-11-01 21:02:43.058\n",
      "1 -6.55  129.64     10  4.6                 Banda Sea 2008-11-01 20:58:50.248\n",
      "2 -7.01  106.63    121  3.7          Java - Indonesia 2008-11-01 17:43:12.941\n",
      "3 -3.30  127.85     10  3.2         Seram - Indonesia 2008-11-01 16:24:14.755\n",
      "4 -6.41  129.54     70  4.3                 Banda Sea 2008-11-01 16:20:37.327\n",
      "<class 'pandas.core.frame.DataFrame'>\n",
      "RangeIndex: 92887 entries, 0 to 92886\n",
      "Data columns (total 6 columns):\n",
      " #   Column    Non-Null Count  Dtype         \n",
      "---  ------    --------------  -----         \n",
      " 0   lat       92887 non-null  float64       \n",
      " 1   lon       92887 non-null  float64       \n",
      " 2   depth     92887 non-null  int64         \n",
      " 3   mag       92887 non-null  float64       \n",
      " 4   remark    92887 non-null  object        \n",
      " 5   Datetime  92887 non-null  datetime64[ns]\n",
      "dtypes: datetime64[ns](1), float64(3), int64(1), object(1)\n",
      "memory usage: 4.3+ MB\n",
      "None\n"
     ]
    }
   ],
   "execution_count": 20
  },
  {
   "metadata": {
    "ExecuteTime": {
     "end_time": "2024-11-19T12:59:15.461872Z",
     "start_time": "2024-11-19T12:59:15.455697Z"
    }
   },
   "cell_type": "code",
   "source": [
    "#drop the unnecessary columns\n",
    "bmkg_df.drop(columns=['remark'], inplace=True) "
   ],
   "id": "edf09621982d2a1",
   "outputs": [],
   "execution_count": 21
  },
  {
   "metadata": {},
   "cell_type": "markdown",
   "source": "# Standardize Column Names",
   "id": "380015e54359a93f"
  },
  {
   "metadata": {
    "ExecuteTime": {
     "end_time": "2024-11-19T12:59:16.236728Z",
     "start_time": "2024-11-19T12:59:16.228708Z"
    }
   },
   "cell_type": "code",
   "source": [
    "#change the column names\n",
    "bmkg_df.rename(columns={'mag':'Magnitude', 'depth':'Depth', 'lat':'Latitude', 'lon':'Longitude'}, inplace=True)\n",
    "\n",
    "# Display the first few rows of the updated dataset\n",
    "print(\"BMKG Dataset:\")\n",
    "print(bmkg_df.head())"
   ],
   "id": "9f55c656287b68ff",
   "outputs": [
    {
     "name": "stdout",
     "output_type": "stream",
     "text": [
      "BMKG Dataset:\n",
      "   Latitude  Longitude  Depth  Magnitude                Datetime\n",
      "0     -9.18     119.06     10        4.9 2008-11-01 21:02:43.058\n",
      "1     -6.55     129.64     10        4.6 2008-11-01 20:58:50.248\n",
      "2     -7.01     106.63    121        3.7 2008-11-01 17:43:12.941\n",
      "3     -3.30     127.85     10        3.2 2008-11-01 16:24:14.755\n",
      "4     -6.41     129.54     70        4.3 2008-11-01 16:20:37.327\n"
     ]
    }
   ],
   "execution_count": 22
  },
  {
   "metadata": {
    "ExecuteTime": {
     "end_time": "2024-11-19T12:59:21.380946Z",
     "start_time": "2024-11-19T12:59:16.674306Z"
    }
   },
   "cell_type": "code",
   "source": [
    "#change the column names\n",
    "# Merge Date and Time columns into a single Datetime column\n",
    "jma_df['Datetime'] = pd.to_datetime(jma_df['Date'] + ' ' + jma_df['Time'])\n",
    "\n",
    "# Drop the original Date and Time columns\n",
    "jma_df.drop(columns=['Date', 'Time', 'Source.Name', '最大震度','震央地名'], inplace=True)\n",
    "\n",
    "# Display the first few rows of the updated dataset\n",
    "print(\"\\nJMA Dataset:\")\n",
    "print(jma_df.head())"
   ],
   "id": "49cdf07450361a47",
   "outputs": [
    {
     "name": "stdout",
     "output_type": "stream",
     "text": [
      "\n",
      "JMA Dataset:\n",
      "         Lat        Long  Depth    M            Datetime\n",
      "0  35°20.3'N  133°12.7'E     12  3.6 1985-12-31 02:26:48\n",
      "1  36°24.4'N  140°41.8'E     55  3.3 1985-12-30 19:11:46\n",
      "2  37°12.6'N  139°56.2'E      6  3.5 1985-12-30 15:56:17\n",
      "3  27°58.1'N  129°39.9'E      0  4.2 1985-12-30 15:20:15\n",
      "4  42°53.3'N  145°26.7'E     35  3.7 1985-12-29 09:22:20\n"
     ]
    }
   ],
   "execution_count": 23
  },
  {
   "metadata": {
    "ExecuteTime": {
     "end_time": "2024-11-19T12:59:21.488899Z",
     "start_time": "2024-11-19T12:59:21.468340Z"
    }
   },
   "cell_type": "code",
   "source": [
    "#change the column names\n",
    "jma_df.rename(columns={'Lat':'Latitude', 'Long':'Longitude', 'Depth':'Depth', 'M':'Magnitude'}, inplace=True)\n",
    "\n",
    "# Display the first few rows of the updated dataset\n",
    "print(\"\\nJMA Dataset:\")\n",
    "print(jma_df.head())"
   ],
   "id": "ccde8fde14467b87",
   "outputs": [
    {
     "name": "stdout",
     "output_type": "stream",
     "text": [
      "\n",
      "JMA Dataset:\n",
      "    Latitude   Longitude  Depth Magnitude            Datetime\n",
      "0  35°20.3'N  133°12.7'E     12       3.6 1985-12-31 02:26:48\n",
      "1  36°24.4'N  140°41.8'E     55       3.3 1985-12-30 19:11:46\n",
      "2  37°12.6'N  139°56.2'E      6       3.5 1985-12-30 15:56:17\n",
      "3  27°58.1'N  129°39.9'E      0       4.2 1985-12-30 15:20:15\n",
      "4  42°53.3'N  145°26.7'E     35       3.7 1985-12-29 09:22:20\n"
     ]
    }
   ],
   "execution_count": 24
  },
  {
   "metadata": {},
   "cell_type": "markdown",
   "source": "# Convert Coordinates to Decimal Degrees ",
   "id": "dc6e6b1601bb17a6"
  },
  {
   "metadata": {
    "ExecuteTime": {
     "end_time": "2024-11-19T12:59:23.613589Z",
     "start_time": "2024-11-19T12:59:23.242297Z"
    }
   },
   "cell_type": "code",
   "source": [
    "import numpy as np\n",
    "import re\n",
    "import pandas as pd\n",
    "\n",
    "# Updated function to handle both DMS and decimal formats\n",
    "def dms_to_decimal(coord):\n",
    "    # Check if the value is NaN\n",
    "    if pd.isna(coord):\n",
    "        return np.nan\n",
    "    \n",
    "    # If the coordinate is already in decimal format, return it as a float\n",
    "    try:\n",
    "        # Try converting directly to float; if it works, we have a decimal value\n",
    "        return float(coord)\n",
    "    except ValueError:\n",
    "        # If direct conversion fails, it's likely in DMS format\n",
    "        pass\n",
    "    \n",
    "    # For DMS format, extract degrees, minutes, and direction\n",
    "    match = re.match(r\"(\\d+)°(\\d+\\.\\d+)'([NSEW])\", str(coord))\n",
    "    if match:\n",
    "        degrees = float(match.group(1))\n",
    "        minutes = float(match.group(2))\n",
    "        direction = match.group(3)\n",
    "        \n",
    "        # Convert DMS to decimal degrees\n",
    "        decimal = degrees + (minutes / 60)\n",
    "        \n",
    "        # Make coordinates negative for South and West\n",
    "        if direction in ['S', 'W']:\n",
    "            decimal = -decimal\n",
    "            \n",
    "        return decimal\n",
    "    else:\n",
    "        raise ValueError(f\"Invalid coordinate format: {coord}\")\n",
    "\n",
    "# Replace '不明' with NaN in the dataset\n",
    "jma_df.replace('不明', np.nan, inplace=True)\n",
    "\n",
    "# Apply the function to the Latitude and Longitude columns\n",
    "jma_df['Latitude'] = jma_df['Latitude'].apply(dms_to_decimal)\n",
    "jma_df['Longitude'] = jma_df['Longitude'].apply(dms_to_decimal)\n",
    "\n",
    "# Display the updated dataset\n",
    "print(\"\\nUpdated JMA Dataset with Decimal Coordinates:\")\n",
    "print(jma_df.head())\n"
   ],
   "id": "ab72c3b49e05391e",
   "outputs": [
    {
     "name": "stdout",
     "output_type": "stream",
     "text": [
      "\n",
      "Updated JMA Dataset with Decimal Coordinates:\n",
      "    Latitude   Longitude  Depth Magnitude            Datetime\n",
      "0  35.338333  133.211667     12       3.6 1985-12-31 02:26:48\n",
      "1  36.406667  140.696667     55       3.3 1985-12-30 19:11:46\n",
      "2  37.210000  139.936667      6       3.5 1985-12-30 15:56:17\n",
      "3  27.968333  129.665000      0       4.2 1985-12-30 15:20:15\n",
      "4  42.888333  145.445000     35       3.7 1985-12-29 09:22:20\n"
     ]
    }
   ],
   "execution_count": 25
  },
  {
   "metadata": {},
   "cell_type": "markdown",
   "source": "# Normalization and Scaling",
   "id": "e0628beb194e190f"
  },
  {
   "metadata": {
    "ExecuteTime": {
     "end_time": "2024-11-19T12:59:28.195111Z",
     "start_time": "2024-11-19T12:59:28.105316Z"
    }
   },
   "cell_type": "code",
   "source": [
    "import numpy as np\n",
    "\n",
    "# Replace non-numeric values (like '不明') with NaN in the dataset\n",
    "jma_df.replace('不明', np.nan, inplace=True)\n",
    "\n",
    "# Check if there are still non-numeric values in Latitude and Longitude columns\n",
    "# This will help us identify and drop or handle rows with invalid data\n",
    "try:\n",
    "    # Convert the Latitude and Longitude columns to decimal format\n",
    "    jma_df['Latitude'] = jma_df['Latitude'].apply(dms_to_decimal)\n",
    "    jma_df['Longitude'] = jma_df['Longitude'].apply(dms_to_decimal)\n",
    "except ValueError as e:\n",
    "    print(f\"Error converting coordinates: {e}\")\n",
    "\n",
    "# Display any rows with NaN values after replacing '不明'\n",
    "print(\"Rows with NaN values after replacement:\")\n",
    "print(jma_df[jma_df.isna().any(axis=1)])\n",
    "\n",
    "# Option 1: Drop rows with NaN values (if they are few and not critical)\n",
    "jma_df.dropna(inplace=True)\n",
    "\n",
    "# Option 2: Alternatively, you could impute or handle NaN values in a way that makes sense for your model\n",
    "\n",
    "# Display the cleaned dataset\n",
    "print(\"\\nCleaned JMA Dataset:\")\n",
    "print(jma_df.head())"
   ],
   "id": "5dc245285067899e",
   "outputs": [
    {
     "name": "stdout",
     "output_type": "stream",
     "text": [
      "Rows with NaN values after replacement:\n",
      "        Latitude   Longitude  Depth Magnitude            Datetime\n",
      "6      27.083333  142.200000      0       NaN 1985-12-27 23:36:00\n",
      "9      27.083333  142.200000      0       NaN 1985-12-25 00:22:00\n",
      "22     24.383333  123.750000      0       NaN 1985-12-19 20:27:00\n",
      "26     27.083333  142.200000      0       NaN 1985-12-16 14:37:00\n",
      "36     34.233333  135.166667      0       NaN 1985-12-09 19:20:00\n",
      "...          ...         ...    ...       ...                 ...\n",
      "92324  27.003333  142.423333     67       NaN 2022-04-11 23:01:26\n",
      "92436  27.051667  142.331667     74       NaN 2022-05-23 20:25:37\n",
      "92551  24.561667  141.181667    148       NaN 2022-05-01 14:43:06\n",
      "92813  24.806667  142.643333     67       NaN 2022-07-14 02:49:46\n",
      "92848  26.536667  142.521667     47       NaN 2022-07-06 10:40:15\n",
      "\n",
      "[7869 rows x 5 columns]\n",
      "\n",
      "Cleaned JMA Dataset:\n",
      "    Latitude   Longitude  Depth Magnitude            Datetime\n",
      "0  35.338333  133.211667     12       3.6 1985-12-31 02:26:48\n",
      "1  36.406667  140.696667     55       3.3 1985-12-30 19:11:46\n",
      "2  37.210000  139.936667      6       3.5 1985-12-30 15:56:17\n",
      "3  27.968333  129.665000      0       4.2 1985-12-30 15:20:15\n",
      "4  42.888333  145.445000     35       3.7 1985-12-29 09:22:20\n"
     ]
    }
   ],
   "execution_count": 26
  },
  {
   "metadata": {},
   "cell_type": "markdown",
   "source": "# handling the missing values",
   "id": "9050a40e4b327d32"
  },
  {
   "metadata": {
    "ExecuteTime": {
     "end_time": "2024-11-19T12:59:29.476805Z",
     "start_time": "2024-11-19T12:59:29.452622Z"
    }
   },
   "cell_type": "code",
   "source": [
    "# Interpolate missing values in the 'Magnitude' column\n",
    "jma_df['Magnitude'] = jma_df['Magnitude'].interpolate(method='linear')\n",
    "\n",
    "# Verify that there are no more NaN values in 'Magnitude'\n",
    "print(\"Rows with NaN values in Magnitude after interpolation:\")\n",
    "print(jma_df[jma_df['Magnitude'].isna()])\n"
   ],
   "id": "5d080610cecf7b19",
   "outputs": [
    {
     "name": "stdout",
     "output_type": "stream",
     "text": [
      "Rows with NaN values in Magnitude after interpolation:\n",
      "Empty DataFrame\n",
      "Columns: [Latitude, Longitude, Depth, Magnitude, Datetime]\n",
      "Index: []\n"
     ]
    }
   ],
   "execution_count": 27
  },
  {
   "metadata": {
    "ExecuteTime": {
     "end_time": "2024-11-19T12:59:30.169538Z",
     "start_time": "2024-11-19T12:59:30.052221Z"
    }
   },
   "cell_type": "code",
   "source": [
    "from sklearn.preprocessing import MinMaxScaler\n",
    "\n",
    "scaler = MinMaxScaler()\n",
    "\n",
    "# Apply scaling to Depth and Magnitude columns in both datasets\n",
    "bmkg_df[['Depth', 'Magnitude']] = scaler.fit_transform(bmkg_df[['Depth', 'Magnitude']])\n",
    "jma_df[['Depth', 'Magnitude']] = scaler.transform(jma_df[['Depth', 'Magnitude']])\n",
    "\n",
    "print(\"\\nScaled BMKG Dataset:\")\n",
    "print(bmkg_df.head())\n",
    "\n",
    "print(\"\\nScaled JMA Dataset:\")\n",
    "print(jma_df.head())\n"
   ],
   "id": "84c59fc5ac8e152b",
   "outputs": [
    {
     "name": "stdout",
     "output_type": "stream",
     "text": [
      "\n",
      "Scaled BMKG Dataset:\n",
      "   Latitude  Longitude     Depth  Magnitude                Datetime\n",
      "0     -9.18     119.06  0.010695   0.565217 2008-11-01 21:02:43.058\n",
      "1     -6.55     129.64  0.010695   0.521739 2008-11-01 20:58:50.248\n",
      "2     -7.01     106.63  0.159091   0.391304 2008-11-01 17:43:12.941\n",
      "3     -3.30     127.85  0.010695   0.318841 2008-11-01 16:24:14.755\n",
      "4     -6.41     129.54  0.090909   0.478261 2008-11-01 16:20:37.327\n",
      "\n",
      "Scaled JMA Dataset:\n",
      "    Latitude   Longitude     Depth  Magnitude            Datetime\n",
      "0  35.338333  133.211667  0.013369   0.376812 1985-12-31 02:26:48\n",
      "1  36.406667  140.696667  0.070856   0.333333 1985-12-30 19:11:46\n",
      "2  37.210000  139.936667  0.005348   0.362319 1985-12-30 15:56:17\n",
      "3  27.968333  129.665000 -0.002674   0.463768 1985-12-30 15:20:15\n",
      "4  42.888333  145.445000  0.044118   0.391304 1985-12-29 09:22:20\n"
     ]
    }
   ],
   "execution_count": 28
  },
  {
   "metadata": {},
   "cell_type": "markdown",
   "source": "# Train-Test Split",
   "id": "abdbcd53ce39a1a3"
  },
  {
   "metadata": {
    "ExecuteTime": {
     "end_time": "2024-11-19T12:59:31.458138Z",
     "start_time": "2024-11-19T12:59:31.395329Z"
    }
   },
   "cell_type": "code",
   "source": [
    "from sklearn.model_selection import train_test_split\n",
    "\n",
    "# Define features and target for splitting\n",
    "X_bmkg = bmkg_df[['Latitude', 'Longitude', 'Depth', 'Magnitude']]\n",
    "y_bmkg = bmkg_df['Magnitude']\n",
    "\n",
    "X_jma = jma_df[['Latitude', 'Longitude', 'Depth', 'Magnitude']]\n",
    "y_jma = jma_df['Magnitude']\n",
    "\n",
    "# Split the datasets\n",
    "X_train_bmkg, X_test_bmkg, y_train_bmkg, y_test_bmkg = train_test_split(X_bmkg, y_bmkg, test_size=0.2, random_state=42)\n",
    "X_train_jma, X_test_jma, y_train_jma, y_test_jma = train_test_split(X_jma, y_jma, test_size=0.2, random_state=42)\n",
    "\n",
    "print(\"BMKG Train/Test Split:\")\n",
    "print(X_train_bmkg.shape, X_test_bmkg.shape)\n",
    "print(\"\\nJMA Train/Test Split:\")\n",
    "print(X_train_jma.shape, X_test_jma.shape)"
   ],
   "id": "f6124ba88b4f35e8",
   "outputs": [
    {
     "name": "stdout",
     "output_type": "stream",
     "text": [
      "BMKG Train/Test Split:\n",
      "(74309, 4) (18578, 4)\n",
      "\n",
      "JMA Train/Test Split:\n",
      "(68267, 4) (17067, 4)\n"
     ]
    }
   ],
   "execution_count": 29
  },
  {
   "metadata": {
    "ExecuteTime": {
     "end_time": "2024-11-19T13:00:30.543519Z",
     "start_time": "2024-11-19T13:00:29.812098Z"
    }
   },
   "cell_type": "code",
   "source": [
    "# Save the cleaned and preprocessed datasets\n",
    "bmkg_df.to_csv('BMKG_cleaned.csv', index=False)\n",
    "jma_df.to_csv('JMA_cleaned.csv', index=False)\n",
    "\n",
    "print(\"Datasets saved successfully!\")"
   ],
   "id": "100885a24ce5fcdb",
   "outputs": [
    {
     "name": "stdout",
     "output_type": "stream",
     "text": [
      "Datasets saved successfully!\n"
     ]
    }
   ],
   "execution_count": 31
  },
  {
   "metadata": {
    "ExecuteTime": {
     "end_time": "2024-11-19T13:00:31.423980Z",
     "start_time": "2024-11-19T13:00:30.620879Z"
    }
   },
   "cell_type": "code",
   "source": [
    "# save the train and test datasets\n",
    "X_train_bmkg.to_csv('X_train_bmkg.csv', index=False)\n",
    "y_train_bmkg.to_csv('y_train_bmkg.csv', index=False)\n",
    "X_test_bmkg.to_csv('X_test_bmkg.csv', index=False)\n",
    "y_test_bmkg.to_csv('y_test_bmkg.csv', index=False)\n",
    "\n",
    "X_train_jma.to_csv('X_train_jma.csv', index=False)\n",
    "y_train_jma.to_csv('y_train_jma.csv', index=False)\n",
    "X_test_jma.to_csv('X_test_jma.csv', index=False)\n",
    "y_test_jma.to_csv('y_test_jma.csv', index=False)\n",
    "\n",
    "print(\"Train and Test datasets saved successfully!\")"
   ],
   "id": "4c581e03de04731b",
   "outputs": [
    {
     "name": "stdout",
     "output_type": "stream",
     "text": [
      "Train and Test datasets saved successfully!\n"
     ]
    }
   ],
   "execution_count": 32
  },
  {
   "metadata": {
    "ExecuteTime": {
     "end_time": "2024-11-19T13:00:31.937872Z",
     "start_time": "2024-11-19T13:00:31.456498Z"
    }
   },
   "cell_type": "code",
   "source": [
    "# visualize the data for bmkg dataset\n",
    "import matplotlib.pyplot as plt\n",
    "import seaborn\n",
    "\n",
    "# Plot the distribution of Magnitude values in the BMKG dataset\n",
    "plt.figure(figsize=(10, 6))\n",
    "seaborn.histplot(bmkg_df['Magnitude'], bins=20, color='skyblue', kde=True)\n",
    "plt.title('Distribution of Earthquake Magnitudes (BMKG)')\n",
    "plt.xlabel('Magnitude')\n",
    "plt.ylabel('Frequency')\n",
    "plt.show()"
   ],
   "id": "ddb37ba17ee4caec",
   "outputs": [
    {
     "data": {
      "text/plain": [
       "<Figure size 720x432 with 1 Axes>"
      ],
      "image/png": "[encoded data removed]"
     },
     "metadata": {
      "needs_background": "light"
     },
     "output_type": "display_data"
    }
   ],
   "execution_count": 33
  },
  {
   "metadata": {
    "ExecuteTime": {
     "end_time": "2024-11-19T13:00:36.209997Z",
     "start_time": "2024-11-19T13:00:35.804194Z"
    }
   },
   "cell_type": "code",
   "source": [
    "# Plot the distribution of Magnitude values in the JMA dataset\n",
    "plt.figure(figsize=(10, 6))\n",
    "seaborn.histplot(jma_df['Magnitude'], bins=20, color='salmon', kde=True)\n",
    "plt.title('Distribution of Earthquake Magnitudes (JMA)')\n",
    "plt.xlabel('Magnitude')\n",
    "plt.ylabel('Frequency')\n",
    "plt.show()"
   ],
   "id": "9bf54cb608eb77e6",
   "outputs": [
    {
     "data": {
      "text/plain": [
       "<Figure size 720x432 with 1 Axes>"
      ],
      "image/png": "[encoded data removed]"
     },
     "metadata": {
      "needs_background": "light"
     },
     "output_type": "display_data"
    }
   ],
   "execution_count": 34
  },
  {
   "metadata": {
    "ExecuteTime": {
     "end_time": "2024-11-19T13:01:14.425313Z",
     "start_time": "2024-11-19T13:01:14.000926Z"
    }
   },
   "cell_type": "code",
   "source": [
    "# save the distribution of magnitude pictures\n",
    "plt.figure(figsize=(10, 6))\n",
    "seaborn.histplot(bmkg_df['Magnitude'], bins=20, color='skyblue', kde=True)\n",
    "plt.title('Distribution of Earthquake Magnitudes (BMKG)')\n",
    "plt.xlabel('Magnitude')\n",
    "plt.ylabel('Frequency')\n",
    "plt.savefig('bmkg_magnitude_distribution.png')"
   ],
   "id": "9d016028350de50a",
   "outputs": [
    {
     "data": {
      "text/plain": [
       "<Figure size 720x432 with 1 Axes>"
      ],
      "image/png": "[encoded data removed]"
     },
     "metadata": {
      "needs_background": "light"
     },
     "output_type": "display_data"
    }
   ],
   "execution_count": 35
  },
  {
   "metadata": {},
   "cell_type": "markdown",
   "source": [
    "# the full sammary of the data preparation and preprocessing\n",
    "\n",
    "# 1. Load and inspect the datasets\n",
    "# 2. Data Cleaning\n",
    "# 3. Date-Time Formatting\n",
    "# 4. Standardize Column Names\n",
    "# 5. Convert Coordinates to Decimal Degrees\n",
    "# 6. Normalization and Scaling\n",
    "# 7. Train-Test Split\n",
    "# 8. Save the cleaned and preprocessed\n",
    "# 9. Visualize the data\n"
   ],
   "id": "2f3b54e4c8183bea"
  },
  {
   "metadata": {},
   "cell_type": "code",
   "outputs": [],
   "execution_count": null,
   "source": "",
   "id": "d9752669dc9f3acb"
  }
 ],
 "metadata": {
  "kernelspec": {
   "display_name": "Python 3",
   "language": "python",
   "name": "python3"
  },
  "language_info": {
   "codemirror_mode": {
    "name": "ipython",
    "version": 2
   },
   "file_extension": ".py",
   "mimetype": "text/x-python",
   "name": "python",
   "nbconvert_exporter": "python",
   "pygments_lexer": "ipython2",
   "version": "2.7.6"
  }
 },
 "nbformat": 4,
 "nbformat_minor": 5
}
