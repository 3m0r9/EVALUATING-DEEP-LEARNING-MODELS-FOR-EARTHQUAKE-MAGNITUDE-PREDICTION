{
 "cells": [
  {
   "cell_type": "code",
   "id": "initial_id",
   "metadata": {
    "collapsed": true,
    "ExecuteTime": {
     "end_time": "2024-12-22T06:24:39.025388Z",
     "start_time": "2024-12-22T06:24:38.858198Z"
    }
   },
   "source": [
    "import pandas as pd\n",
    "import numpy as np\n",
    "from sklearn.model_selection import train_test_split\n",
    "from sklearn.preprocessing import MinMaxScaler\n",
    "\n",
    "# Load the dataset\n",
    "jma_df = pd.read_csv('JMA_dataset.csv')  # Replace with the correct path\n",
    "print(jma_df.head())"
   ],
   "outputs": [
    {
     "name": "stdout",
     "output_type": "stream",
     "text": [
      "         Date      Time    震央地名        Lat        Long  Depth    M 最大震度  \\\n",
      "0  12/31/1985   2:26:48   島根県東部  35°20.3'N  133°12.7'E     12  3.6  震度１   \n",
      "1  12/30/1985  19:11:46    茨城県沖  36°24.4'N  140°41.8'E     55  3.3  震度１   \n",
      "2  12/30/1985  15:56:17   福島県会津  37°12.6'N  139°56.2'E      6  3.5  震度１   \n",
      "3  12/30/1985  15:20:15  奄美大島近海  27°58.1'N  129°39.9'E      0  4.2  震度１   \n",
      "4  12/29/1985   9:22:20     釧路沖  42°53.3'N  145°26.7'E     35  3.7  震度２   \n",
      "\n",
      "  Source.Name  \n",
      "0         NaN  \n",
      "1         NaN  \n",
      "2         NaN  \n",
      "3         NaN  \n",
      "4         NaN  \n"
     ]
    }
   ],
   "execution_count": 6
  },
  {
   "metadata": {
    "ExecuteTime": {
     "end_time": "2024-12-22T06:24:39.292540Z",
     "start_time": "2024-12-22T06:24:39.121397Z"
    }
   },
   "cell_type": "code",
   "source": [
    "# Step 1: Combine Date and Time into a single `Datetime` column\n",
    "jma_df['Datetime'] = pd.to_datetime(jma_df['Date'] + ' ' + jma_df['Time'], format='%m/%d/%Y %H:%M:%S')"
   ],
   "id": "81692094d9f51bb",
   "outputs": [],
   "execution_count": 7
  },
  {
   "metadata": {
    "ExecuteTime": {
     "end_time": "2024-12-22T06:24:39.353334Z",
     "start_time": "2024-12-22T06:24:39.342335Z"
    }
   },
   "cell_type": "code",
   "source": [
    "#show the data\n",
    "print(jma_df.head())"
   ],
   "id": "bf64bff0b2d018eb",
   "outputs": [
    {
     "name": "stdout",
     "output_type": "stream",
     "text": [
      "         Date      Time    震央地名        Lat        Long  Depth    M 最大震度  \\\n",
      "0  12/31/1985   2:26:48   島根県東部  35°20.3'N  133°12.7'E     12  3.6  震度１   \n",
      "1  12/30/1985  19:11:46    茨城県沖  36°24.4'N  140°41.8'E     55  3.3  震度１   \n",
      "2  12/30/1985  15:56:17   福島県会津  37°12.6'N  139°56.2'E      6  3.5  震度１   \n",
      "3  12/30/1985  15:20:15  奄美大島近海  27°58.1'N  129°39.9'E      0  4.2  震度１   \n",
      "4  12/29/1985   9:22:20     釧路沖  42°53.3'N  145°26.7'E     35  3.7  震度２   \n",
      "\n",
      "  Source.Name            Datetime  \n",
      "0         NaN 1985-12-31 02:26:48  \n",
      "1         NaN 1985-12-30 19:11:46  \n",
      "2         NaN 1985-12-30 15:56:17  \n",
      "3         NaN 1985-12-30 15:20:15  \n",
      "4         NaN 1985-12-29 09:22:20  \n"
     ]
    }
   ],
   "execution_count": 8
  },
  {
   "metadata": {
    "ExecuteTime": {
     "end_time": "2024-12-22T06:24:40.165655Z",
     "start_time": "2024-12-22T06:24:40.153659Z"
    }
   },
   "cell_type": "code",
   "source": [
    "#change the column names\n",
    "jma_df.rename(columns={'Lat':'Latitude', 'Long':'Longitude', 'Depth':'Depth', 'M':'Magnitude'}, inplace=True)\n",
    "\n",
    "# Display the first few rows of the updated dataset\n",
    "print(\"\\nJMA Dataset:\")\n",
    "print(jma_df.head())"
   ],
   "id": "775f4b95b732608b",
   "outputs": [
    {
     "name": "stdout",
     "output_type": "stream",
     "text": [
      "\n",
      "JMA Dataset:\n",
      "         Date      Time    震央地名   Latitude   Longitude  Depth Magnitude 最大震度  \\\n",
      "0  12/31/1985   2:26:48   島根県東部  35°20.3'N  133°12.7'E     12       3.6  震度１   \n",
      "1  12/30/1985  19:11:46    茨城県沖  36°24.4'N  140°41.8'E     55       3.3  震度１   \n",
      "2  12/30/1985  15:56:17   福島県会津  37°12.6'N  139°56.2'E      6       3.5  震度１   \n",
      "3  12/30/1985  15:20:15  奄美大島近海  27°58.1'N  129°39.9'E      0       4.2  震度１   \n",
      "4  12/29/1985   9:22:20     釧路沖  42°53.3'N  145°26.7'E     35       3.7  震度２   \n",
      "\n",
      "  Source.Name            Datetime  \n",
      "0         NaN 1985-12-31 02:26:48  \n",
      "1         NaN 1985-12-30 19:11:46  \n",
      "2         NaN 1985-12-30 15:56:17  \n",
      "3         NaN 1985-12-30 15:20:15  \n",
      "4         NaN 1985-12-29 09:22:20  \n"
     ]
    }
   ],
   "execution_count": 9
  },
  {
   "metadata": {
    "ExecuteTime": {
     "end_time": "2024-12-22T06:24:41.145837Z",
     "start_time": "2024-12-22T06:24:41.133836Z"
    }
   },
   "cell_type": "code",
   "source": [
    "#change the column names\n",
    "jma_df.rename(columns={'Lat':'Latitude', 'Long':'Longitude', 'Depth':'Depth', 'M':'Magnitude'}, inplace=True)\n",
    "\n",
    "# Display the first few rows of the updated dataset\n",
    "print(\"\\nJMA Dataset:\")\n",
    "print(jma_df.head())"
   ],
   "id": "b4c98139c2f7b5b6",
   "outputs": [
    {
     "name": "stdout",
     "output_type": "stream",
     "text": [
      "\n",
      "JMA Dataset:\n",
      "         Date      Time    震央地名   Latitude   Longitude  Depth Magnitude 最大震度  \\\n",
      "0  12/31/1985   2:26:48   島根県東部  35°20.3'N  133°12.7'E     12       3.6  震度１   \n",
      "1  12/30/1985  19:11:46    茨城県沖  36°24.4'N  140°41.8'E     55       3.3  震度１   \n",
      "2  12/30/1985  15:56:17   福島県会津  37°12.6'N  139°56.2'E      6       3.5  震度１   \n",
      "3  12/30/1985  15:20:15  奄美大島近海  27°58.1'N  129°39.9'E      0       4.2  震度１   \n",
      "4  12/29/1985   9:22:20     釧路沖  42°53.3'N  145°26.7'E     35       3.7  震度２   \n",
      "\n",
      "  Source.Name            Datetime  \n",
      "0         NaN 1985-12-31 02:26:48  \n",
      "1         NaN 1985-12-30 19:11:46  \n",
      "2         NaN 1985-12-30 15:56:17  \n",
      "3         NaN 1985-12-30 15:20:15  \n",
      "4         NaN 1985-12-29 09:22:20  \n"
     ]
    }
   ],
   "execution_count": 10
  },
  {
   "metadata": {
    "ExecuteTime": {
     "end_time": "2024-12-22T06:25:03.398412Z",
     "start_time": "2024-12-22T06:25:03.092937Z"
    }
   },
   "cell_type": "code",
   "source": [
    "import numpy as np\n",
    "import re\n",
    "import pandas as pd\n",
    "\n",
    "# Updated function to handle both DMS and decimal formats\n",
    "def dms_to_decimal(coord):\n",
    "    # Check if the value is NaN\n",
    "    if pd.isna(coord):\n",
    "        return np.nan\n",
    "\n",
    "    # If the coordinate is already in decimal format, return it as a float\n",
    "    try:\n",
    "        # Try converting directly to float; if it works, we have a decimal value\n",
    "        return float(coord)\n",
    "    except ValueError:\n",
    "        # If direct conversion fails, it's likely in DMS format\n",
    "        pass\n",
    "\n",
    "    # For DMS format, extract degrees, minutes, and direction\n",
    "    match = re.match(r\"(\\d+)°(\\d+\\.\\d+)'([NSEW])\", str(coord))\n",
    "    if match:\n",
    "        degrees = float(match.group(1))\n",
    "        minutes = float(match.group(2))\n",
    "        direction = match.group(3)\n",
    "\n",
    "        # Convert DMS to decimal degrees\n",
    "        decimal = degrees + (minutes / 60)\n",
    "\n",
    "        # Make coordinates negative for South and West\n",
    "        if direction in ['S', 'W']:\n",
    "            decimal = -decimal\n",
    "\n",
    "        return decimal\n",
    "    else:\n",
    "        raise ValueError(f\"Invalid coordinate format: {coord}\")\n",
    "\n",
    "# Replace '不明' with NaN in the dataset\n",
    "jma_df.replace('不明', np.nan, inplace=True)\n",
    "\n",
    "# Apply the function to the Latitude and Longitude columns\n",
    "jma_df['Latitude'] = jma_df['Latitude'].apply(dms_to_decimal)\n",
    "jma_df['Longitude'] = jma_df['Longitude'].apply(dms_to_decimal)\n",
    "\n",
    "# Display the updated dataset\n",
    "print(\"\\nUpdated JMA Dataset with Decimal Coordinates:\")\n",
    "print(jma_df.head())"
   ],
   "id": "bbff3cf8196b09ab",
   "outputs": [
    {
     "name": "stdout",
     "output_type": "stream",
     "text": [
      "\n",
      "Updated JMA Dataset with Decimal Coordinates:\n",
      "         Date      Time    震央地名   Latitude   Longitude  Depth Magnitude 最大震度  \\\n",
      "0  12/31/1985   2:26:48   島根県東部  35.338333  133.211667     12       3.6  震度１   \n",
      "1  12/30/1985  19:11:46    茨城県沖  36.406667  140.696667     55       3.3  震度１   \n",
      "2  12/30/1985  15:56:17   福島県会津  37.210000  139.936667      6       3.5  震度１   \n",
      "3  12/30/1985  15:20:15  奄美大島近海  27.968333  129.665000      0       4.2  震度１   \n",
      "4  12/29/1985   9:22:20     釧路沖  42.888333  145.445000     35       3.7  震度２   \n",
      "\n",
      "  Source.Name            Datetime  \n",
      "0         NaN 1985-12-31 02:26:48  \n",
      "1         NaN 1985-12-30 19:11:46  \n",
      "2         NaN 1985-12-30 15:56:17  \n",
      "3         NaN 1985-12-30 15:20:15  \n",
      "4         NaN 1985-12-29 09:22:20  \n"
     ]
    }
   ],
   "execution_count": 11
  },
  {
   "metadata": {
    "ExecuteTime": {
     "end_time": "2024-12-22T06:25:15.393740Z",
     "start_time": "2024-12-22T06:25:15.365148Z"
    }
   },
   "cell_type": "code",
   "source": [
    "# Step 3: Clean and remove unnecessary columns\n",
    "jma_df = jma_df.drop(columns=['Date', 'Time', '震央地名', '最大震度', 'Source.Name'])\n",
    "print(jma_df.head())\n"
   ],
   "id": "b9a3094b2bc1bf7e",
   "outputs": [
    {
     "name": "stdout",
     "output_type": "stream",
     "text": [
      "    Latitude   Longitude  Depth Magnitude            Datetime\n",
      "0  35.338333  133.211667     12       3.6 1985-12-31 02:26:48\n",
      "1  36.406667  140.696667     55       3.3 1985-12-30 19:11:46\n",
      "2  37.210000  139.936667      6       3.5 1985-12-30 15:56:17\n",
      "3  27.968333  129.665000      0       4.2 1985-12-30 15:20:15\n",
      "4  42.888333  145.445000     35       3.7 1985-12-29 09:22:20\n"
     ]
    }
   ],
   "execution_count": 12
  },
  {
   "metadata": {
    "ExecuteTime": {
     "end_time": "2024-12-22T06:25:23.872142Z",
     "start_time": "2024-12-22T06:25:23.843841Z"
    }
   },
   "cell_type": "code",
   "source": [
    "# Step 4: Drop rows with missing values\n",
    "jma_df = jma_df.dropna()\n",
    "print(jma_df.head())"
   ],
   "id": "cfd734b3919347a7",
   "outputs": [
    {
     "name": "stdout",
     "output_type": "stream",
     "text": [
      "    Latitude   Longitude  Depth Magnitude            Datetime\n",
      "0  35.338333  133.211667     12       3.6 1985-12-31 02:26:48\n",
      "1  36.406667  140.696667     55       3.3 1985-12-30 19:11:46\n",
      "2  37.210000  139.936667      6       3.5 1985-12-30 15:56:17\n",
      "3  27.968333  129.665000      0       4.2 1985-12-30 15:20:15\n",
      "4  42.888333  145.445000     35       3.7 1985-12-29 09:22:20\n"
     ]
    }
   ],
   "execution_count": 13
  },
  {
   "metadata": {
    "ExecuteTime": {
     "end_time": "2024-12-22T06:27:39.592085Z",
     "start_time": "2024-12-22T06:27:39.549907Z"
    }
   },
   "cell_type": "code",
   "source": [
    "# Step 5: Feature engineering\n",
    "jma_df['Year'] = jma_df['Datetime'].dt.year\n",
    "jma_df['Month'] = jma_df['Datetime'].dt.month\n",
    "jma_df['Day'] = jma_df['Datetime'].dt.day\n",
    "jma_df['Hour'] = jma_df['Datetime'].dt.hour\n",
    "jma_df['Minutes'] = jma_df['Datetime'].dt.minute\n",
    "jma_df['DayOfWeek'] = jma_df['Datetime'].dt.dayofweek\n",
    "jma_df['TimeDiff'] = (jma_df['Datetime'] - jma_df['Datetime'].shift(1)).dt.total_seconds().fillna(0)"
   ],
   "id": "9a400399d86e45d9",
   "outputs": [],
   "execution_count": 14
  },
  {
   "metadata": {
    "ExecuteTime": {
     "end_time": "2024-12-22T06:29:13.116043Z",
     "start_time": "2024-12-22T06:29:13.104046Z"
    }
   },
   "cell_type": "code",
   "source": [
    "#show the data\n",
    "print(jma_df.head())"
   ],
   "id": "f318fef1169fcfbe",
   "outputs": [
    {
     "name": "stdout",
     "output_type": "stream",
     "text": [
      "    Latitude   Longitude  Depth Magnitude            Datetime  Year  Month  \\\n",
      "0  35.338333  133.211667     12       3.6 1985-12-31 02:26:48  1985     12   \n",
      "1  36.406667  140.696667     55       3.3 1985-12-30 19:11:46  1985     12   \n",
      "2  37.210000  139.936667      6       3.5 1985-12-30 15:56:17  1985     12   \n",
      "3  27.968333  129.665000      0       4.2 1985-12-30 15:20:15  1985     12   \n",
      "4  42.888333  145.445000     35       3.7 1985-12-29 09:22:20  1985     12   \n",
      "\n",
      "   Day  Hour  Minutes  DayOfWeek  TimeDiff  \n",
      "0   31     2       26          1       0.0  \n",
      "1   30    19       11          0  -26102.0  \n",
      "2   30    15       56          0  -11729.0  \n",
      "3   30    15       20          0   -2162.0  \n",
      "4   29     9       22          6 -107875.0  \n"
     ]
    }
   ],
   "execution_count": 15
  },
  {
   "metadata": {
    "ExecuteTime": {
     "end_time": "2024-12-22T06:29:35.102906Z",
     "start_time": "2024-12-22T06:29:35.076233Z"
    }
   },
   "cell_type": "code",
   "source": [
    "# Drop the `Datetime` column (optional, as time features are extracted)\n",
    "jma_df = jma_df.drop(columns=['Datetime'])\n",
    "#show the data\n",
    "print(jma_df.head())"
   ],
   "id": "93ec4f393928033f",
   "outputs": [
    {
     "name": "stdout",
     "output_type": "stream",
     "text": [
      "    Latitude   Longitude  Depth Magnitude  Year  Month  Day  Hour  Minutes  \\\n",
      "0  35.338333  133.211667     12       3.6  1985     12   31     2       26   \n",
      "1  36.406667  140.696667     55       3.3  1985     12   30    19       11   \n",
      "2  37.210000  139.936667      6       3.5  1985     12   30    15       56   \n",
      "3  27.968333  129.665000      0       4.2  1985     12   30    15       20   \n",
      "4  42.888333  145.445000     35       3.7  1985     12   29     9       22   \n",
      "\n",
      "   DayOfWeek  TimeDiff  \n",
      "0          1       0.0  \n",
      "1          0  -26102.0  \n",
      "2          0  -11729.0  \n",
      "3          0   -2162.0  \n",
      "4          6 -107875.0  \n"
     ]
    }
   ],
   "execution_count": 16
  },
  {
   "metadata": {
    "ExecuteTime": {
     "end_time": "2024-12-22T06:30:24.054734Z",
     "start_time": "2024-12-22T06:30:24.039024Z"
    }
   },
   "cell_type": "code",
   "source": [
    "# Step 6: Prepare target and features\n",
    "X_jma = jma_df.drop(columns=['Magnitude'])\n",
    "y_jma = jma_df['Magnitude']\n",
    "\n",
    "# Display the features and target\n",
    "print(\"\\nFeatures:\")\n",
    "print(X_jma.head())\n",
    "print(\"\\nTarget:\")\n",
    "print(y_jma.head())"
   ],
   "id": "6aa510b6ac832853",
   "outputs": [
    {
     "name": "stdout",
     "output_type": "stream",
     "text": [
      "\n",
      "Features:\n",
      "    Latitude   Longitude  Depth  Year  Month  Day  Hour  Minutes  DayOfWeek  \\\n",
      "0  35.338333  133.211667     12  1985     12   31     2       26          1   \n",
      "1  36.406667  140.696667     55  1985     12   30    19       11          0   \n",
      "2  37.210000  139.936667      6  1985     12   30    15       56          0   \n",
      "3  27.968333  129.665000      0  1985     12   30    15       20          0   \n",
      "4  42.888333  145.445000     35  1985     12   29     9       22          6   \n",
      "\n",
      "   TimeDiff  \n",
      "0       0.0  \n",
      "1  -26102.0  \n",
      "2  -11729.0  \n",
      "3   -2162.0  \n",
      "4 -107875.0  \n",
      "\n",
      "Target:\n",
      "0    3.6\n",
      "1    3.3\n",
      "2    3.5\n",
      "3    4.2\n",
      "4    3.7\n",
      "Name: Magnitude, dtype: object\n"
     ]
    }
   ],
   "execution_count": 17
  },
  {
   "metadata": {
    "ExecuteTime": {
     "end_time": "2024-12-22T07:44:16.460926Z",
     "start_time": "2024-12-22T07:44:16.413244Z"
    }
   },
   "cell_type": "code",
   "source": [
    "from sklearn.preprocessing import MinMaxScaler\n",
    "import numpy as np\n",
    "\n",
    "# Initialize scalers\n",
    "scaler_X = MinMaxScaler()\n",
    "scaler_y = MinMaxScaler()\n",
    "\n",
    "# Normalize features (X)\n",
    "X_jma_scaled = scaler_X.fit_transform(X_jma)\n",
    "\n",
    "# Normalize target (y)\n",
    "y_jma_scaled = scaler_y.fit_transform(y_jma.values.reshape(-1, 1))  # Convert Series to NumPy array and reshape"
   ],
   "id": "bd9638b79202d8c9",
   "outputs": [],
   "execution_count": 20
  },
  {
   "metadata": {
    "ExecuteTime": {
     "end_time": "2024-12-22T07:44:19.113501Z",
     "start_time": "2024-12-22T07:44:19.097693Z"
    }
   },
   "cell_type": "code",
   "source": [
    "# Display the normalized features and target\n",
    "print(\"\\nNormalized Features:\")\n",
    "print(X_jma_scaled[:5])\n",
    "print(\"\\nNormalized Target:\")\n",
    "print(y_jma_scaled[:5])"
   ],
   "id": "a375cc8526fef7b5",
   "outputs": [
    {
     "name": "stdout",
     "output_type": "stream",
     "text": [
      "\n",
      "Normalized Features:\n",
      "[[0.59948847 0.33121805 0.01726619 0.         1.         1.\n",
      "  0.08695652 0.44067797 0.16666667 0.25212269]\n",
      " [0.62024087 0.52912921 0.07913669 0.         1.         0.96666667\n",
      "  0.82608696 0.18644068 0.         0.2518133 ]\n",
      " [0.63584564 0.50903402 0.00863309 0.         1.         0.96666667\n",
      "  0.65217391 0.94915254 0.         0.25198366]\n",
      " [0.45632608 0.23744051 0.         0.         1.         0.96666667\n",
      "  0.65217391 0.33898305 0.         0.25209706]\n",
      " [0.74614737 0.65468006 0.05035971 0.         1.         0.93333333\n",
      "  0.39130435 0.37288136 1.         0.25084401]]\n",
      "\n",
      "Normalized Target:\n",
      "[[0.38636364]\n",
      " [0.35227273]\n",
      " [0.375     ]\n",
      " [0.45454545]\n",
      " [0.39772727]]\n"
     ]
    }
   ],
   "execution_count": 21
  },
  {
   "metadata": {
    "ExecuteTime": {
     "end_time": "2024-12-22T08:06:43.849553Z",
     "start_time": "2024-12-22T08:06:43.833610Z"
    }
   },
   "cell_type": "code",
   "source": [
    "# Reshape for CNN-BiLSTM (if needed, based on time steps)\n",
    "time_steps = 5\n",
    "samples = X_jma_scaled.shape[0] - time_steps + 1  # Calculate the number of samples\n",
    "features = X_jma_scaled.shape[1]"
   ],
   "id": "be9bdde9d9492cef",
   "outputs": [],
   "execution_count": 22
  },
  {
   "metadata": {
    "ExecuteTime": {
     "end_time": "2024-12-22T08:07:02.697845Z",
     "start_time": "2024-12-22T08:07:02.681906Z"
    }
   },
   "cell_type": "code",
   "source": [
    "#show the data\n",
    "print(samples)\n",
    "print(features)"
   ],
   "id": "e48cb5300c57fda",
   "outputs": [
    {
     "name": "stdout",
     "output_type": "stream",
     "text": [
      "85330\n",
      "10\n"
     ]
    }
   ],
   "execution_count": 23
  },
  {
   "metadata": {
    "ExecuteTime": {
     "end_time": "2024-12-22T08:07:36.706598Z",
     "start_time": "2024-12-22T08:07:36.690701Z"
    }
   },
   "cell_type": "code",
   "source": [
    "# show the data shape\n",
    "print(X_jma_scaled.shape)\n",
    "print(y_jma_scaled.shape)"
   ],
   "id": "6bf710339df41440",
   "outputs": [
    {
     "name": "stdout",
     "output_type": "stream",
     "text": [
      "(85334, 10)\n",
      "(85334, 1)\n"
     ]
    }
   ],
   "execution_count": 24
  },
  {
   "metadata": {
    "ExecuteTime": {
     "end_time": "2024-12-22T08:09:56.293449Z",
     "start_time": "2024-12-22T08:09:56.230173Z"
    }
   },
   "cell_type": "code",
   "source": [
    "# Create sequences of time steps\n",
    "X_jma_reshaped = np.array([X_jma_scaled[i:i+time_steps] for i in range(samples)])\n",
    "y_jma_reshaped = y_jma_scaled[time_steps-1:]  # Align the target with the sequences\n",
    "\n",
    "# Verify the shape of the reshaped data\n",
    "print(\"\\nReshaped Data:\")\n",
    "print(f\"X_jma shape: {X_jma_reshaped.shape}\")\n",
    "print(f\"y_jma shape: {y_jma_reshaped.shape}\")\n"
   ],
   "id": "cd6233f6b9232a85",
   "outputs": [
    {
     "name": "stdout",
     "output_type": "stream",
     "text": [
      "\n",
      "Reshaped Data:\n",
      "X_jma shape: (85330, 5, 10)\n",
      "y_jma shape: (85330, 1)\n"
     ]
    }
   ],
   "execution_count": 25
  },
  {
   "metadata": {},
   "cell_type": "code",
   "outputs": [],
   "execution_count": null,
   "source": "",
   "id": "aa277b89a079395d"
  },
  {
   "metadata": {
    "ExecuteTime": {
     "end_time": "2024-12-22T08:12:33.030410Z",
     "start_time": "2024-12-22T08:12:32.985186Z"
    }
   },
   "cell_type": "code",
   "source": [
    "# Save preprocessed data\n",
    "np.save(\"X_jma_cnn_bilstm.npy\", X_jma_reshaped)\n",
    "np.save(\"y_jma_cnn_bilstm.npy\", y_jma_reshaped)\n",
    "\n",
    "# Print results\n",
    "print(\"Preprocessing complete. Data saved.\")"
   ],
   "id": "786fb0b2436cb387",
   "outputs": [
    {
     "name": "stdout",
     "output_type": "stream",
     "text": [
      "Preprocessing complete. Data saved.\n"
     ]
    }
   ],
   "execution_count": 26
  },
  {
   "metadata": {
    "ExecuteTime": {
     "end_time": "2024-12-22T08:12:43.819391Z",
     "start_time": "2024-12-22T08:12:43.803584Z"
    }
   },
   "cell_type": "code",
   "source": [
    "print(f\"Preprocessed JMA dataset for CNN-BiLSTM:\")\n",
    "print(f\"X_jma shape: {X_jma_reshaped.shape}\")\n",
    "print(f\"y_jma shape: {y_jma_reshaped.shape}\")"
   ],
   "id": "90013028199f7573",
   "outputs": [
    {
     "name": "stdout",
     "output_type": "stream",
     "text": [
      "Preprocessed JMA dataset for CNN-BiLSTM:\n",
      "X_jma shape: (85330, 5, 10)\n",
      "y_jma shape: (85330, 1)\n"
     ]
    }
   ],
   "execution_count": 27
  },
  {
   "metadata": {},
   "cell_type": "code",
   "outputs": [],
   "execution_count": null,
   "source": "",
   "id": "5ae2989906deddb1"
  }
 ],
 "metadata": {
  "kernelspec": {
   "display_name": "Python 3",
   "language": "python",
   "name": "python3"
  },
  "language_info": {
   "codemirror_mode": {
    "name": "ipython",
    "version": 2
   },
   "file_extension": ".py",
   "mimetype": "text/x-python",
   "name": "python",
   "nbconvert_exporter": "python",
   "pygments_lexer": "ipython2",
   "version": "2.7.6"
  }
 },
 "nbformat": 4,
 "nbformat_minor": 5
}
