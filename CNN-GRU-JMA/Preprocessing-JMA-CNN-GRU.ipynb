{
 "cells": [
  {
   "cell_type": "code",
   "id": "initial_id",
   "metadata": {
    "collapsed": true,
    "ExecuteTime": {
     "end_time": "2025-01-13T12:32:22.451982Z",
     "start_time": "2025-01-13T12:32:20.577639Z"
    }
   },
   "source": [
    "import pandas as pd\n",
    "from sklearn.model_selection import train_test_split\n",
    "from sklearn.preprocessing import MinMaxScaler\n",
    "\n",
    "# Load the dataset\n",
    "jma_df = pd.read_csv('JMA_dataset.csv')  # Replace with the correct path\n",
    "print(jma_df.head())"
   ],
   "outputs": [
    {
     "name": "stdout",
     "output_type": "stream",
     "text": [
      "         Date      Time    震央地名        Lat        Long  Depth    M 最大震度  \\\n",
      "0  12/31/1985   2:26:48   島根県東部  35°20.3'N  133°12.7'E     12  3.6  震度１   \n",
      "1  12/30/1985  19:11:46    茨城県沖  36°24.4'N  140°41.8'E     55  3.3  震度１   \n",
      "2  12/30/1985  15:56:17   福島県会津  37°12.6'N  139°56.2'E      6  3.5  震度１   \n",
      "3  12/30/1985  15:20:15  奄美大島近海  27°58.1'N  129°39.9'E      0  4.2  震度１   \n",
      "4  12/29/1985   9:22:20     釧路沖  42°53.3'N  145°26.7'E     35  3.7  震度２   \n",
      "\n",
      "  Source.Name  \n",
      "0         NaN  \n",
      "1         NaN  \n",
      "2         NaN  \n",
      "3         NaN  \n",
      "4         NaN  \n"
     ]
    }
   ],
   "execution_count": 2
  },
  {
   "metadata": {
    "ExecuteTime": {
     "end_time": "2025-01-13T12:32:22.673214Z",
     "start_time": "2025-01-13T12:32:22.457977Z"
    }
   },
   "cell_type": "code",
   "source": [
    "# Step 1: Combine Date and Time into a single `Datetime` column\n",
    "jma_df['Datetime'] = pd.to_datetime(jma_df['Date'] + ' ' + jma_df['Time'], format='%m/%d/%Y %H:%M:%S')"
   ],
   "id": "8298c9fc2fdb6e8e",
   "outputs": [],
   "execution_count": 3
  },
  {
   "metadata": {
    "ExecuteTime": {
     "end_time": "2025-01-13T12:32:22.718727Z",
     "start_time": "2025-01-13T12:32:22.697729Z"
    }
   },
   "cell_type": "code",
   "source": [
    "#show the data\n",
    "print(jma_df.head())"
   ],
   "id": "1156a55000e3b31c",
   "outputs": [
    {
     "name": "stdout",
     "output_type": "stream",
     "text": [
      "         Date      Time    震央地名        Lat        Long  Depth    M 最大震度  \\\n",
      "0  12/31/1985   2:26:48   島根県東部  35°20.3'N  133°12.7'E     12  3.6  震度１   \n",
      "1  12/30/1985  19:11:46    茨城県沖  36°24.4'N  140°41.8'E     55  3.3  震度１   \n",
      "2  12/30/1985  15:56:17   福島県会津  37°12.6'N  139°56.2'E      6  3.5  震度１   \n",
      "3  12/30/1985  15:20:15  奄美大島近海  27°58.1'N  129°39.9'E      0  4.2  震度１   \n",
      "4  12/29/1985   9:22:20     釧路沖  42°53.3'N  145°26.7'E     35  3.7  震度２   \n",
      "\n",
      "  Source.Name            Datetime  \n",
      "0         NaN 1985-12-31 02:26:48  \n",
      "1         NaN 1985-12-30 19:11:46  \n",
      "2         NaN 1985-12-30 15:56:17  \n",
      "3         NaN 1985-12-30 15:20:15  \n",
      "4         NaN 1985-12-29 09:22:20  \n"
     ]
    }
   ],
   "execution_count": 4
  },
  {
   "metadata": {
    "ExecuteTime": {
     "end_time": "2025-01-13T12:32:22.749150Z",
     "start_time": "2025-01-13T12:32:22.735729Z"
    }
   },
   "cell_type": "code",
   "source": [
    "#change the column names\n",
    "jma_df.rename(columns={'Lat':'Latitude', 'Long':'Longitude', 'Depth':'Depth', 'M':'Magnitude'}, inplace=True)\n",
    "\n",
    "# Display the first few rows of the updated dataset\n",
    "print(\"\\nJMA Dataset:\")\n",
    "print(jma_df.head())"
   ],
   "id": "64ab49887f11303a",
   "outputs": [
    {
     "name": "stdout",
     "output_type": "stream",
     "text": [
      "\n",
      "JMA Dataset:\n",
      "         Date      Time    震央地名   Latitude   Longitude  Depth Magnitude 最大震度  \\\n",
      "0  12/31/1985   2:26:48   島根県東部  35°20.3'N  133°12.7'E     12       3.6  震度１   \n",
      "1  12/30/1985  19:11:46    茨城県沖  36°24.4'N  140°41.8'E     55       3.3  震度１   \n",
      "2  12/30/1985  15:56:17   福島県会津  37°12.6'N  139°56.2'E      6       3.5  震度１   \n",
      "3  12/30/1985  15:20:15  奄美大島近海  27°58.1'N  129°39.9'E      0       4.2  震度１   \n",
      "4  12/29/1985   9:22:20     釧路沖  42°53.3'N  145°26.7'E     35       3.7  震度２   \n",
      "\n",
      "  Source.Name            Datetime  \n",
      "0         NaN 1985-12-31 02:26:48  \n",
      "1         NaN 1985-12-30 19:11:46  \n",
      "2         NaN 1985-12-30 15:56:17  \n",
      "3         NaN 1985-12-30 15:20:15  \n",
      "4         NaN 1985-12-29 09:22:20  \n"
     ]
    }
   ],
   "execution_count": 5
  },
  {
   "metadata": {
    "ExecuteTime": {
     "end_time": "2025-01-13T12:32:23.126010Z",
     "start_time": "2025-01-13T12:32:22.766150Z"
    }
   },
   "cell_type": "code",
   "source": [
    "import numpy as np\n",
    "import re\n",
    "import pandas as pd\n",
    "\n",
    "# Updated function to handle both DMS and decimal formats\n",
    "def dms_to_decimal(coord):\n",
    "    # Check if the value is NaN\n",
    "    if pd.isna(coord):\n",
    "        return np.nan\n",
    "\n",
    "    # If the coordinate is already in decimal format, return it as a float\n",
    "    try:\n",
    "        # Try converting directly to float; if it works, we have a decimal value\n",
    "        return float(coord)\n",
    "    except ValueError:\n",
    "        # If direct conversion fails, it's likely in DMS format\n",
    "        pass\n",
    "\n",
    "    # For DMS format, extract degrees, minutes, and direction\n",
    "    match = re.match(r\"(\\d+)°(\\d+\\.\\d+)'([NSEW])\", str(coord))\n",
    "    if match:\n",
    "        degrees = float(match.group(1))\n",
    "        minutes = float(match.group(2))\n",
    "        direction = match.group(3)\n",
    "\n",
    "        # Convert DMS to decimal degrees\n",
    "        decimal = degrees + (minutes / 60)\n",
    "\n",
    "        # Make coordinates negative for South and West\n",
    "        if direction in ['S', 'W']:\n",
    "            decimal = -decimal\n",
    "\n",
    "        return decimal\n",
    "    else:\n",
    "        raise ValueError(f\"Invalid coordinate format: {coord}\")\n",
    "\n",
    "# Replace '不明' with NaN in the dataset\n",
    "jma_df.replace('不明', np.nan, inplace=True)\n",
    "\n",
    "# Apply the function to the Latitude and Longitude columns\n",
    "jma_df['Latitude'] = jma_df['Latitude'].apply(dms_to_decimal)\n",
    "jma_df['Longitude'] = jma_df['Longitude'].apply(dms_to_decimal)\n",
    "\n",
    "# Display the updated dataset\n",
    "print(\"\\nUpdated JMA Dataset with Decimal Coordinates:\")\n",
    "print(jma_df.head())"
   ],
   "id": "b1a2fb7fd45cb90d",
   "outputs": [
    {
     "name": "stdout",
     "output_type": "stream",
     "text": [
      "\n",
      "Updated JMA Dataset with Decimal Coordinates:\n",
      "         Date      Time    震央地名   Latitude   Longitude  Depth Magnitude 最大震度  \\\n",
      "0  12/31/1985   2:26:48   島根県東部  35.338333  133.211667     12       3.6  震度１   \n",
      "1  12/30/1985  19:11:46    茨城県沖  36.406667  140.696667     55       3.3  震度１   \n",
      "2  12/30/1985  15:56:17   福島県会津  37.210000  139.936667      6       3.5  震度１   \n",
      "3  12/30/1985  15:20:15  奄美大島近海  27.968333  129.665000      0       4.2  震度１   \n",
      "4  12/29/1985   9:22:20     釧路沖  42.888333  145.445000     35       3.7  震度２   \n",
      "\n",
      "  Source.Name            Datetime  \n",
      "0         NaN 1985-12-31 02:26:48  \n",
      "1         NaN 1985-12-30 19:11:46  \n",
      "2         NaN 1985-12-30 15:56:17  \n",
      "3         NaN 1985-12-30 15:20:15  \n",
      "4         NaN 1985-12-29 09:22:20  \n"
     ]
    }
   ],
   "execution_count": 6
  },
  {
   "metadata": {
    "ExecuteTime": {
     "end_time": "2025-01-13T12:32:23.222193Z",
     "start_time": "2025-01-13T12:32:23.210192Z"
    }
   },
   "cell_type": "code",
   "source": [
    "# Step 3: Clean and remove unnecessary columns\n",
    "jma_df = jma_df.drop(columns=['Date', 'Time', '震央地名', '最大震度', 'Source.Name'])\n",
    "print(jma_df.head())"
   ],
   "id": "57cc99eb5b8557dc",
   "outputs": [
    {
     "name": "stdout",
     "output_type": "stream",
     "text": [
      "    Latitude   Longitude  Depth Magnitude            Datetime\n",
      "0  35.338333  133.211667     12       3.6 1985-12-31 02:26:48\n",
      "1  36.406667  140.696667     55       3.3 1985-12-30 19:11:46\n",
      "2  37.210000  139.936667      6       3.5 1985-12-30 15:56:17\n",
      "3  27.968333  129.665000      0       4.2 1985-12-30 15:20:15\n",
      "4  42.888333  145.445000     35       3.7 1985-12-29 09:22:20\n"
     ]
    }
   ],
   "execution_count": 7
  },
  {
   "metadata": {
    "ExecuteTime": {
     "end_time": "2025-01-13T12:32:25.159697Z",
     "start_time": "2025-01-13T12:32:25.116698Z"
    }
   },
   "cell_type": "code",
   "source": [
    "# Step 4: Handle missing values\n",
    "jma_df = jma_df.dropna()\n",
    "print(jma_df.head())\n",
    "#statistical summary\n",
    "print(jma_df.describe())"
   ],
   "id": "8e7e7db8e922f32c",
   "outputs": [
    {
     "name": "stdout",
     "output_type": "stream",
     "text": [
      "    Latitude   Longitude  Depth Magnitude            Datetime\n",
      "0  35.338333  133.211667     12       3.6 1985-12-31 02:26:48\n",
      "1  36.406667  140.696667     55       3.3 1985-12-30 19:11:46\n",
      "2  37.210000  139.936667      6       3.5 1985-12-30 15:56:17\n",
      "3  27.968333  129.665000      0       4.2 1985-12-30 15:20:15\n",
      "4  42.888333  145.445000     35       3.7 1985-12-29 09:22:20\n",
      "           Latitude     Longitude         Depth                       Datetime\n",
      "count  85334.000000  85334.000000  85334.000000                          85334\n",
      "mean      35.582772    137.751368     25.999203  2007-04-04 09:30:23.121276416\n",
      "min        4.476667    120.685000      0.000000            1985-01-01 00:58:14\n",
      "25%       34.116667    135.123333      8.000000     2000-07-12 21:19:32.750000\n",
      "50%       35.436667    139.278333     14.000000            2008-12-29 20:04:59\n",
      "75%       37.363333    140.970000     38.000000  2014-08-08 03:47:35.750000128\n",
      "max       55.956667    158.505000    695.000000            2022-10-04 16:19:19\n",
      "std        3.805858      4.841526     35.939425                            NaN\n"
     ]
    }
   ],
   "execution_count": 8
  },
  {
   "metadata": {
    "ExecuteTime": {
     "end_time": "2025-01-13T12:32:25.379902Z",
     "start_time": "2025-01-13T12:32:25.350904Z"
    }
   },
   "cell_type": "code",
   "source": [
    "# Step 5: Feature engineering\n",
    "jma_df['Year'] = jma_df['Datetime'].dt.year\n",
    "jma_df['Month'] = jma_df['Datetime'].dt.month\n",
    "jma_df['Day'] = jma_df['Datetime'].dt.day\n",
    "jma_df['Hour'] = jma_df['Datetime'].dt.hour\n",
    "jma_df['DayOfWeek'] = jma_df['Datetime'].dt.dayofweek\n",
    "jma_df['TimeDiff'] = (jma_df['Datetime'] - jma_df['Datetime'].shift(1)).dt.total_seconds().fillna(0)"
   ],
   "id": "932e6695551913f8",
   "outputs": [],
   "execution_count": 9
  },
  {
   "metadata": {
    "ExecuteTime": {
     "end_time": "2025-01-13T12:32:27.034715Z",
     "start_time": "2025-01-13T12:32:27.008713Z"
    }
   },
   "cell_type": "code",
   "source": [
    "jma_df['Minutes'] = jma_df['Datetime'].dt.minute\n",
    "#show the data\n",
    "print(jma_df.head())"
   ],
   "id": "2d444b401cadb739",
   "outputs": [
    {
     "name": "stdout",
     "output_type": "stream",
     "text": [
      "    Latitude   Longitude  Depth Magnitude            Datetime  Year  Month  \\\n",
      "0  35.338333  133.211667     12       3.6 1985-12-31 02:26:48  1985     12   \n",
      "1  36.406667  140.696667     55       3.3 1985-12-30 19:11:46  1985     12   \n",
      "2  37.210000  139.936667      6       3.5 1985-12-30 15:56:17  1985     12   \n",
      "3  27.968333  129.665000      0       4.2 1985-12-30 15:20:15  1985     12   \n",
      "4  42.888333  145.445000     35       3.7 1985-12-29 09:22:20  1985     12   \n",
      "\n",
      "   Day  Hour  DayOfWeek  TimeDiff  Minutes  \n",
      "0   31     2          1       0.0       26  \n",
      "1   30    19          0  -26102.0       11  \n",
      "2   30    15          0  -11729.0       56  \n",
      "3   30    15          0   -2162.0       20  \n",
      "4   29     9          6 -107875.0       22  \n"
     ]
    }
   ],
   "execution_count": 10
  },
  {
   "metadata": {
    "ExecuteTime": {
     "end_time": "2025-01-13T12:32:28.078150Z",
     "start_time": "2025-01-13T12:32:28.052308Z"
    }
   },
   "cell_type": "code",
   "source": [
    "# Drop the `Datetime` column (optional, as time features are extracted)\n",
    "jma_df = jma_df.drop(columns=['Datetime'])\n",
    "print(jma_df.head())"
   ],
   "id": "a5613effeb0ab51b",
   "outputs": [
    {
     "name": "stdout",
     "output_type": "stream",
     "text": [
      "    Latitude   Longitude  Depth Magnitude  Year  Month  Day  Hour  DayOfWeek  \\\n",
      "0  35.338333  133.211667     12       3.6  1985     12   31     2          1   \n",
      "1  36.406667  140.696667     55       3.3  1985     12   30    19          0   \n",
      "2  37.210000  139.936667      6       3.5  1985     12   30    15          0   \n",
      "3  27.968333  129.665000      0       4.2  1985     12   30    15          0   \n",
      "4  42.888333  145.445000     35       3.7  1985     12   29     9          6   \n",
      "\n",
      "   TimeDiff  Minutes  \n",
      "0       0.0       26  \n",
      "1  -26102.0       11  \n",
      "2  -11729.0       56  \n",
      "3   -2162.0       20  \n",
      "4 -107875.0       22  \n"
     ]
    }
   ],
   "execution_count": 11
  },
  {
   "metadata": {
    "ExecuteTime": {
     "end_time": "2025-01-13T12:32:28.783590Z",
     "start_time": "2025-01-13T12:32:28.770587Z"
    }
   },
   "cell_type": "code",
   "source": [
    "# Step 6: Prepare target and features\n",
    "X_jma = jma_df.drop(columns=['Magnitude'])\n",
    "y_jma = jma_df['Magnitude']"
   ],
   "id": "320a60f3d8cbc4ee",
   "outputs": [],
   "execution_count": 12
  },
  {
   "metadata": {
    "ExecuteTime": {
     "end_time": "2025-01-13T12:32:29.942606Z",
     "start_time": "2025-01-13T12:32:29.930595Z"
    }
   },
   "cell_type": "code",
   "source": [
    "#show the data\n",
    "print(X_jma.head())"
   ],
   "id": "202084027a2d9eb4",
   "outputs": [
    {
     "name": "stdout",
     "output_type": "stream",
     "text": [
      "    Latitude   Longitude  Depth  Year  Month  Day  Hour  DayOfWeek  TimeDiff  \\\n",
      "0  35.338333  133.211667     12  1985     12   31     2          1       0.0   \n",
      "1  36.406667  140.696667     55  1985     12   30    19          0  -26102.0   \n",
      "2  37.210000  139.936667      6  1985     12   30    15          0  -11729.0   \n",
      "3  27.968333  129.665000      0  1985     12   30    15          0   -2162.0   \n",
      "4  42.888333  145.445000     35  1985     12   29     9          6 -107875.0   \n",
      "\n",
      "   Minutes  \n",
      "0       26  \n",
      "1       11  \n",
      "2       56  \n",
      "3       20  \n",
      "4       22  \n"
     ]
    }
   ],
   "execution_count": 13
  },
  {
   "metadata": {
    "ExecuteTime": {
     "end_time": "2025-01-13T12:32:30.811776Z",
     "start_time": "2025-01-13T12:32:30.800663Z"
    }
   },
   "cell_type": "code",
   "source": [
    "# show the data\n",
    "print(y_jma.head())"
   ],
   "id": "880ee0a17b523d10",
   "outputs": [
    {
     "name": "stdout",
     "output_type": "stream",
     "text": [
      "0    3.6\n",
      "1    3.3\n",
      "2    3.5\n",
      "3    4.2\n",
      "4    3.7\n",
      "Name: Magnitude, dtype: object\n"
     ]
    }
   ],
   "execution_count": 14
  },
  {
   "metadata": {
    "ExecuteTime": {
     "end_time": "2025-01-13T12:32:31.607408Z",
     "start_time": "2025-01-13T12:32:31.599394Z"
    }
   },
   "cell_type": "code",
   "source": [
    "print(f\"Type of y_jma_transformed: {y_jma.dtype}\")\n",
    "print(y_jma[:5])  # Display the first 5 labels for inspection"
   ],
   "id": "c4d924dee5b59b09",
   "outputs": [
    {
     "name": "stdout",
     "output_type": "stream",
     "text": [
      "Type of y_jma_transformed: object\n",
      "0    3.6\n",
      "1    3.3\n",
      "2    3.5\n",
      "3    4.2\n",
      "4    3.7\n",
      "Name: Magnitude, dtype: object\n"
     ]
    }
   ],
   "execution_count": 15
  },
  {
   "metadata": {
    "ExecuteTime": {
     "end_time": "2025-01-13T12:32:32.623623Z",
     "start_time": "2025-01-13T12:32:32.612122Z"
    }
   },
   "cell_type": "code",
   "source": [
    "# Ensure y_jma_transformed is in a numeric format\n",
    "y_jma = y_jma.astype(float)\n",
    "\n",
    "# Verify the new data type\n",
    "print(f\"New type of y_jma: {y_jma.dtype}\")"
   ],
   "id": "6643f22e3fdbd2a5",
   "outputs": [
    {
     "name": "stdout",
     "output_type": "stream",
     "text": [
      "New type of y_jma: float64\n"
     ]
    }
   ],
   "execution_count": 16
  },
  {
   "metadata": {
    "ExecuteTime": {
     "end_time": "2025-01-13T12:32:34.928602Z",
     "start_time": "2025-01-13T12:32:34.917598Z"
    }
   },
   "cell_type": "code",
   "source": [
    "print(\"Original shape of x:\", X_jma.shape)\n",
    "print(\"Original shape of y:\", y_jma.shape)"
   ],
   "id": "3c5a50fe4714a406",
   "outputs": [
    {
     "name": "stdout",
     "output_type": "stream",
     "text": [
      "Original shape of x: (85334, 10)\n",
      "Original shape of y: (85334,)\n"
     ]
    }
   ],
   "execution_count": 17
  },
  {
   "metadata": {
    "ExecuteTime": {
     "end_time": "2025-01-13T12:32:38.452603Z",
     "start_time": "2025-01-13T12:32:38.441085Z"
    }
   },
   "cell_type": "code",
   "source": [
    "# Step 7: Reshape for CNN-GRU (3D)\n",
    "import numpy as np\n",
    "import pandas as pd\n",
    "\n",
    "def create_sliding_window(data, labels, window_size):\n",
    "    \"\"\"\n",
    "    Create sliding windows for data and corresponding labels.\n",
    "\n",
    "    Args:\n",
    "        data (numpy.ndarray or pandas.DataFrame): Input features with shape (n_samples, n_features).\n",
    "        labels (pandas.Series): Corresponding labels as a pandas.Series.\n",
    "        window_size (int): The number of time steps for each sliding window.\n",
    "\n",
    "    Returns:\n",
    "        tuple: Transformed data and labels in the shape (n_windows, window_size, n_features) and (n_windows,).\n",
    "    \"\"\"\n",
    "    # Reset indices for labels to ensure numeric indexing\n",
    "    labels = labels.reset_index(drop=True)\n",
    "\n",
    "    x_seq = []\n",
    "    y_seq = []\n",
    "\n",
    "    # Iterate to create sliding windows\n",
    "    for i in range(len(data) - window_size + 1):\n",
    "        x_seq.append(data[i:i + window_size])  # Append sliding window for features\n",
    "        y_seq.append(labels[i + window_size - 1])  # Append corresponding label (last step in window)\n",
    "\n",
    "    return np.array(x_seq), np.array(y_seq)"
   ],
   "id": "93e6f787fcaa51e9",
   "outputs": [],
   "execution_count": 18
  },
  {
   "metadata": {
    "ExecuteTime": {
     "end_time": "2025-01-13T12:32:48.923036Z",
     "start_time": "2025-01-13T12:32:39.767039Z"
    }
   },
   "cell_type": "code",
   "source": [
    "# Example usage for debugging\n",
    "# Assuming X_jma is a numpy array or pandas DataFrame and y_jma a pandas Series\n",
    "window_size = 10  # Number of time steps\n",
    "X_jma, y_jma= create_sliding_window(X_jma, y_jma, window_size)\n",
    "\n",
    "print(f\"New X_jma shape: {X_jma.shape}\")  # Outputs new shape\n",
    "print(f\"New y_jma shape: {y_jma.shape}\")  # Outputs new shape"
   ],
   "id": "d15e69bd7fd84f5e",
   "outputs": [
    {
     "name": "stdout",
     "output_type": "stream",
     "text": [
      "New X_jma shape: (85325, 10, 10)\n",
      "New y_jma shape: (85325,)\n"
     ]
    }
   ],
   "execution_count": 19
  },
  {
   "metadata": {
    "ExecuteTime": {
     "end_time": "2025-01-13T12:32:51.343962Z",
     "start_time": "2025-01-13T12:32:51.205652Z"
    }
   },
   "cell_type": "code",
   "source": [
    "# Save the preprocessed data New X_jma shape: (85332, 3, 10) New y_jma shape: (85332,)\n",
    "np.save('X_jma.npy', X_jma)\n",
    "np.save('y_jma.npy', y_jma)\n",
    "\n",
    "print(\"Preprocessing complete. Data saved.\")\n",
    "#show the data shape\n",
    "print(X_jma.shape)\n",
    "print(y_jma.shape)"
   ],
   "id": "af7ebdee44bac525",
   "outputs": [
    {
     "name": "stdout",
     "output_type": "stream",
     "text": [
      "Preprocessing complete. Data saved.\n",
      "(85325, 10, 10)\n",
      "(85325,)\n"
     ]
    }
   ],
   "execution_count": 20
  },
  {
   "metadata": {
    "ExecuteTime": {
     "end_time": "2024-12-22T10:33:18.472528Z",
     "start_time": "2024-12-22T10:33:18.467025Z"
    }
   },
   "cell_type": "code",
   "source": [
    "# Check if y_jma is a pandas DataFrame or Series\n",
    "if not isinstance(y_jma, np.ndarray):\n",
    "    # Convert DataFrame or Series to NumPy array if needed\n",
    "    y_jma = y_jma.to_numpy()\n",
    "\n",
    "# Reshape y_jma to (85334, 1) to match the model output shape\n",
    "y_jma = y_jma.reshape(-1, 1)\n",
    "\n",
    "# Verify the new shape\n",
    "print(\"Reshaped y_jma:\", y_jma.shape)"
   ],
   "id": "333800cf58ae63ea",
   "outputs": [
    {
     "name": "stdout",
     "output_type": "stream",
     "text": [
      "Reshaped y_jma: (85325, 1)\n"
     ]
    }
   ],
   "execution_count": 111
  },
  {
   "metadata": {
    "ExecuteTime": {
     "end_time": "2024-12-22T10:33:30.385598Z",
     "start_time": "2024-12-22T10:33:30.369650Z"
    }
   },
   "cell_type": "code",
   "source": [
    "#show the data shape\n",
    "print(X_jma.shape)\n",
    "print(y_jma.shape)"
   ],
   "id": "16e3c166d084f81c",
   "outputs": [
    {
     "name": "stdout",
     "output_type": "stream",
     "text": [
      "(85325, 10, 10)\n",
      "(85325, 1)\n"
     ]
    }
   ],
   "execution_count": 112
  },
  {
   "metadata": {
    "ExecuteTime": {
     "end_time": "2024-12-22T10:33:44.381430Z",
     "start_time": "2024-12-22T10:33:44.255288Z"
    }
   },
   "cell_type": "code",
   "source": [
    "# Save preprocessed data\n",
    "np.save('X_jma_cnn_gru.npy', X_jma)\n",
    "np.save('y_jma_cnn_gru.npy', y_jma)\n",
    "\n",
    "print(\"Preprocessing complete. Data saved.\")\n",
    "\n",
    "#show the data shape\n",
    "print(X_jma.shape)\n",
    "print(y_jma.shape)"
   ],
   "id": "3c7abba896ce93c3",
   "outputs": [
    {
     "name": "stdout",
     "output_type": "stream",
     "text": [
      "Preprocessing complete. Data saved.\n",
      "(85325, 10, 10)\n",
      "(85325, 1)\n"
     ]
    }
   ],
   "execution_count": 113
  },
  {
   "metadata": {
    "ExecuteTime": {
     "end_time": "2024-12-22T10:33:51.698132Z",
     "start_time": "2024-12-22T10:33:51.653221Z"
    }
   },
   "cell_type": "code",
   "source": [
    "import numpy as np\n",
    "\n",
    "# Check the saved data shape\n",
    "X_jma = np.load('X_jma_cnn_gru.npy')  # Loading the first array\n",
    "\n",
    "# Enable allow_pickle=True to properly load object arrays\n",
    "y_jma = np.load('y_jma_cnn_gru.npy', allow_pickle=True)\n",
    "\n",
    "print(\"Loaded X_jma shape:\", X_jma.shape)\n",
    "print(\"Loaded y_jma shape:\", y_jma.shape)"
   ],
   "id": "7ea3fbec6ae5aacd",
   "outputs": [
    {
     "name": "stdout",
     "output_type": "stream",
     "text": [
      "Loaded X_jma shape: (85325, 10, 10)\n",
      "Loaded y_jma shape: (85325, 1)\n"
     ]
    }
   ],
   "execution_count": 114
  },
  {
   "metadata": {
    "ExecuteTime": {
     "end_time": "2024-12-22T09:41:49.840228Z",
     "start_time": "2024-12-22T09:41:49.824433Z"
    }
   },
   "cell_type": "code",
   "source": "",
   "id": "724e743321e75b08",
   "outputs": [],
   "execution_count": null
  },
  {
   "metadata": {
    "ExecuteTime": {
     "end_time": "2025-01-13T12:32:58.022396Z",
     "start_time": "2025-01-13T12:32:57.416096Z"
    }
   },
   "cell_type": "code",
   "source": [
    "import matplotlib.pyplot as plt\n",
    "\n",
    "# Assuming `jma_df` is already loaded as per the provided structure\n",
    "\n",
    "# Filter data for Japan region (approximate latitude and longitude bounds)\n",
    "japan_data = jma_df[(jma_df['Latitude'] >= 24) & (jma_df['Latitude'] <= 46) &\n",
    "                    (jma_df['Longitude'] >= 122) & (jma_df['Longitude'] <= 153)]\n",
    "\n",
    "# Plotting the earthquake distribution\n",
    "plt.figure(figsize=(8, 6))\n",
    "plt.scatter(japan_data['Longitude'], japan_data['Latitude'], s=1, color='blue', label='Earthquakes')\n",
    "plt.xlabel('Longitude')\n",
    "plt.ylabel('Latitude')\n",
    "plt.title('Geographic Distribution of Earthquakes in Japan')\n",
    "plt.legend()\n",
    "plt.grid(True)\n",
    "plt.show()"
   ],
   "id": "e1a945e48158bce9",
   "outputs": [
    {
     "data": {
      "text/plain": [
       "<Figure size 800x600 with 1 Axes>"
      ],
      "image/png": "[encoded data removed]"
     },
     "metadata": {},
     "output_type": "display_data"
    }
   ],
   "execution_count": 21
  },
  {
   "metadata": {
    "ExecuteTime": {
     "end_time": "2025-01-14T01:52:54.781220Z",
     "start_time": "2025-01-14T01:52:54.550876Z"
    }
   },
   "cell_type": "code",
   "source": "# save the data\n",
   "id": "c41834bc38cd6f54",
   "outputs": [],
   "execution_count": 22
  }
 ],
 "metadata": {
  "kernelspec": {
   "display_name": "Python 3",
   "language": "python",
   "name": "python3"
  },
  "language_info": {
   "codemirror_mode": {
    "name": "ipython",
    "version": 2
   },
   "file_extension": ".py",
   "mimetype": "text/x-python",
   "name": "python",
   "nbconvert_exporter": "python",
   "pygments_lexer": "ipython2",
   "version": "2.7.6"
  }
 },
 "nbformat": 4,
 "nbformat_minor": 5
}
