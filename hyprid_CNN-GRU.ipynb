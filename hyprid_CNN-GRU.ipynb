{
 "cells": [
  {
   "metadata": {},
   "cell_type": "markdown",
   "source": "# Set Up Required Libraries and Data",
   "id": "9b562b65f53eda71"
  },
  {
   "cell_type": "code",
   "id": "ae4a7be21b729967",
   "metadata": {
    "ExecuteTime": {
     "end_time": "2024-11-16T08:54:28.814208Z",
     "start_time": "2024-11-16T08:54:28.798507Z"
    }
   },
   "source": [
    "# Import necessary libraries\n",
    "import pandas as pd\n",
    "import numpy as np\n",
    "from sklearn.preprocessing import MinMaxScaler\n",
    "import tensorflow as tf\n",
    "from tensorflow.keras.models import Sequential\n",
    "from tensorflow.keras.layers import Conv1D, MaxPooling1D, GRU, Dense, Dropout"
   ],
   "outputs": [],
   "execution_count": 18
  },
  {
   "metadata": {
    "ExecuteTime": {
     "end_time": "2024-11-16T08:54:29.203003Z",
     "start_time": "2024-11-16T08:54:29.188977Z"
    }
   },
   "cell_type": "code",
   "source": [
    "from tensorflow.python.client import device_lib \n",
    "print(device_lib.list_local_devices())"
   ],
   "id": "93695e237bc4b008",
   "outputs": [
    {
     "name": "stdout",
     "output_type": "stream",
     "text": [
      "[name: \"/device:CPU:0\"\n",
      "device_type: \"CPU\"\n",
      "memory_limit: 268435456\n",
      "locality {\n",
      "}\n",
      "incarnation: 18356293079065012090\n",
      "]\n"
     ]
    }
   ],
   "execution_count": 19
  },
  {
   "metadata": {
    "ExecuteTime": {
     "end_time": "2024-11-16T08:54:30.713184Z",
     "start_time": "2024-11-16T08:54:30.697507Z"
    }
   },
   "cell_type": "code",
   "source": [
    "import tensorflow as tf\n",
    "from tensorflow.keras.models import Sequential\n",
    "from tensorflow.keras.layers import Conv1D, MaxPooling1D, GRU, Dense, Flatten, Dropout, BatchNormalization\n",
    "from tensorflow.keras.optimizers import Adam"
   ],
   "id": "d1c39847b59e1dea",
   "outputs": [],
   "execution_count": 20
  },
  {
   "metadata": {
    "ExecuteTime": {
     "end_time": "2024-11-16T08:55:01.093514Z",
     "start_time": "2024-11-16T08:55:00.964197Z"
    }
   },
   "cell_type": "code",
   "source": [
    "import pandas as pd\n",
    "\n",
    "# Load the uploaded CSV file\n",
    "file_path = 'BMKG_features.csv'\n",
    "data = pd.read_csv(file_path)\n",
    "\n",
    "# Display the first few rows to understand the structure of the data\n",
    "data.head()"
   ],
   "id": "e3fc338a9d261c5a",
   "outputs": [
    {
     "data": {
      "text/plain": [
       "   Latitude  Longitude     Depth  Magnitude                 Datetime  Year  \\\n",
       "0     -9.18     119.06  0.010695   0.565217  2008-11-01 21:02:43.058  2008   \n",
       "1     -6.55     129.64  0.010695   0.521739  2008-11-01 20:58:50.248  2008   \n",
       "2     -7.01     106.63  0.159091   0.391304  2008-11-01 17:43:12.941  2008   \n",
       "3     -3.30     127.85  0.010695   0.318841  2008-11-01 16:24:14.755  2008   \n",
       "4     -6.41     129.54  0.090909   0.478261  2008-11-01 16:20:37.327  2008   \n",
       "\n",
       "   Month  Day  DayOfWeek  Hour MagnitudeCategory  TimeDiff  \n",
       "0     11    1          5    21               Low  0.000000  \n",
       "1     11    1          5    20               Low -0.064669  \n",
       "2     11    1          5    17               Low -3.260363  \n",
       "3     11    1          5    16               Low -1.316163  \n",
       "4     11    1          5    16               Low -0.060397  "
      ],
      "text/html": [
       "<div>\n",
       "<style scoped>\n",
       "    .dataframe tbody tr th:only-of-type {\n",
       "        vertical-align: middle;\n",
       "    }\n",
       "\n",
       "    .dataframe tbody tr th {\n",
       "        vertical-align: top;\n",
       "    }\n",
       "\n",
       "    .dataframe thead th {\n",
       "        text-align: right;\n",
       "    }\n",
       "</style>\n",
       "<table border=\"1\" class=\"dataframe\">\n",
       "  <thead>\n",
       "    <tr style=\"text-align: right;\">\n",
       "      <th></th>\n",
       "      <th>Latitude</th>\n",
       "      <th>Longitude</th>\n",
       "      <th>Depth</th>\n",
       "      <th>Magnitude</th>\n",
       "      <th>Datetime</th>\n",
       "      <th>Year</th>\n",
       "      <th>Month</th>\n",
       "      <th>Day</th>\n",
       "      <th>DayOfWeek</th>\n",
       "      <th>Hour</th>\n",
       "      <th>MagnitudeCategory</th>\n",
       "      <th>TimeDiff</th>\n",
       "    </tr>\n",
       "  </thead>\n",
       "  <tbody>\n",
       "    <tr>\n",
       "      <th>0</th>\n",
       "      <td>-9.18</td>\n",
       "      <td>119.06</td>\n",
       "      <td>0.010695</td>\n",
       "      <td>0.565217</td>\n",
       "      <td>2008-11-01 21:02:43.058</td>\n",
       "      <td>2008</td>\n",
       "      <td>11</td>\n",
       "      <td>1</td>\n",
       "      <td>5</td>\n",
       "      <td>21</td>\n",
       "      <td>Low</td>\n",
       "      <td>0.000000</td>\n",
       "    </tr>\n",
       "    <tr>\n",
       "      <th>1</th>\n",
       "      <td>-6.55</td>\n",
       "      <td>129.64</td>\n",
       "      <td>0.010695</td>\n",
       "      <td>0.521739</td>\n",
       "      <td>2008-11-01 20:58:50.248</td>\n",
       "      <td>2008</td>\n",
       "      <td>11</td>\n",
       "      <td>1</td>\n",
       "      <td>5</td>\n",
       "      <td>20</td>\n",
       "      <td>Low</td>\n",
       "      <td>-0.064669</td>\n",
       "    </tr>\n",
       "    <tr>\n",
       "      <th>2</th>\n",
       "      <td>-7.01</td>\n",
       "      <td>106.63</td>\n",
       "      <td>0.159091</td>\n",
       "      <td>0.391304</td>\n",
       "      <td>2008-11-01 17:43:12.941</td>\n",
       "      <td>2008</td>\n",
       "      <td>11</td>\n",
       "      <td>1</td>\n",
       "      <td>5</td>\n",
       "      <td>17</td>\n",
       "      <td>Low</td>\n",
       "      <td>-3.260363</td>\n",
       "    </tr>\n",
       "    <tr>\n",
       "      <th>3</th>\n",
       "      <td>-3.30</td>\n",
       "      <td>127.85</td>\n",
       "      <td>0.010695</td>\n",
       "      <td>0.318841</td>\n",
       "      <td>2008-11-01 16:24:14.755</td>\n",
       "      <td>2008</td>\n",
       "      <td>11</td>\n",
       "      <td>1</td>\n",
       "      <td>5</td>\n",
       "      <td>16</td>\n",
       "      <td>Low</td>\n",
       "      <td>-1.316163</td>\n",
       "    </tr>\n",
       "    <tr>\n",
       "      <th>4</th>\n",
       "      <td>-6.41</td>\n",
       "      <td>129.54</td>\n",
       "      <td>0.090909</td>\n",
       "      <td>0.478261</td>\n",
       "      <td>2008-11-01 16:20:37.327</td>\n",
       "      <td>2008</td>\n",
       "      <td>11</td>\n",
       "      <td>1</td>\n",
       "      <td>5</td>\n",
       "      <td>16</td>\n",
       "      <td>Low</td>\n",
       "      <td>-0.060397</td>\n",
       "    </tr>\n",
       "  </tbody>\n",
       "</table>\n",
       "</div>"
      ]
     },
     "execution_count": 21,
     "metadata": {},
     "output_type": "execute_result"
    }
   ],
   "execution_count": 21
  },
  {
   "metadata": {
    "ExecuteTime": {
     "end_time": "2024-11-16T09:04:18.608799Z",
     "start_time": "2024-11-16T09:04:18.587233Z"
    }
   },
   "cell_type": "code",
   "source": [
    "from sklearn.model_selection import train_test_split\n",
    "\n",
    "# Selecting all columns except the target (assuming 'MagnitudeCategory' is the target)\n",
    "X = data.drop(columns=['MagnitudeCategory', 'Datetime', 'Latitude', 'Longitude', 'Depth', 'Magnitude', 'Day', 'TimeDiff', 'Hour', 'Month', 'DayOfWeek', 'Year'])  # Features\n",
    "y = data['MagnitudeCategory']  # Target\n",
    "\n",
    "# Splitting the dataset into training and testing sets (80% training, 20% testing)\n",
    "X_train, X_test, y_train, y_test = train_test_split(X, y, test_size=0.2, random_state=42)\n",
    "\n",
    "# Converting the datasets to NumPy arrays\n",
    "X_train_np = X_train.to_numpy()\n",
    "X_test_np = X_test.to_numpy()\n",
    "y_train_np = y_train.to_numpy()\n",
    "y_test_np = y_test.to_numpy()\n",
    "\n",
    "X_train_np, X_test_np, y_train_np, y_test_np\n",
    "\n",
    "# Save the NumPy arrays to files\n",
    "np.save('X_train_bmkg.npy', X_train_np)\n",
    "np.save('X_test_bmkg.npy', X_test_np)\n",
    "np.save('y_train_bmkg.npy', y_train_np)\n",
    "np.save('y_test_bmkg.npy', y_test_np)\n",
    "\n",
    "# Display the shapes of the NumPy arrays\n",
    "print(\"X_train shape:\", X_train_np.shape)\n",
    "print(\"X_test shape:\", X_test_np.shape)\n",
    "print(\"y_train shape:\", y_train_np.shape)\n",
    "print(\"y_test shape:\", y_test_np.shape)"
   ],
   "id": "d456aaf8da27a297",
   "outputs": [
    {
     "name": "stdout",
     "output_type": "stream",
     "text": [
      "X_train shape: (74309, 0)\n",
      "X_test shape: (18578, 0)\n",
      "y_train shape: (74309,)\n",
      "y_test shape: (18578,)\n"
     ]
    }
   ],
   "execution_count": 23
  },
  {
   "metadata": {
    "ExecuteTime": {
     "end_time": "2024-11-16T07:02:49.688049Z",
     "start_time": "2024-11-16T07:02:49.663875Z"
    }
   },
   "cell_type": "code",
   "source": [
    "# Define the CNN-GRU model architecture\n",
    "def create_cnn_gru_model(input_shape):\n",
    "    model = Sequential()\n",
    "\n",
    "    # Convolutional Layers\n",
    "    model.add(Conv1D(filters=64, kernel_size=3, activation='relu', input_shape=input_shape))\n",
    "    model.add(BatchNormalization())\n",
    "    model.add(MaxPooling1D(pool_size=2))\n",
    "\n",
    "    model.add(Conv1D(filters=128, kernel_size=3, activation='relu'))\n",
    "    model.add(BatchNormalization())\n",
    "    model.add(MaxPooling1D(pool_size=2))\n",
    "\n",
    "    # GRU Layer\n",
    "    model.add(GRU(units=64, return_sequences=False))\n",
    "    model.add(Dropout(0.2))\n",
    "    model.add(GRU(units=32))\n",
    "\n",
    "    # Dense Layers\n",
    "    model.add(Dense(units=64, activation='relu'))\n",
    "    model.add(Dropout(0.3))\n",
    "    model.add(Dense(units=1, activation='linear'))  # Output layer for regression task\n",
    "\n",
    "    # Compile the model\n",
    "    model.compile(optimizer=Adam(learning_rate=0.001), loss='mse', metrics=['mae'])\n",
    "\n",
    "    return model"
   ],
   "id": "7c5ca04d1b4ba9f3",
   "outputs": [],
   "execution_count": 15
  },
  {
   "metadata": {
    "ExecuteTime": {
     "end_time": "2024-11-16T07:02:58.182103Z",
     "start_time": "2024-11-16T07:02:58.178975Z"
    }
   },
   "cell_type": "code",
   "source": "",
   "id": "910b9108ec636da3",
   "outputs": [],
   "execution_count": null
  },
  {
   "metadata": {
    "ExecuteTime": {
     "end_time": "2024-11-16T07:01:25.402746Z",
     "start_time": "2024-11-16T07:01:25.301306Z"
    }
   },
   "cell_type": "code",
   "source": [
    "# convert data from csv to numpy array\n",
    "X_train_bmkg = pd.read_csv(\"X_train_bmkg.csv\")\n",
    "X_test_bmkg = pd.read_csv(\"X_test_bmkg.csv\")\n",
    "y_train_bmkg = pd.read_csv(\"y_train_bmkg.csv\")\n",
    "y_test_bmkg = pd.read_csv(\"y_test_bmkg.csv\")\n",
    "\n",
    "X_train_jma = pd.read_csv(\"X_train_jma.csv\")\n",
    "X_test_jma = pd.read_csv(\"X_test_jma.csv\")\n",
    "y_train_jma = pd.read_csv(\"y_train_jma.csv\")\n",
    "y_test_jma = pd.read_csv(\"y_test_jma.csv\")\n",
    "\n",
    "X_train_bmkg = X_train_bmkg.values\n",
    "X_test_bmkg = X_test_bmkg.values\n",
    "y_train_bmkg = y_train_bmkg.values\n",
    "y_test_bmkg = y_test_bmkg.values\n",
    "\n",
    "X_train_jma = X_train_jma.values\n",
    "X_test_jma = X_test_jma.values\n",
    "y_train_jma = y_train_jma.values\n",
    "y_test_jma = y_test_jma.values\n",
    "\n",
    "# Display the first few rows of each dataset to verify\n",
    "print(\"BMKG Training Data (X_train_bmkg):\")\n",
    "print(X_train_bmkg)\n",
    "print(\"\\nBMKG Training Labels (y_train_bmkg):\")\n",
    "print(y_train_bmkg)\n",
    "\n",
    "print(\"\\nJMA Training Data (X_train_jma):\")\n",
    "print(X_train_jma)\n",
    "print(\"\\nJMA Training Labels (y_train_jma):\")\n",
    "print(y_train_jma)\n",
    "\n",
    "# save the data\n",
    "np.save('X_train_bmkg.npy', X_train_bmkg)\n",
    "np.save('X_test_bmkg.npy', X_test_bmkg)\n",
    "np.save('y_train_bmkg.npy', y_train_bmkg)\n",
    "np.save('y_test_bmkg.npy', y_test_bmkg)\n",
    "\n",
    "np.save('X_train_jma.npy', X_train_jma)\n",
    "np.save('X_test_jma.npy', X_test_jma)\n",
    "np.save('y_train_jma.npy', y_train_jma)\n",
    "np.save('y_test_jma.npy', y_test_jma)"
   ],
   "id": "46a8abd0566eb572",
   "outputs": [
    {
     "name": "stdout",
     "output_type": "stream",
     "text": [
      "BMKG Training Data (X_train_bmkg):\n",
      "[[-4.64000000e+00  1.01990000e+02  1.20320856e-02  5.36231884e-01]\n",
      " [-6.89000000e+00  1.30030000e+02  1.75133690e-01  4.49275362e-01]\n",
      " [-2.41000000e+00  1.26870000e+02  1.06951872e-02  4.63768116e-01]\n",
      " ...\n",
      " [-9.21000000e+00  1.21300000e+02  1.27005348e-01  4.05797101e-01]\n",
      " [ 1.34000000e+00  9.67600000e+01  9.62566845e-02  3.91304348e-01]\n",
      " [-5.10000000e+00  1.14830000e+02  1.85828877e-01  5.65217391e-01]]\n",
      "\n",
      "BMKG Training Labels (y_train_bmkg):\n",
      "[[0.53623188]\n",
      " [0.44927536]\n",
      " [0.46376812]\n",
      " ...\n",
      " [0.4057971 ]\n",
      " [0.39130435]\n",
      " [0.56521739]]\n",
      "\n",
      "JMA Training Data (X_train_jma):\n",
      "[[ 38.925      141.66166667  65.           3.7       ]\n",
      " [ 37.28333333 140.00166667   9.           2.1       ]\n",
      " [ 38.34166667 141.62833333  55.           3.9       ]\n",
      " ...\n",
      " [ 42.635      141.95333333  29.           3.6       ]\n",
      " [ 34.65333333 139.42         3.           4.2       ]\n",
      " [ 42.51833333 140.84333333   7.           2.3       ]]\n",
      "\n",
      "JMA Training Labels (y_train_jma):\n",
      "[[3.7]\n",
      " [2.1]\n",
      " [3.9]\n",
      " ...\n",
      " [3.6]\n",
      " [4.2]\n",
      " [2.3]]\n"
     ]
    }
   ],
   "execution_count": 11
  },
  {
   "metadata": {
    "ExecuteTime": {
     "end_time": "2024-11-16T07:01:25.668330Z",
     "start_time": "2024-11-16T07:01:25.650239Z"
    }
   },
   "cell_type": "code",
   "source": [
    "print(\"X_train_bmkg shape:\", X_train_bmkg.shape)\n",
    "print(\"X_test_bmkg shape:\", X_test_bmkg.shape)\n",
    "print(\"y_train_bmkg shape:\", y_train_bmkg.shape)\n",
    "print(\"y_test_bmkg shape:\", y_test_bmkg.shape)\n",
    "\n",
    "print(\"X_train_jma shape:\", X_train_jma.shape)\n",
    "print(\"X_test_jma shape:\", X_test_jma.shape)\n",
    "print(\"y_train_jma shape:\", y_train_jma.shape)\n",
    "print(\"y_test_jma shape:\", y_test_jma.shape)"
   ],
   "id": "3d02cb7835a013ea",
   "outputs": [
    {
     "name": "stdout",
     "output_type": "stream",
     "text": [
      "X_train_bmkg shape: (74309, 4)\n",
      "X_test_bmkg shape: (18578, 4)\n",
      "y_train_bmkg shape: (74309, 1)\n",
      "y_test_bmkg shape: (18578, 1)\n",
      "X_train_jma shape: (68267, 4)\n",
      "X_test_jma shape: (17067, 4)\n",
      "y_train_jma shape: (68267, 1)\n",
      "y_test_jma shape: (17067, 1)\n"
     ]
    }
   ],
   "execution_count": 12
  },
  {
   "metadata": {
    "ExecuteTime": {
     "end_time": "2024-11-16T07:01:26.133337Z",
     "start_time": "2024-11-16T07:01:26.111818Z"
    }
   },
   "cell_type": "code",
   "source": [
    "# Reshape the input data to add a timestep dimension\n",
    "X_train_bmkg = X_train_bmkg.reshape(X_train_bmkg.shape[0], 1, X_train_bmkg.shape[1])  # (samples, timesteps, features)\n",
    "X_test_bmkg = X_test_bmkg.reshape(X_test_bmkg.shape[0], 1, X_test_bmkg.shape[1])      # (samples, timesteps, features)\n",
    "X_train_jma = X_train_jma.reshape(X_train_jma.shape[0], 1, X_train_jma.shape[1])      # (samples, timesteps, features)\n",
    "X_test_jma = X_test_jma.reshape(X_test_jma.shape[0], 1, X_test_jma.shape[1])          # (samples, timesteps, features)\n",
    "\n",
    "# Print the new shapes\n",
    "print(\"X_train_bmkg reshaped:\", X_train_bmkg.shape)  # Expected: (74309, 1, 4)\n",
    "print(\"X_test_bmkg reshaped:\", X_test_bmkg.shape)    # Expected: (18578, 1, 4)\n",
    "print(\"X_train_jma reshaped:\", X_train_jma.shape)    # Expected: (68267, 1, 4)\n",
    "print(\"X_test_jma reshaped:\", X_test_jma.shape)      # Expected: (17067, 1, 4)"
   ],
   "id": "59de1f84b8ffcb63",
   "outputs": [
    {
     "name": "stdout",
     "output_type": "stream",
     "text": [
      "X_train_bmkg reshaped: (74309, 1, 4)\n",
      "X_test_bmkg reshaped: (18578, 1, 4)\n",
      "X_train_jma reshaped: (68267, 1, 4)\n",
      "X_test_jma reshaped: (17067, 1, 4)\n"
     ]
    }
   ],
   "execution_count": 13
  },
  {
   "metadata": {
    "ExecuteTime": {
     "end_time": "2024-11-16T07:04:29.737431Z",
     "start_time": "2024-11-16T07:04:29.705929Z"
    }
   },
   "cell_type": "code",
   "source": [
    "# Load preprocessed datasets\n",
    "import pandas as pd\n",
    "import numpy as np\n",
    "from sklearn.model_selection import train_test_split\n",
    "\n",
    "# Load features and labels\n",
    "X_train_bmkg = np.load('X_train_bmkg.npy')  # Replace with your file path\n",
    "X_test_bmkg = np.load('X_test_bmkg.npy')\n",
    "y_train_bmkg = np.load('y_train_bmkg.npy')\n",
    "y_test_bmkg = np.load('y_test_bmkg.npy')\n",
    "\n",
    "# Get input shape for model\n",
    "input_shape_bmkg = (X_train_bmkg.shape[1], X_train_bmkg.shape[2])  # (timesteps, features)\n",
    "\n",
    "# Build the model\n",
    "cnn_gru_model_bmkg = create_cnn_gru_model(input_shape_bmkg)\n",
    "\n",
    "# Train the model\n",
    "history_bmkg = cnn_gru_model_bmkg.fit(\n",
    "    X_train_bmkg, y_train_bmkg,\n",
    "    validation_split=0.2,\n",
    "    epochs=20,\n",
    "    batch_size=32,\n",
    "    verbose=1\n",
    ")\n"
   ],
   "id": "f9f2c885527a72f0",
   "outputs": [
    {
     "ename": "IndexError",
     "evalue": "tuple index out of range",
     "output_type": "error",
     "traceback": [
      "\u001B[1;31m---------------------------------------------------------------------------\u001B[0m",
      "\u001B[1;31mIndexError\u001B[0m                                Traceback (most recent call last)",
      "\u001B[1;32m<ipython-input-16-7b75375a441c>\u001B[0m in \u001B[0;36m<module>\u001B[1;34m\u001B[0m\n\u001B[0;32m     11\u001B[0m \u001B[1;33m\u001B[0m\u001B[0m\n\u001B[0;32m     12\u001B[0m \u001B[1;31m# Get input shape for model\u001B[0m\u001B[1;33m\u001B[0m\u001B[1;33m\u001B[0m\u001B[1;33m\u001B[0m\u001B[0m\n\u001B[1;32m---> 13\u001B[1;33m \u001B[0minput_shape_bmkg\u001B[0m \u001B[1;33m=\u001B[0m \u001B[1;33m(\u001B[0m\u001B[0mX_train_bmkg\u001B[0m\u001B[1;33m.\u001B[0m\u001B[0mshape\u001B[0m\u001B[1;33m[\u001B[0m\u001B[1;36m1\u001B[0m\u001B[1;33m]\u001B[0m\u001B[1;33m,\u001B[0m \u001B[0mX_train_bmkg\u001B[0m\u001B[1;33m.\u001B[0m\u001B[0mshape\u001B[0m\u001B[1;33m[\u001B[0m\u001B[1;36m2\u001B[0m\u001B[1;33m]\u001B[0m\u001B[1;33m)\u001B[0m  \u001B[1;31m# (timesteps, features)\u001B[0m\u001B[1;33m\u001B[0m\u001B[1;33m\u001B[0m\u001B[0m\n\u001B[0m\u001B[0;32m     14\u001B[0m \u001B[1;33m\u001B[0m\u001B[0m\n\u001B[0;32m     15\u001B[0m \u001B[1;31m# Build the model\u001B[0m\u001B[1;33m\u001B[0m\u001B[1;33m\u001B[0m\u001B[1;33m\u001B[0m\u001B[0m\n",
      "\u001B[1;31mIndexError\u001B[0m: tuple index out of range"
     ]
    }
   ],
   "execution_count": 16
  },
  {
   "metadata": {
    "ExecuteTime": {
     "end_time": "2024-11-16T07:05:43.993019Z",
     "start_time": "2024-11-16T07:05:43.965358Z"
    }
   },
   "cell_type": "code",
   "source": [
    "input_shape = (X_train_bmkg.shape[1], X_train_bmkg.shape[2])\n",
    "\n",
    "model = Sequential()\n",
    "model.add(Conv1D(filters=64, kernel_size=2, activation='relu', input_shape=input_shape))\n",
    "model.add(GRU(64, return_sequences=False))  # Final GRU outputs 2D\n",
    "model.add(Dense(1, activation='linear'))  # Final output layer\n",
    "\n",
    "model.compile(optimizer='adam', loss='mean_squared_error', metrics=['mae'])\n",
    "model.summary()\n",
    "\n",
    "# Train the model\n",
    "history = model.fit(\n",
    "    X_train_bmkg,\n",
    "    y_train_bmkg,\n",
    "    validation_data=(X_test_bmkg, y_test_bmkg),\n",
    "    epochs=20,\n",
    "    batch_size=32\n",
    ")"
   ],
   "id": "a78a0ca9178f2379",
   "outputs": [
    {
     "ename": "IndexError",
     "evalue": "tuple index out of range",
     "output_type": "error",
     "traceback": [
      "\u001B[1;31m---------------------------------------------------------------------------\u001B[0m",
      "\u001B[1;31mIndexError\u001B[0m                                Traceback (most recent call last)",
      "\u001B[1;32m<ipython-input-17-3a1107064c23>\u001B[0m in \u001B[0;36m<module>\u001B[1;34m\u001B[0m\n\u001B[1;32m----> 1\u001B[1;33m \u001B[0minput_shape\u001B[0m \u001B[1;33m=\u001B[0m \u001B[1;33m(\u001B[0m\u001B[0mX_train_bmkg\u001B[0m\u001B[1;33m.\u001B[0m\u001B[0mshape\u001B[0m\u001B[1;33m[\u001B[0m\u001B[1;36m1\u001B[0m\u001B[1;33m]\u001B[0m\u001B[1;33m,\u001B[0m \u001B[0mX_train_bmkg\u001B[0m\u001B[1;33m.\u001B[0m\u001B[0mshape\u001B[0m\u001B[1;33m[\u001B[0m\u001B[1;36m2\u001B[0m\u001B[1;33m]\u001B[0m\u001B[1;33m)\u001B[0m\u001B[1;33m\u001B[0m\u001B[1;33m\u001B[0m\u001B[0m\n\u001B[0m\u001B[0;32m      2\u001B[0m \u001B[1;33m\u001B[0m\u001B[0m\n\u001B[0;32m      3\u001B[0m \u001B[0mmodel\u001B[0m \u001B[1;33m=\u001B[0m \u001B[0mSequential\u001B[0m\u001B[1;33m(\u001B[0m\u001B[1;33m)\u001B[0m\u001B[1;33m\u001B[0m\u001B[1;33m\u001B[0m\u001B[0m\n\u001B[0;32m      4\u001B[0m \u001B[0mmodel\u001B[0m\u001B[1;33m.\u001B[0m\u001B[0madd\u001B[0m\u001B[1;33m(\u001B[0m\u001B[0mConv1D\u001B[0m\u001B[1;33m(\u001B[0m\u001B[0mfilters\u001B[0m\u001B[1;33m=\u001B[0m\u001B[1;36m64\u001B[0m\u001B[1;33m,\u001B[0m \u001B[0mkernel_size\u001B[0m\u001B[1;33m=\u001B[0m\u001B[1;36m2\u001B[0m\u001B[1;33m,\u001B[0m \u001B[0mactivation\u001B[0m\u001B[1;33m=\u001B[0m\u001B[1;34m'relu'\u001B[0m\u001B[1;33m,\u001B[0m \u001B[0minput_shape\u001B[0m\u001B[1;33m=\u001B[0m\u001B[0minput_shape\u001B[0m\u001B[1;33m)\u001B[0m\u001B[1;33m)\u001B[0m\u001B[1;33m\u001B[0m\u001B[1;33m\u001B[0m\u001B[0m\n\u001B[0;32m      5\u001B[0m \u001B[0mmodel\u001B[0m\u001B[1;33m.\u001B[0m\u001B[0madd\u001B[0m\u001B[1;33m(\u001B[0m\u001B[0mGRU\u001B[0m\u001B[1;33m(\u001B[0m\u001B[1;36m64\u001B[0m\u001B[1;33m,\u001B[0m \u001B[0mreturn_sequences\u001B[0m\u001B[1;33m=\u001B[0m\u001B[1;32mFalse\u001B[0m\u001B[1;33m)\u001B[0m\u001B[1;33m)\u001B[0m  \u001B[1;31m# Final GRU outputs 2D\u001B[0m\u001B[1;33m\u001B[0m\u001B[1;33m\u001B[0m\u001B[0m\n",
      "\u001B[1;31mIndexError\u001B[0m: tuple index out of range"
     ]
    }
   ],
   "execution_count": 17
  },
  {
   "metadata": {},
   "cell_type": "code",
   "outputs": [],
   "execution_count": null,
   "source": [
    "# Evaluate the model\n",
    "test_loss_bmkg, test_mae_bmkg = cnn_gru_model_bmkg.evaluate(X_test_bmkg, y_test_bmkg, verbose=1)\n",
    "\n",
    "print(f\"BMKG Dataset - Test Loss (MSE): {test_loss_bmkg}, Test MAE: {test_mae_bmkg}\")\n",
    "\n",
    "# Plot the training history\n",
    "import matplotlib.pyplot as plt\n",
    "\n",
    "# Loss Plot\n",
    "plt.figure(figsize=(10, 5))\n",
    "plt.plot(history_bmkg.history['loss'], label='Train Loss')\n",
    "plt.plot(history_bmkg.history['val_loss'], label='Validation Loss')\n",
    "plt.title('BMKG CNN-GRU Model Loss')\n",
    "plt.xlabel('Epochs')\n",
    "plt.ylabel('Loss')\n",
    "plt.legend()\n",
    "plt.show()\n",
    "\n",
    "# MAE Plot\n",
    "plt.figure(figsize=(10, 5))\n",
    "plt.plot(history_bmkg.history['mae'], label='Train MAE')\n",
    "plt.plot(history_bmkg.history['val_mae'], label='Validation MAE')\n",
    "plt.title('BMKG CNN-GRU Model MAE')\n",
    "plt.xlabel('Epochs')\n",
    "plt.ylabel('MAE')\n",
    "plt.legend()\n",
    "plt.show()\n"
   ],
   "id": "9685754c544cc52c"
  },
  {
   "metadata": {},
   "cell_type": "markdown",
   "source": "# Visualize Training Performance",
   "id": "38be5057e401fac"
  },
  {
   "metadata": {
    "ExecuteTime": {
     "end_time": "2024-11-15T09:41:24.850644Z",
     "start_time": "2024-11-15T09:41:24.782164Z"
    }
   },
   "cell_type": "code",
   "source": [
    "import matplotlib.pyplot as plt\n",
    "\n",
    "# Plot training & validation loss values\n",
    "plt.plot(history.history['loss'])\n",
    "plt.plot(history.history['val_loss'])\n",
    "plt.title('Model loss BMKG')\n",
    "plt.ylabel('Loss')\n",
    "plt.xlabel('Epoch')\n",
    "plt.legend(['Train', 'Validation'], loc='upper right')\n",
    "plt.show()\n"
   ],
   "id": "122aa1f7f72ed5a0",
   "outputs": [
    {
     "data": {
      "text/plain": [
       "<Figure size 432x288 with 1 Axes>"
      ],
      "image/png": "[encoded data removed]"
     },
     "metadata": {
      "needs_background": "light"
     },
     "output_type": "display_data"
    }
   ],
   "execution_count": 14
  },
  {
   "metadata": {
    "ExecuteTime": {
     "end_time": "2024-11-15T09:41:25.495928Z",
     "start_time": "2024-11-15T09:41:25.418034Z"
    }
   },
   "cell_type": "code",
   "source": [
    "# Plot training & validation MAE values\n",
    "plt.plot(history.history['mae'])\n",
    "plt.plot(history.history['val_mae'])\n",
    "plt.title('BMKG Model MAE')\n",
    "plt.ylabel('MAE')\n",
    "plt.xlabel('Epoch')\n",
    "plt.legend(['Train', 'Validation'], loc='upper right')\n",
    "plt.show()\n"
   ],
   "id": "4ca75d17e85bf686",
   "outputs": [
    {
     "data": {
      "text/plain": [
       "<Figure size 432x288 with 1 Axes>"
      ],
      "image/png": "[encoded data removed]"
     },
     "metadata": {
      "needs_background": "light"
     },
     "output_type": "display_data"
    }
   ],
   "execution_count": 15
  },
  {
   "metadata": {
    "ExecuteTime": {
     "end_time": "2024-11-15T09:39:49.257073Z",
     "start_time": "2024-11-15T09:37:42.748305Z"
    }
   },
   "cell_type": "code",
   "source": [
    "# Train the CNN-GRU model on JMA data\n",
    "input_shape = (X_train_jma.shape[1], X_train_jma.shape[2])\n",
    "cnn_gru_model = build_cnn_gru_model(input_shape)\n",
    "history = cnn_gru_model.fit(\n",
    "    X_train_jma, y_train_jma,\n",
    "    epochs=20,            # Adjust based on performance\n",
    "    batch_size=32,        # Can be tuned\n",
    "    validation_data=(X_test_jma, y_test_jma),\n",
    "    verbose=1\n",
    ")\n"
   ],
   "id": "d093c93371e26ceb",
   "outputs": [
    {
     "name": "stdout",
     "output_type": "stream",
     "text": [
      "Train on 68267 samples, validate on 17067 samples\n",
      "Epoch 1/20\n",
      "68267/68267 [==============================] - 7s 109us/sample - loss: 0.3119 - mae: 0.4060 - val_loss: 0.0168 - val_mae: 0.0849\n",
      "Epoch 2/20\n",
      "68267/68267 [==============================] - 6s 87us/sample - loss: 0.1300 - mae: 0.2735 - val_loss: 0.0244 - val_mae: 0.1151\n",
      "Epoch 3/20\n",
      "68267/68267 [==============================] - 6s 87us/sample - loss: 0.0962 - mae: 0.2324 - val_loss: 0.0208 - val_mae: 0.1082\n",
      "Epoch 4/20\n",
      "68267/68267 [==============================] - 6s 90us/sample - loss: 0.0700 - mae: 0.1926 - val_loss: 0.0107 - val_mae: 0.0682\n",
      "Epoch 5/20\n",
      "68267/68267 [==============================] - 6s 89us/sample - loss: 0.0526 - mae: 0.1632 - val_loss: 0.0113 - val_mae: 0.0723\n",
      "Epoch 6/20\n",
      "68267/68267 [==============================] - 6s 89us/sample - loss: 0.0413 - mae: 0.1420 - val_loss: 0.0107 - val_mae: 0.0738\n",
      "Epoch 7/20\n",
      "68267/68267 [==============================] - 6s 90us/sample - loss: 0.0391 - mae: 0.1339 - val_loss: 0.0114 - val_mae: 0.0677\n",
      "Epoch 8/20\n",
      "68267/68267 [==============================] - 6s 94us/sample - loss: 0.0365 - mae: 0.1260 - val_loss: 0.0090 - val_mae: 0.0649\n",
      "Epoch 9/20\n",
      "68267/68267 [==============================] - 7s 98us/sample - loss: 0.0356 - mae: 0.1247 - val_loss: 0.0058 - val_mae: 0.0439\n",
      "Epoch 10/20\n",
      "68267/68267 [==============================] - 6s 91us/sample - loss: 0.0342 - mae: 0.1225 - val_loss: 0.0081 - val_mae: 0.0543\n",
      "Epoch 11/20\n",
      "68267/68267 [==============================] - 6s 87us/sample - loss: 0.0339 - mae: 0.1209 - val_loss: 0.0112 - val_mae: 0.0767\n",
      "Epoch 12/20\n",
      "68267/68267 [==============================] - 6s 92us/sample - loss: 0.0340 - mae: 0.1218 - val_loss: 0.0048 - val_mae: 0.0391\n",
      "Epoch 13/20\n",
      "68267/68267 [==============================] - 6s 95us/sample - loss: 0.0307 - mae: 0.1191 - val_loss: 0.0030 - val_mae: 0.0322\n",
      "Epoch 14/20\n",
      "68267/68267 [==============================] - 6s 94us/sample - loss: 0.0295 - mae: 0.1176 - val_loss: 0.0110 - val_mae: 0.0775\n",
      "Epoch 15/20\n",
      "68267/68267 [==============================] - 6s 93us/sample - loss: 0.0283 - mae: 0.1137 - val_loss: 0.0075 - val_mae: 0.0618\n",
      "Epoch 16/20\n",
      "68267/68267 [==============================] - 6s 93us/sample - loss: 0.0285 - mae: 0.1153 - val_loss: 0.0038 - val_mae: 0.0444\n",
      "Epoch 17/20\n",
      "68267/68267 [==============================] - 6s 94us/sample - loss: 0.0280 - mae: 0.1123 - val_loss: 0.0049 - val_mae: 0.0450\n",
      "Epoch 18/20\n",
      "68267/68267 [==============================] - 6s 93us/sample - loss: 0.0285 - mae: 0.1139 - val_loss: 0.0039 - val_mae: 0.0403\n",
      "Epoch 19/20\n",
      "68267/68267 [==============================] - 6s 93us/sample - loss: 0.0278 - mae: 0.1126 - val_loss: 0.0084 - val_mae: 0.0773\n",
      "Epoch 20/20\n",
      "68267/68267 [==============================] - 6s 94us/sample - loss: 0.0287 - mae: 0.1149 - val_loss: 0.0123 - val_mae: 0.0833\n"
     ]
    }
   ],
   "execution_count": 10
  },
  {
   "metadata": {
    "ExecuteTime": {
     "end_time": "2024-11-15T09:41:29.911684Z",
     "start_time": "2024-11-15T09:41:29.358987Z"
    }
   },
   "cell_type": "code",
   "source": [
    "# Evaluate on JMA test set\n",
    "test_loss, test_mae = cnn_gru_model.evaluate(X_test_jma, y_test_jma, verbose=0)\n",
    "print(f\"Test Loss (MSE): {test_loss}\")\n",
    "print(f\"Test MAE: {test_mae}\")"
   ],
   "id": "96fbb451893150c7",
   "outputs": [
    {
     "name": "stdout",
     "output_type": "stream",
     "text": [
      "Test Loss (MSE): 0.012322406124024788\n",
      "Test MAE: 0.08327645063400269\n"
     ]
    }
   ],
   "execution_count": 16
  },
  {
   "metadata": {
    "ExecuteTime": {
     "end_time": "2024-11-15T09:47:03.576176Z",
     "start_time": "2024-11-15T09:47:03.564487Z"
    }
   },
   "cell_type": "code",
   "source": [
    "# the accuracy percentage of the model on JMA data\n",
    "print(f\"Accuracy: {100 - test_mae}\")"
   ],
   "id": "4cc16e4df2ded114",
   "outputs": [
    {
     "name": "stdout",
     "output_type": "stream",
     "text": [
      "Accuracy: 99.916723549366\n"
     ]
    }
   ],
   "execution_count": 22
  },
  {
   "metadata": {
    "ExecuteTime": {
     "end_time": "2024-11-15T09:41:30.216446Z",
     "start_time": "2024-11-15T09:41:30.154206Z"
    }
   },
   "cell_type": "code",
   "source": [
    "# Plot training & validation loss values\n",
    "plt.plot(history.history['loss'])\n",
    "plt.plot(history.history['val_loss'])\n",
    "plt.title('JMA Model loss')\n",
    "plt.ylabel('Loss')\n",
    "plt.xlabel('Epoch')\n",
    "plt.legend(['Train', 'Validation'], loc='upper right')\n",
    "plt.show()"
   ],
   "id": "cd1aeb4d7339e8bc",
   "outputs": [
    {
     "data": {
      "text/plain": [
       "<Figure size 432x288 with 1 Axes>"
      ],
      "image/png": "[encoded data removed]"
     },
     "metadata": {
      "needs_background": "light"
     },
     "output_type": "display_data"
    }
   ],
   "execution_count": 17
  },
  {
   "metadata": {
    "ExecuteTime": {
     "end_time": "2024-11-15T09:41:30.802109Z",
     "start_time": "2024-11-15T09:41:30.731702Z"
    }
   },
   "cell_type": "code",
   "source": [
    "# Plot training & validation MAE values\n",
    "plt.plot(history.history['mae'])\n",
    "plt.plot(history.history['val_mae'])\n",
    "plt.title('JMA Model MAE')\n",
    "plt.ylabel('MAE')\n",
    "plt.xlabel('Epoch')\n",
    "plt.legend(['Train', 'Validation'], loc='upper right')\n",
    "plt.show()"
   ],
   "id": "dceb1b718b524351",
   "outputs": [
    {
     "data": {
      "text/plain": [
       "<Figure size 432x288 with 1 Axes>"
      ],
      "image/png": "[encoded data removed]"
     },
     "metadata": {
      "needs_background": "light"
     },
     "output_type": "display_data"
    }
   ],
   "execution_count": 18
  },
  {
   "metadata": {},
   "cell_type": "code",
   "outputs": [],
   "execution_count": null,
   "source": "",
   "id": "41578b38ab004e30"
  }
 ],
 "metadata": {
  "kernelspec": {
   "display_name": "Python 3",
   "language": "python",
   "name": "python3"
  },
  "language_info": {
   "codemirror_mode": {
    "name": "ipython",
    "version": 2
   },
   "file_extension": ".py",
   "mimetype": "text/x-python",
   "name": "python",
   "nbconvert_exporter": "python",
   "pygments_lexer": "ipython2",
   "version": "2.7.6"
  }
 },
 "nbformat": 4,
 "nbformat_minor": 5
}
